{
 "cells": [
  {
   "cell_type": "markdown",
   "metadata": {},
   "source": [
    "[FUENTE DE INFORMACION: Estudio de Conjunto de datos desequilibrados para la detección de fraude con tarjeta de crédito- url: (https://www.kaggle.com/datasets/dark06thunder/credit-card-dataset?select=credit_dataset.csv)](https://www.kaggle.com/datasets/dark06thunder/credit-card-dataset?select=credit_dataset.csv)"
   ]
  },
  {
   "cell_type": "markdown",
   "metadata": {},
   "source": [
    "<a id='Indice'></a>\n",
    "## Índice\n",
    "[Inicio ▲](#Indice)\n",
    "1. [Estudiando el conjunto de Datos](#estudiando-los-datos)\n",
    "    1. [Graficando las clases](#grafico-clases)\n",
    "1. [Aplicando SMOTE](#aplicando-smote)\n",
    "    1. [Evaluando Resultados - multiparametricos](#resultados-smote)"
   ]
  },
  {
   "cell_type": "code",
   "execution_count": 4,
   "metadata": {
    "scrolled": true
   },
   "outputs": [],
   "source": [
    "import pandas as pd \n",
    "\n",
    "import smote_variants as sv\n",
    "\n",
    "from sklearn.model_selection import train_test_split, GridSearchCV\n",
    "from sklearn.pipeline import Pipeline\n",
    "from sklearn.preprocessing import StandardScaler\n",
    "from sklearn.naive_bayes import GaussianNB\n",
    "from sklearn.ensemble import RandomForestClassifier\n"
   ]
  },
  {
   "cell_type": "markdown",
   "metadata": {},
   "source": [
    "## Preparacion de los datos"
   ]
  },
  {
   "cell_type": "code",
   "execution_count": 5,
   "metadata": {},
   "outputs": [],
   "source": [
    "df = pd.read_csv('credit_dataset.csv')"
   ]
  },
  {
   "cell_type": "code",
   "execution_count": 6,
   "metadata": {},
   "outputs": [],
   "source": [
    "df['GENDER'] = [0 if x == 'M' else 1 for x in df['GENDER']]\n",
    "df['CAR'] = [1 if x == 'Y' else 0 for x in df['CAR']]\n",
    "df['REALITY'] = [1 if x == 'Y' else 0 for x in df['REALITY']]\n",
    "dummy_income_type = pd.get_dummies(df['INCOME_TYPE'], prefix='INC_TYPE', drop_first=True)\n",
    "dummy_edu_type = pd.get_dummies(df['EDUCATION_TYPE'], prefix='EDU_TYPE', drop_first=True)\n",
    "dummy_family_type = pd.get_dummies(df['FAMILY_TYPE'], prefix='FAM_TYPE', drop_first=True)\n",
    "dummy_house_type = pd.get_dummies(df['HOUSE_TYPE'], prefix='HOUSE_TYPE', drop_first=True)\n",
    "to_drop = ['Unnamed: 0', 'ID', 'FLAG_MOBIL', 'INCOME_TYPE',\n",
    "           'EDUCATION_TYPE', 'FAMILY_TYPE', 'HOUSE_TYPE']\n",
    "df.drop(to_drop, axis=1, inplace=True)\n",
    "\n",
    "# Fusionar en un solo Dataframe\n",
    "merged = pd.concat([df, dummy_income_type, dummy_edu_type, dummy_family_type, dummy_house_type], axis=1)\n",
    "from sklearn.preprocessing import MinMaxScaler\n",
    "\n",
    "# Escalar solo columnas que tengan valores mayores que 1\n",
    "to_scale = [col for col in df.columns if df[col].max() > 1]\n",
    "mms = MinMaxScaler()\n",
    "scaled = mms.fit_transform(merged[to_scale])\n",
    "scaled = pd.DataFrame(scaled, columns=to_scale)\n",
    "\n",
    "# Reemplazar las columnas originales con escalas\n",
    "for col in scaled:\n",
    "    merged[col] = scaled[col]\n",
    "    \n",
    "merged.head()\n",
    "data = merged"
   ]
  },
  {
   "cell_type": "code",
   "execution_count": 7,
   "metadata": {},
   "outputs": [],
   "source": [
    "X, y = data.drop(['TARGET'], axis=1), data['TARGET']"
   ]
  },
  {
   "cell_type": "markdown",
   "metadata": {},
   "source": [
    "<a id='grafico-clases'></a>\n",
    "## Grafico de Clases\n",
    "[Inicio ▲](#Indice)"
   ]
  },
  {
   "cell_type": "code",
   "execution_count": 8,
   "metadata": {},
   "outputs": [
    {
     "data": {
      "text/plain": [
       "[Text(0, 0, '24712'), Text(0, 0, '422')]"
      ]
     },
     "execution_count": 8,
     "metadata": {},
     "output_type": "execute_result"
    },
    {
     "data": {
      "image/png": "[encoded data removed]",
      "text/plain": [
       "<Figure size 576x576 with 1 Axes>"
      ]
     },
     "metadata": {},
     "output_type": "display_data"
    }
   ],
   "source": [
    "import seaborn as sns\n",
    "\n",
    "%matplotlib inline\n",
    "sns.set(rc={'figure.figsize': [8, 8]}, font_scale=1.2)\n",
    "\n",
    "ax =  sns.countplot(x='TARGET', data=data, palette='rocket')\n",
    "\n",
    "abs_values = data['TARGET'].value_counts(ascending=False).values\n",
    "\n",
    "ax.bar_label(container=ax.containers[0], labels=abs_values)"
   ]
  },
  {
   "cell_type": "code",
   "execution_count": 9,
   "metadata": {},
   "outputs": [],
   "source": [
    "X_train, X_test, y_train, y_test= train_test_split(X, y, test_size= 0.25)"
   ]
  },
  {
   "cell_type": "markdown",
   "metadata": {},
   "source": [
    "<a id='aplicando-smote'></a>\n",
    "## Aplicando SMOTE\n",
    "[Inicio ▲](#Indice)\n",
    "\n",
    "## Montaje de un pipeline"
   ]
  },
  {
   "cell_type": "markdown",
   "metadata": {},
   "source": [
    "metricas: https://scikit-learn.org/stable/_sources/modules/model_evaluation.rst.txt"
   ]
  },
  {
   "cell_type": "code",
   "execution_count": 38,
   "metadata": {},
   "outputs": [
    {
     "name": "stderr",
     "output_type": "stream",
     "text": [
      "2022-05-14 23:33:04,052:INFO:SMOTE_IPF: Running sampling via ('SMOTE_IPF', \"{'proportion': 1.0, 'n_neighbors': 5, 'n_folds': 9, 'k': 3, 'p': 0.01, 'voting': 'majority', 'n_jobs': 1, 'classifier': DecisionTreeClassifier(random_state=2), 'random_state': None}\")\n",
      "2022-05-14 23:33:04,053:INFO:SMOTE: Running sampling via ('SMOTE', \"{'proportion': 1.0, 'n_neighbors': 5, 'n_jobs': 1, 'random_state': <module 'numpy.random' from 'C:\\\\\\\\Users\\\\\\\\FamiliaNatelloMedina\\\\\\\\AppData\\\\\\\\Roaming\\\\\\\\Python\\\\\\\\Python310\\\\\\\\site-packages\\\\\\\\numpy\\\\\\\\random\\\\\\\\__init__.py'>}\")\n",
      "2022-05-14 23:33:06,263:INFO:SMOTE_IPF: Removing 22 elements\n",
      "2022-05-14 23:33:08,351:INFO:SMOTE_IPF: Removing 0 elements\n",
      "2022-05-14 23:33:10,318:INFO:SMOTE_IPF: Removing 0 elements\n"
     ]
    },
    {
     "data": {
      "text/plain": [
       "[<smote_variants._smote_variants.distance_SMOTE at 0x1779421afe0>,\n",
       " <smote_variants._smote_variants.distance_SMOTE at 0x1779421afb0>,\n",
       " <smote_variants._smote_variants.distance_SMOTE at 0x1779421b1f0>,\n",
       " <smote_variants._smote_variants.distance_SMOTE at 0x177943332b0>,\n",
       " <smote_variants._smote_variants.distance_SMOTE at 0x177943318d0>,\n",
       " <smote_variants._smote_variants.distance_SMOTE at 0x17794330fa0>,\n",
       " <smote_variants._smote_variants.distance_SMOTE at 0x17794332440>,\n",
       " <smote_variants._smote_variants.distance_SMOTE at 0x17794330160>,\n",
       " <smote_variants._smote_variants.distance_SMOTE at 0x177943320e0>]"
      ]
     },
     "execution_count": 38,
     "metadata": {},
     "output_type": "execute_result"
    }
   ],
   "source": [
    "# oversampler= sv.SMOTE_TomekLinks()\n",
    "# oversampler= sv.SMOTE_ENN()\n",
    "oversampler= sv.SMOTE_IPF()\n",
    "classifier= GaussianNB()\n",
    "# classifier= RandomForestClassifier(random_state=42)\n",
    "model= Pipeline([\n",
    "                ('scale', StandardScaler()),\n",
    "                ('clf', sv.OversamplingClassifier(oversampler, classifier))\n",
    "            ])\n",
    "model.fit(X_train, y_train)\n",
    "param_grid= {'clf__oversampler':[sv.distance_SMOTE(proportion=0.2),\n",
    "                                 sv.distance_SMOTE(proportion=0.3),\n",
    "                                 sv.distance_SMOTE(proportion=0.4),\n",
    "                                 sv.distance_SMOTE(proportion=0.5),\n",
    "                                 sv.distance_SMOTE(proportion=0.6),\n",
    "                                 sv.distance_SMOTE(proportion=0.7),\n",
    "                                 sv.distance_SMOTE(proportion=0.8),\n",
    "                                 sv.distance_SMOTE(proportion=0.9),\n",
    "                                 sv.distance_SMOTE(proportion=1.0)]}\n",
    "param_grid['clf__oversampler']\n"
   ]
  },
  {
   "cell_type": "code",
   "execution_count": 39,
   "metadata": {},
   "outputs": [
    {
     "name": "stderr",
     "output_type": "stream",
     "text": [
      "2022-05-14 23:33:12,933:INFO:distance_SMOTE: Running sampling via ('distance_SMOTE', \"{'proportion': 0.2, 'n_neighbors': 5, 'n_jobs': 1, 'random_state': None}\")\n",
      "2022-05-14 23:33:13,088:INFO:distance_SMOTE: Running sampling via ('distance_SMOTE', \"{'proportion': 0.2, 'n_neighbors': 5, 'n_jobs': 1, 'random_state': None}\")\n"
     ]
    },
    {
     "name": "stdout",
     "output_type": "stream",
     "text": [
      "Fitting 3 folds for each of 9 candidates, totalling 27 fits\n",
      "[CV] END clf__oversampler=('distance_SMOTE', \"{'proportion': 0.2, 'n_neighbors': 5, 'n_jobs': 1, 'random_state': None}\"); total time=   0.1s\n"
     ]
    },
    {
     "name": "stderr",
     "output_type": "stream",
     "text": [
      "2022-05-14 23:33:13,236:INFO:distance_SMOTE: Running sampling via ('distance_SMOTE', \"{'proportion': 0.2, 'n_neighbors': 5, 'n_jobs': 1, 'random_state': None}\")\n",
      "2022-05-14 23:33:13,378:INFO:distance_SMOTE: Running sampling via ('distance_SMOTE', \"{'proportion': 0.3, 'n_neighbors': 5, 'n_jobs': 1, 'random_state': None}\")\n"
     ]
    },
    {
     "name": "stdout",
     "output_type": "stream",
     "text": [
      "[CV] END clf__oversampler=('distance_SMOTE', \"{'proportion': 0.2, 'n_neighbors': 5, 'n_jobs': 1, 'random_state': None}\"); total time=   0.0s\n",
      "[CV] END clf__oversampler=('distance_SMOTE', \"{'proportion': 0.2, 'n_neighbors': 5, 'n_jobs': 1, 'random_state': None}\"); total time=   0.0s\n"
     ]
    },
    {
     "name": "stderr",
     "output_type": "stream",
     "text": [
      "2022-05-14 23:33:13,569:INFO:distance_SMOTE: Running sampling via ('distance_SMOTE', \"{'proportion': 0.3, 'n_neighbors': 5, 'n_jobs': 1, 'random_state': None}\")\n"
     ]
    },
    {
     "name": "stdout",
     "output_type": "stream",
     "text": [
      "[CV] END clf__oversampler=('distance_SMOTE', \"{'proportion': 0.3, 'n_neighbors': 5, 'n_jobs': 1, 'random_state': None}\"); total time=   0.1s\n",
      "[CV] END clf__oversampler=('distance_SMOTE', \"{'proportion': 0.3, 'n_neighbors': 5, 'n_jobs': 1, 'random_state': None}\"); total time=   0.1s\n"
     ]
    },
    {
     "name": "stderr",
     "output_type": "stream",
     "text": [
      "2022-05-14 23:33:13,759:INFO:distance_SMOTE: Running sampling via ('distance_SMOTE', \"{'proportion': 0.3, 'n_neighbors': 5, 'n_jobs': 1, 'random_state': None}\")\n",
      "2022-05-14 23:33:13,947:INFO:distance_SMOTE: Running sampling via ('distance_SMOTE', \"{'proportion': 0.4, 'n_neighbors': 5, 'n_jobs': 1, 'random_state': None}\")\n"
     ]
    },
    {
     "name": "stdout",
     "output_type": "stream",
     "text": [
      "[CV] END clf__oversampler=('distance_SMOTE', \"{'proportion': 0.3, 'n_neighbors': 5, 'n_jobs': 1, 'random_state': None}\"); total time=   0.1s\n"
     ]
    },
    {
     "name": "stderr",
     "output_type": "stream",
     "text": [
      "2022-05-14 23:33:14,211:INFO:distance_SMOTE: Running sampling via ('distance_SMOTE', \"{'proportion': 0.4, 'n_neighbors': 5, 'n_jobs': 1, 'random_state': None}\")\n"
     ]
    },
    {
     "name": "stdout",
     "output_type": "stream",
     "text": [
      "[CV] END clf__oversampler=('distance_SMOTE', \"{'proportion': 0.4, 'n_neighbors': 5, 'n_jobs': 1, 'random_state': None}\"); total time=   0.2s\n"
     ]
    },
    {
     "name": "stderr",
     "output_type": "stream",
     "text": [
      "2022-05-14 23:33:14,465:INFO:distance_SMOTE: Running sampling via ('distance_SMOTE', \"{'proportion': 0.4, 'n_neighbors': 5, 'n_jobs': 1, 'random_state': None}\")\n"
     ]
    },
    {
     "name": "stdout",
     "output_type": "stream",
     "text": [
      "[CV] END clf__oversampler=('distance_SMOTE', \"{'proportion': 0.4, 'n_neighbors': 5, 'n_jobs': 1, 'random_state': None}\"); total time=   0.2s\n"
     ]
    },
    {
     "name": "stderr",
     "output_type": "stream",
     "text": [
      "2022-05-14 23:33:14,728:INFO:distance_SMOTE: Running sampling via ('distance_SMOTE', \"{'proportion': 0.5, 'n_neighbors': 5, 'n_jobs': 1, 'random_state': None}\")\n"
     ]
    },
    {
     "name": "stdout",
     "output_type": "stream",
     "text": [
      "[CV] END clf__oversampler=('distance_SMOTE', \"{'proportion': 0.4, 'n_neighbors': 5, 'n_jobs': 1, 'random_state': None}\"); total time=   0.2s\n"
     ]
    },
    {
     "name": "stderr",
     "output_type": "stream",
     "text": [
      "2022-05-14 23:33:15,045:INFO:distance_SMOTE: Running sampling via ('distance_SMOTE', \"{'proportion': 0.5, 'n_neighbors': 5, 'n_jobs': 1, 'random_state': None}\")\n"
     ]
    },
    {
     "name": "stdout",
     "output_type": "stream",
     "text": [
      "[CV] END clf__oversampler=('distance_SMOTE', \"{'proportion': 0.5, 'n_neighbors': 5, 'n_jobs': 1, 'random_state': None}\"); total time=   0.2s\n"
     ]
    },
    {
     "name": "stderr",
     "output_type": "stream",
     "text": [
      "2022-05-14 23:33:15,365:INFO:distance_SMOTE: Running sampling via ('distance_SMOTE', \"{'proportion': 0.5, 'n_neighbors': 5, 'n_jobs': 1, 'random_state': None}\")\n"
     ]
    },
    {
     "name": "stdout",
     "output_type": "stream",
     "text": [
      "[CV] END clf__oversampler=('distance_SMOTE', \"{'proportion': 0.5, 'n_neighbors': 5, 'n_jobs': 1, 'random_state': None}\"); total time=   0.2s\n"
     ]
    },
    {
     "name": "stderr",
     "output_type": "stream",
     "text": [
      "2022-05-14 23:33:15,661:INFO:distance_SMOTE: Running sampling via ('distance_SMOTE', \"{'proportion': 0.6, 'n_neighbors': 5, 'n_jobs': 1, 'random_state': None}\")\n"
     ]
    },
    {
     "name": "stdout",
     "output_type": "stream",
     "text": [
      "[CV] END clf__oversampler=('distance_SMOTE', \"{'proportion': 0.5, 'n_neighbors': 5, 'n_jobs': 1, 'random_state': None}\"); total time=   0.2s\n"
     ]
    },
    {
     "name": "stderr",
     "output_type": "stream",
     "text": [
      "2022-05-14 23:33:16,000:INFO:distance_SMOTE: Running sampling via ('distance_SMOTE', \"{'proportion': 0.6, 'n_neighbors': 5, 'n_jobs': 1, 'random_state': None}\")\n"
     ]
    },
    {
     "name": "stdout",
     "output_type": "stream",
     "text": [
      "[CV] END clf__oversampler=('distance_SMOTE', \"{'proportion': 0.6, 'n_neighbors': 5, 'n_jobs': 1, 'random_state': None}\"); total time=   0.2s\n"
     ]
    },
    {
     "name": "stderr",
     "output_type": "stream",
     "text": [
      "2022-05-14 23:33:16,413:INFO:distance_SMOTE: Running sampling via ('distance_SMOTE', \"{'proportion': 0.6, 'n_neighbors': 5, 'n_jobs': 1, 'random_state': None}\")\n"
     ]
    },
    {
     "name": "stdout",
     "output_type": "stream",
     "text": [
      "[CV] END clf__oversampler=('distance_SMOTE', \"{'proportion': 0.6, 'n_neighbors': 5, 'n_jobs': 1, 'random_state': None}\"); total time=   0.3s\n"
     ]
    },
    {
     "name": "stderr",
     "output_type": "stream",
     "text": [
      "2022-05-14 23:33:16,765:INFO:distance_SMOTE: Running sampling via ('distance_SMOTE', \"{'proportion': 0.7, 'n_neighbors': 5, 'n_jobs': 1, 'random_state': None}\")\n"
     ]
    },
    {
     "name": "stdout",
     "output_type": "stream",
     "text": [
      "[CV] END clf__oversampler=('distance_SMOTE', \"{'proportion': 0.6, 'n_neighbors': 5, 'n_jobs': 1, 'random_state': None}\"); total time=   0.2s\n"
     ]
    },
    {
     "name": "stderr",
     "output_type": "stream",
     "text": [
      "2022-05-14 23:33:17,210:INFO:distance_SMOTE: Running sampling via ('distance_SMOTE', \"{'proportion': 0.7, 'n_neighbors': 5, 'n_jobs': 1, 'random_state': None}\")\n"
     ]
    },
    {
     "name": "stdout",
     "output_type": "stream",
     "text": [
      "[CV] END clf__oversampler=('distance_SMOTE', \"{'proportion': 0.7, 'n_neighbors': 5, 'n_jobs': 1, 'random_state': None}\"); total time=   0.3s\n"
     ]
    },
    {
     "name": "stderr",
     "output_type": "stream",
     "text": [
      "2022-05-14 23:33:17,614:INFO:distance_SMOTE: Running sampling via ('distance_SMOTE', \"{'proportion': 0.7, 'n_neighbors': 5, 'n_jobs': 1, 'random_state': None}\")\n"
     ]
    },
    {
     "name": "stdout",
     "output_type": "stream",
     "text": [
      "[CV] END clf__oversampler=('distance_SMOTE', \"{'proportion': 0.7, 'n_neighbors': 5, 'n_jobs': 1, 'random_state': None}\"); total time=   0.3s\n"
     ]
    },
    {
     "name": "stderr",
     "output_type": "stream",
     "text": [
      "2022-05-14 23:33:17,998:INFO:distance_SMOTE: Running sampling via ('distance_SMOTE', \"{'proportion': 0.8, 'n_neighbors': 5, 'n_jobs': 1, 'random_state': None}\")\n"
     ]
    },
    {
     "name": "stdout",
     "output_type": "stream",
     "text": [
      "[CV] END clf__oversampler=('distance_SMOTE', \"{'proportion': 0.7, 'n_neighbors': 5, 'n_jobs': 1, 'random_state': None}\"); total time=   0.3s\n"
     ]
    },
    {
     "name": "stderr",
     "output_type": "stream",
     "text": [
      "2022-05-14 23:33:18,522:INFO:distance_SMOTE: Running sampling via ('distance_SMOTE', \"{'proportion': 0.8, 'n_neighbors': 5, 'n_jobs': 1, 'random_state': None}\")\n"
     ]
    },
    {
     "name": "stdout",
     "output_type": "stream",
     "text": [
      "[CV] END clf__oversampler=('distance_SMOTE', \"{'proportion': 0.8, 'n_neighbors': 5, 'n_jobs': 1, 'random_state': None}\"); total time=   0.4s\n"
     ]
    },
    {
     "name": "stderr",
     "output_type": "stream",
     "text": [
      "2022-05-14 23:33:18,957:INFO:distance_SMOTE: Running sampling via ('distance_SMOTE', \"{'proportion': 0.8, 'n_neighbors': 5, 'n_jobs': 1, 'random_state': None}\")\n"
     ]
    },
    {
     "name": "stdout",
     "output_type": "stream",
     "text": [
      "[CV] END clf__oversampler=('distance_SMOTE', \"{'proportion': 0.8, 'n_neighbors': 5, 'n_jobs': 1, 'random_state': None}\"); total time=   0.3s\n"
     ]
    },
    {
     "name": "stderr",
     "output_type": "stream",
     "text": [
      "2022-05-14 23:33:19,378:INFO:distance_SMOTE: Running sampling via ('distance_SMOTE', \"{'proportion': 0.9, 'n_neighbors': 5, 'n_jobs': 1, 'random_state': None}\")\n"
     ]
    },
    {
     "name": "stdout",
     "output_type": "stream",
     "text": [
      "[CV] END clf__oversampler=('distance_SMOTE', \"{'proportion': 0.8, 'n_neighbors': 5, 'n_jobs': 1, 'random_state': None}\"); total time=   0.3s\n"
     ]
    },
    {
     "name": "stderr",
     "output_type": "stream",
     "text": [
      "2022-05-14 23:33:19,853:INFO:distance_SMOTE: Running sampling via ('distance_SMOTE', \"{'proportion': 0.9, 'n_neighbors': 5, 'n_jobs': 1, 'random_state': None}\")\n"
     ]
    },
    {
     "name": "stdout",
     "output_type": "stream",
     "text": [
      "[CV] END clf__oversampler=('distance_SMOTE', \"{'proportion': 0.9, 'n_neighbors': 5, 'n_jobs': 1, 'random_state': None}\"); total time=   0.4s\n"
     ]
    },
    {
     "name": "stderr",
     "output_type": "stream",
     "text": [
      "2022-05-14 23:33:20,351:INFO:distance_SMOTE: Running sampling via ('distance_SMOTE', \"{'proportion': 0.9, 'n_neighbors': 5, 'n_jobs': 1, 'random_state': None}\")\n"
     ]
    },
    {
     "name": "stdout",
     "output_type": "stream",
     "text": [
      "[CV] END clf__oversampler=('distance_SMOTE', \"{'proportion': 0.9, 'n_neighbors': 5, 'n_jobs': 1, 'random_state': None}\"); total time=   0.4s\n"
     ]
    },
    {
     "name": "stderr",
     "output_type": "stream",
     "text": [
      "2022-05-14 23:33:20,836:INFO:distance_SMOTE: Running sampling via ('distance_SMOTE', \"{'proportion': 1.0, 'n_neighbors': 5, 'n_jobs': 1, 'random_state': None}\")\n"
     ]
    },
    {
     "name": "stdout",
     "output_type": "stream",
     "text": [
      "[CV] END clf__oversampler=('distance_SMOTE', \"{'proportion': 0.9, 'n_neighbors': 5, 'n_jobs': 1, 'random_state': None}\"); total time=   0.4s\n"
     ]
    },
    {
     "name": "stderr",
     "output_type": "stream",
     "text": [
      "2022-05-14 23:33:21,396:INFO:distance_SMOTE: Running sampling via ('distance_SMOTE', \"{'proportion': 1.0, 'n_neighbors': 5, 'n_jobs': 1, 'random_state': None}\")\n"
     ]
    },
    {
     "name": "stdout",
     "output_type": "stream",
     "text": [
      "[CV] END clf__oversampler=('distance_SMOTE', \"{'proportion': 1.0, 'n_neighbors': 5, 'n_jobs': 1, 'random_state': None}\"); total time=   0.4s\n"
     ]
    },
    {
     "name": "stderr",
     "output_type": "stream",
     "text": [
      "2022-05-14 23:33:21,935:INFO:distance_SMOTE: Running sampling via ('distance_SMOTE', \"{'proportion': 1.0, 'n_neighbors': 5, 'n_jobs': 1, 'random_state': None}\")\n"
     ]
    },
    {
     "name": "stdout",
     "output_type": "stream",
     "text": [
      "[CV] END clf__oversampler=('distance_SMOTE', \"{'proportion': 1.0, 'n_neighbors': 5, 'n_jobs': 1, 'random_state': None}\"); total time=   0.4s\n"
     ]
    },
    {
     "name": "stderr",
     "output_type": "stream",
     "text": [
      "2022-05-14 23:33:22,451:INFO:distance_SMOTE: Running sampling via ('distance_SMOTE', \"{'proportion': 0.9, 'n_neighbors': 5, 'n_jobs': 1, 'random_state': None}\")\n"
     ]
    },
    {
     "name": "stdout",
     "output_type": "stream",
     "text": [
      "[CV] END clf__oversampler=('distance_SMOTE', \"{'proportion': 1.0, 'n_neighbors': 5, 'n_jobs': 1, 'random_state': None}\"); total time=   0.4s\n"
     ]
    },
    {
     "data": {
      "text/plain": [
       "GridSearchCV(cv=3,\n",
       "             estimator=Pipeline(steps=[('scale', StandardScaler()),\n",
       "                                       ('clf',\n",
       "                                        OversamplingClassifier(classifier=GaussianNB(),\n",
       "                                                               oversampler=<smote_variants._smote_variants.SMOTE_IPF object at 0x0000017794331540>))]),\n",
       "             n_jobs=1,\n",
       "             param_grid={'clf__oversampler': [<smote_variants._smote_variants.distance_SMOTE object at 0x000001779421AFE0>,\n",
       "                                              <smote_variants._smote_va...\n",
       "                                              <smote_variants._smote_variants.distance_SMOTE object at 0x0000017794330FA0>,\n",
       "                                              <smote_variants._smote_variants.distance_SMOTE object at 0x0000017794332440>,\n",
       "                                              <smote_variants._smote_variants.distance_SMOTE object at 0x0000017794330160>,\n",
       "                                              <smote_variants._smote_variants.distance_SMOTE object at 0x00000177943320E0>]},\n",
       "             refit='recall',\n",
       "             scoring={'f1': 'f1', 'precision': 'precision', 'recall': 'recall'},\n",
       "             verbose=2)"
      ]
     },
     "execution_count": 39,
     "metadata": {},
     "output_type": "execute_result"
    }
   ],
   "source": [
    "scoring = {\"recall\": \"recall\", \"precision\": \"precision\", \"f1\" : \"f1\"}\n",
    "grid= GridSearchCV(model, param_grid= param_grid, cv= 3, n_jobs= 1, verbose= 2, scoring= scoring, refit='recall' ) #probar con lista ['f1','recall','precision']\n",
    "grid.fit(X_train, y_train)"
   ]
  },
  {
   "cell_type": "markdown",
   "metadata": {},
   "source": [
    "<a id='resultados-smote'></a>\n",
    "## Evaluando los resultados de SMOTE\n",
    "[Inicio ▲](#Indice)"
   ]
  },
  {
   "cell_type": "code",
   "execution_count": 40,
   "metadata": {},
   "outputs": [
    {
     "name": "stdout",
     "output_type": "stream",
     "text": [
      "<bound method BaseEstimator.get_params of GridSearchCV(cv=3,\n",
      "             estimator=Pipeline(steps=[('scale', StandardScaler()),\n",
      "                                       ('clf',\n",
      "                                        OversamplingClassifier(classifier=GaussianNB(),\n",
      "                                                               oversampler=<smote_variants._smote_variants.SMOTE_IPF object at 0x0000017794331540>))]),\n",
      "             n_jobs=1,\n",
      "             param_grid={'clf__oversampler': [<smote_variants._smote_variants.distance_SMOTE object at 0x000001779421AFE0>,\n",
      "                                              <smote_variants._smote_va...\n",
      "                                              <smote_variants._smote_variants.distance_SMOTE object at 0x0000017794330FA0>,\n",
      "                                              <smote_variants._smote_variants.distance_SMOTE object at 0x0000017794332440>,\n",
      "                                              <smote_variants._smote_variants.distance_SMOTE object at 0x0000017794330160>,\n",
      "                                              <smote_variants._smote_variants.distance_SMOTE object at 0x00000177943320E0>]},\n",
      "             refit='recall',\n",
      "             scoring={'f1': 'f1', 'precision': 'precision', 'recall': 'recall'},\n",
      "             verbose=2)>\n"
     ]
    },
    {
     "data": {
      "text/html": [
       "<div>\n",
       "<style scoped>\n",
       "    .dataframe tbody tr th:only-of-type {\n",
       "        vertical-align: middle;\n",
       "    }\n",
       "\n",
       "    .dataframe tbody tr th {\n",
       "        vertical-align: top;\n",
       "    }\n",
       "\n",
       "    .dataframe thead th {\n",
       "        text-align: right;\n",
       "    }\n",
       "</style>\n",
       "<table border=\"1\" class=\"dataframe\">\n",
       "  <thead>\n",
       "    <tr style=\"text-align: right;\">\n",
       "      <th></th>\n",
       "      <th>Recall</th>\n",
       "      <th>Precision</th>\n",
       "      <th>F1</th>\n",
       "    </tr>\n",
       "  </thead>\n",
       "  <tbody>\n",
       "    <tr>\n",
       "      <th>0</th>\n",
       "      <td>0.155498</td>\n",
       "      <td>0.025942</td>\n",
       "      <td>0.040832</td>\n",
       "    </tr>\n",
       "    <tr>\n",
       "      <th>1</th>\n",
       "      <td>0.145726</td>\n",
       "      <td>0.021817</td>\n",
       "      <td>0.035944</td>\n",
       "    </tr>\n",
       "    <tr>\n",
       "      <th>2</th>\n",
       "      <td>0.207247</td>\n",
       "      <td>0.024890</td>\n",
       "      <td>0.041473</td>\n",
       "    </tr>\n",
       "    <tr>\n",
       "      <th>3</th>\n",
       "      <td>0.200806</td>\n",
       "      <td>0.023464</td>\n",
       "      <td>0.038210</td>\n",
       "    </tr>\n",
       "    <tr>\n",
       "      <th>4</th>\n",
       "      <td>0.204042</td>\n",
       "      <td>0.022475</td>\n",
       "      <td>0.036783</td>\n",
       "    </tr>\n",
       "    <tr>\n",
       "      <th>5</th>\n",
       "      <td>0.236405</td>\n",
       "      <td>0.021951</td>\n",
       "      <td>0.037994</td>\n",
       "    </tr>\n",
       "    <tr>\n",
       "      <th>6</th>\n",
       "      <td>0.217019</td>\n",
       "      <td>0.020932</td>\n",
       "      <td>0.035941</td>\n",
       "    </tr>\n",
       "    <tr>\n",
       "      <th>7</th>\n",
       "      <td>0.262358</td>\n",
       "      <td>0.020150</td>\n",
       "      <td>0.035973</td>\n",
       "    </tr>\n",
       "    <tr>\n",
       "      <th>8</th>\n",
       "      <td>0.255854</td>\n",
       "      <td>0.019432</td>\n",
       "      <td>0.034988</td>\n",
       "    </tr>\n",
       "  </tbody>\n",
       "</table>\n",
       "</div>"
      ],
      "text/plain": [
       "     Recall  Precision        F1\n",
       "0  0.155498   0.025942  0.040832\n",
       "1  0.145726   0.021817  0.035944\n",
       "2  0.207247   0.024890  0.041473\n",
       "3  0.200806   0.023464  0.038210\n",
       "4  0.204042   0.022475  0.036783\n",
       "5  0.236405   0.021951  0.037994\n",
       "6  0.217019   0.020932  0.035941\n",
       "7  0.262358   0.020150  0.035973\n",
       "8  0.255854   0.019432  0.034988"
      ]
     },
     "execution_count": 40,
     "metadata": {},
     "output_type": "execute_result"
    }
   ],
   "source": [
    "datos = {'Recall' : grid.cv_results_['mean_test_recall'],\n",
    "         'Precision' : grid.cv_results_['mean_test_precision'],\n",
    "         'F1' : grid.cv_results_['mean_test_f1']}\n",
    "\n",
    "df = pd.DataFrame(datos)\n",
    "\n",
    "print(grid.get_params)\n",
    "df"
   ]
  },
  {
   "cell_type": "code",
   "execution_count": null,
   "metadata": {},
   "outputs": [],
   "source": []
  }
 ],
 "metadata": {
  "kernelspec": {
   "display_name": "Python 3",
   "language": "python",
   "name": "python3"
  },
  "language_info": {
   "codemirror_mode": {
    "name": "ipython",
    "version": 3
   },
   "file_extension": ".py",
   "mimetype": "text/x-python",
   "name": "python",
   "nbconvert_exporter": "python",
   "pygments_lexer": "ipython3",
   "version": "3.10.2"
  }
 },
 "nbformat": 4,
 "nbformat_minor": 2
}
