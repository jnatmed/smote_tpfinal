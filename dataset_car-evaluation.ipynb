{
 "cells": [
  {
   "cell_type": "markdown",
   "metadata": {},
   "source": [
    "[FUENTE DE INFORMACION: - url: (https://archive.ics.uci.edu/ml/datasets/car+evaluation)](https://archive.ics.uci.edu/ml/datasets/car+evaluation)"
   ]
  },
  {
   "cell_type": "markdown",
   "metadata": {},
   "source": [
    "<a id='Indice'></a>\n",
    "## Índice\n",
    "[Inicio ▲](#Indice)\n",
    "1. [Estudiando el conjunto de Datos](#estudiando-los-datos)\n",
    "    1. [Graficando las clases](#grafico-clases)\n",
    "1. [Aplicando SMOTE](#aplicando-smote)\n",
    "    1. [Aplicando SMOTE con las proportions modificadas](#aplicando-smote-proportion)\n",
    "        1. [Matriz de Confusion](#smote-matriz_confusion)\n",
    "    1. [SMOTE IPF con proportion modificado](#smote-ipf-proportion0.7)\n",
    "        1. [Matriz de Confusion](#smote_ipf-matriz_confusion)\n",
    "    1. [SMOTE ENN con proportion modificado](#smote-enn-proportion0.7)\n",
    "        1. [Matriz de Confusion](#smote_enn-matriz_confusion)\n",
    "    1. [SMOTE TOMEKLinks con proportion modificado](#smote-tomekLinks-proportion0.7)\n",
    "        1. [Matriz de Confusion](#smote_tklinks-matriz_confusion)\n",
    "    1. [Analisis SMOTE: Mejor estimador](#analisis-smote-mejor_estimador)"
   ]
  },
  {
   "cell_type": "markdown",
   "metadata": {},
   "source": [
    "<a id='estudiando-los-datos'></a>\n",
    "## Estudiando el conjunto de Datos\n",
    "[Inicio ▲](#Indice)"
   ]
  },
  {
   "cell_type": "code",
   "execution_count": 1,
   "metadata": {},
   "outputs": [],
   "source": [
    "import pandas as pd\n",
    "import category_encoders as ce \n",
    "from sklearn.model_selection import train_test_split"
   ]
  },
  {
   "cell_type": "code",
   "execution_count": 2,
   "metadata": {},
   "outputs": [
    {
     "name": "stdout",
     "output_type": "stream",
     "text": [
      "Atributo: maint con Niveles : ['vhigh' 'high' 'med' 'low'] \n",
      "Atributo: doors con Niveles : ['2' '3' '4' '5more'] \n",
      "Atributo: persons con Niveles : ['2' '4' 'more'] \n",
      "Atributo: lug_boot con Niveles : ['small' 'med' 'big'] \n",
      "Atributo: safety con Niveles : ['low' 'med' 'high'] \n",
      "Atributo: class con Niveles : [0 1] \n",
      "1    432\n",
      "2    432\n",
      "3    432\n",
      "4    432\n",
      "Name: buying, dtype: int64\n",
      "1    432\n",
      "2    432\n",
      "3    432\n",
      "4    432\n",
      "Name: maint, dtype: int64\n",
      "1    432\n",
      "2    432\n",
      "3    432\n",
      "4    432\n",
      "Name: doors, dtype: int64\n",
      "1    576\n",
      "2    576\n",
      "3    576\n",
      "Name: persons, dtype: int64\n",
      "1    576\n",
      "2    576\n",
      "3    576\n",
      "Name: lug_boot, dtype: int64\n",
      "1    576\n",
      "2    576\n",
      "3    576\n",
      "Name: safety, dtype: int64\n",
      "0    1210\n",
      "1     518\n",
      "Name: class, dtype: int64\n",
      "(1157, 6)\n",
      "(571, 6)\n"
     ]
    }
   ],
   "source": [
    "data = pd.read_csv(\"car_evaluation.csv\",header=None)\n",
    "data.head()\n",
    "col_names = ['buying','maint','doors','persons','lug_boot','safety','class']\n",
    "data.columns = col_names\n",
    "data=data.replace({\"unacc\":0,\"acc\":1, \"good\":1, \"vgood\":1})\n",
    "def show(data):\n",
    "  for i in data.columns[1:]:\n",
    "    print(\"Atributo: {} con Niveles : {} \".format(i,data[i].unique()))\n",
    "\n",
    "show(data)\n",
    "data.dtypes\n",
    "encoder = ce.OrdinalEncoder(cols = ['buying','maint','doors','persons','lug_boot','safety'])\n",
    "data = encoder.fit_transform(data)\n",
    "data.head()\n",
    "for col in col_names:\n",
    "    print(data[col].value_counts())  \n",
    "data.isnull().sum()\n",
    "data['class'].value_counts()\n",
    "X = data.drop(['class'], axis=1)\n",
    "\n",
    "y = data['class']\n",
    "from sklearn.model_selection import train_test_split\n",
    "X_train, X_test, y_train, y_test = train_test_split(X, y, test_size= 0.33, random_state=42)\n",
    "print(X_train.shape)\n",
    "print(X_test.shape)"
   ]
  },
  {
   "cell_type": "code",
   "execution_count": 3,
   "metadata": {},
   "outputs": [
    {
     "name": "stdout",
     "output_type": "stream",
     "text": [
      "inaceptable: 1210\n",
      "aceptable: 518\n"
     ]
    }
   ],
   "source": [
    "print(\"inaceptable: {}\".format(len(y[y==0])))\n",
    "print(\"aceptable: {}\".format(len(y[y==1])))"
   ]
  },
  {
   "cell_type": "code",
   "execution_count": 4,
   "metadata": {},
   "outputs": [],
   "source": [
    "from sklearn.model_selection import GridSearchCV\n",
    "from sklearn.ensemble import RandomForestClassifier"
   ]
  },
  {
   "cell_type": "code",
   "execution_count": 5,
   "metadata": {},
   "outputs": [
    {
     "data": {
      "text/plain": [
       "0.9369527145359019"
      ]
     },
     "execution_count": 5,
     "metadata": {},
     "output_type": "execute_result"
    }
   ],
   "source": [
    "clasifier = RandomForestClassifier(max_depth=3, random_state=0)\n",
    "\n",
    "# fit the model\n",
    "\n",
    "clasifier.fit(X_train,y_train)\n",
    "y_pred=clasifier.predict(X_test)\n",
    "clasifier.score(X_test,y_test)"
   ]
  },
  {
   "cell_type": "code",
   "execution_count": 6,
   "metadata": {},
   "outputs": [
    {
     "name": "stdout",
     "output_type": "stream",
     "text": [
      "Confusion matrix\n",
      "\n",
      " [[392   5]\n",
      " [ 31 143]]\n"
     ]
    }
   ],
   "source": [
    "from sklearn.metrics import confusion_matrix\n",
    "\n",
    "cm = confusion_matrix(y_test, y_pred)\n",
    "\n",
    "print('Confusion matrix\\n\\n', cm)"
   ]
  },
  {
   "cell_type": "code",
   "execution_count": 7,
   "metadata": {},
   "outputs": [
    {
     "name": "stdout",
     "output_type": "stream",
     "text": [
      "              precision    recall  f1-score   support\n",
      "\n",
      "           0       0.93      0.99      0.96       397\n",
      "           1       0.97      0.82      0.89       174\n",
      "\n",
      "    accuracy                           0.94       571\n",
      "   macro avg       0.95      0.90      0.92       571\n",
      "weighted avg       0.94      0.94      0.94       571\n",
      "\n"
     ]
    }
   ],
   "source": [
    "from sklearn.metrics import classification_report\n",
    "\n",
    "print(classification_report(y_test, y_pred))"
   ]
  },
  {
   "cell_type": "code",
   "execution_count": 8,
   "metadata": {},
   "outputs": [
    {
     "data": {
      "image/png": "[encoded data removed]",
      "text/plain": [
       "<Figure size 1440x720 with 2 Axes>"
      ]
     },
     "metadata": {
      "needs_background": "light"
     },
     "output_type": "display_data"
    }
   ],
   "source": [
    "import matplotlib.pyplot as plt\n",
    "import seaborn as sns\n",
    "\n",
    "# corr_df = data.corr()\n",
    "corr_df = data.corr(method='pearson')\n",
    "\n",
    "plt.figure(figsize=(20, 10))\n",
    "sns.heatmap(corr_df, annot=True)\n",
    "plt.title('Coeficiente Correlacion Pearson EVALUACION DEL AUTOMOVIL', fontsize=16)\n",
    "plt.show()"
   ]
  },
  {
   "cell_type": "markdown",
   "metadata": {},
   "source": [
    "<a id='grafico-clases'></a>\n",
    "## Grafico de Clases\n",
    "[Inicio ▲](#Indice)"
   ]
  },
  {
   "cell_type": "code",
   "execution_count": 9,
   "metadata": {},
   "outputs": [
    {
     "data": {
      "text/plain": [
       "Text(0.5, 1.0, 'Distribucion de clases sin aplicar SMOTE')"
      ]
     },
     "execution_count": 9,
     "metadata": {},
     "output_type": "execute_result"
    },
    {
     "data": {
      "image/png": "[encoded data removed]",
      "text/plain": [
       "<Figure size 432x288 with 1 Axes>"
      ]
     },
     "metadata": {
      "needs_background": "light"
     },
     "output_type": "display_data"
    }
   ],
   "source": [
    "ax =  sns.countplot(x='class', data=data, palette='rocket')\n",
    "\n",
    "abs_values = data['class'].value_counts(ascending=False).values\n",
    "\n",
    "ax.set_ylabel('Ejemplos')\n",
    "ax.set_xlabel('Evaluacion del Automovil: 0 = inaceptable, 1 = aceptable')\n",
    "ax.bar_label(container=ax.containers[0], labels=abs_values)\n",
    "ax.set_title('Distribucion de clases sin aplicar SMOTE')"
   ]
  },
  {
   "cell_type": "markdown",
   "metadata": {},
   "source": [
    "<a id='aplicando-smote'></a>\n",
    "## Aplicando SMOTE\n",
    "[Inicio ▲](#Indice)"
   ]
  },
  {
   "cell_type": "code",
   "execution_count": 10,
   "metadata": {},
   "outputs": [],
   "source": [
    "import smote_variants as sv\n",
    "from sklearn.pipeline import Pipeline\n",
    "from sklearn.preprocessing import StandardScaler\n",
    "from sklearn.naive_bayes import GaussianNB\n"
   ]
  },
  {
   "cell_type": "code",
   "execution_count": 36,
   "metadata": {},
   "outputs": [
    {
     "name": "stderr",
     "output_type": "stream",
     "text": [
      "2022-06-07 23:05:57,587:INFO:SMOTE_TomekLinks: Running sampling via ('SMOTE_TomekLinks', \"{'proportion': 1.0, 'n_neighbors': 5, 'n_jobs': 1, 'random_state': None}\")\n",
      "2022-06-07 23:05:57,588:INFO:SMOTE: Running sampling via ('SMOTE', \"{'proportion': 1.0, 'n_neighbors': 5, 'n_jobs': 1, 'random_state': <module 'numpy.random' from 'C:\\\\\\\\Users\\\\\\\\FamiliaNatelloMedina\\\\\\\\AppData\\\\\\\\Roaming\\\\\\\\Python\\\\\\\\Python310\\\\\\\\site-packages\\\\\\\\numpy\\\\\\\\random\\\\\\\\__init__.py'>}\")\n",
      "2022-06-07 23:05:57,597:INFO:TomekLinkRemoval: Running noise removal via TomekLinkRemoval\n"
     ]
    },
    {
     "data": {
      "text/plain": [
       "[<smote_variants._smote_variants.distance_SMOTE at 0x2b73a2f47c0>,\n",
       " <smote_variants._smote_variants.distance_SMOTE at 0x2b73a2f5870>,\n",
       " <smote_variants._smote_variants.distance_SMOTE at 0x2b73a2f46d0>,\n",
       " <smote_variants._smote_variants.distance_SMOTE at 0x2b73a2f4040>,\n",
       " <smote_variants._smote_variants.distance_SMOTE at 0x2b73a2f4dc0>,\n",
       " <smote_variants._smote_variants.distance_SMOTE at 0x2b73a2f4ac0>,\n",
       " <smote_variants._smote_variants.distance_SMOTE at 0x2b73a2f46a0>,\n",
       " <smote_variants._smote_variants.distance_SMOTE at 0x2b73a2f5b70>,\n",
       " <smote_variants._smote_variants.distance_SMOTE at 0x2b73a2f4130>]"
      ]
     },
     "execution_count": 36,
     "metadata": {},
     "output_type": "execute_result"
    }
   ],
   "source": [
    "# oversampler= sv.SMOTE()\n",
    "oversampler= sv.SMOTE_TomekLinks()\n",
    "# oversampler= sv.SMOTE_ENN()\n",
    "# oversampler= sv.SMOTE_IPF()\n",
    "# classifier= GaussianNB()\n",
    "classifier= RandomForestClassifier(random_state=42, n_estimators=100)\n",
    "model= Pipeline([\n",
    "                ('scale', StandardScaler()),\n",
    "                ('clf', sv.OversamplingClassifier(oversampler, classifier))\n",
    "            ])\n",
    "model.fit(X_train, y_train)\n",
    "param_grid= {'clf__oversampler':[sv.distance_SMOTE(proportion=0.2),\n",
    "                                 sv.distance_SMOTE(proportion=0.3),\n",
    "                                 sv.distance_SMOTE(proportion=0.4),\n",
    "                                 sv.distance_SMOTE(proportion=0.5),\n",
    "                                 sv.distance_SMOTE(proportion=0.6),\n",
    "                                 sv.distance_SMOTE(proportion=0.7),\n",
    "                                 sv.distance_SMOTE(proportion=0.8),\n",
    "                                 sv.distance_SMOTE(proportion=0.9),\n",
    "                                 sv.distance_SMOTE(proportion=1.0)]}\n",
    "param_grid['clf__oversampler']"
   ]
  },
  {
   "cell_type": "code",
   "execution_count": 37,
   "metadata": {},
   "outputs": [
    {
     "name": "stderr",
     "output_type": "stream",
     "text": [
      "2022-06-07 23:05:58,362:INFO:distance_SMOTE: Running sampling via ('distance_SMOTE', \"{'proportion': 0.2, 'n_neighbors': 5, 'n_jobs': 1, 'random_state': None}\")\n",
      "2022-06-07 23:05:58,537:INFO:distance_SMOTE: Running sampling via ('distance_SMOTE', \"{'proportion': 0.2, 'n_neighbors': 5, 'n_jobs': 1, 'random_state': None}\")\n"
     ]
    },
    {
     "name": "stdout",
     "output_type": "stream",
     "text": [
      "Fitting 3 folds for each of 9 candidates, totalling 27 fits\n",
      "[CV] END clf__oversampler=('distance_SMOTE', \"{'proportion': 0.2, 'n_neighbors': 5, 'n_jobs': 1, 'random_state': None}\"); total time=   0.1s\n"
     ]
    },
    {
     "name": "stderr",
     "output_type": "stream",
     "text": [
      "2022-06-07 23:05:58,702:INFO:distance_SMOTE: Running sampling via ('distance_SMOTE', \"{'proportion': 0.2, 'n_neighbors': 5, 'n_jobs': 1, 'random_state': None}\")\n",
      "2022-06-07 23:05:58,866:INFO:distance_SMOTE: Running sampling via ('distance_SMOTE', \"{'proportion': 0.3, 'n_neighbors': 5, 'n_jobs': 1, 'random_state': None}\")\n"
     ]
    },
    {
     "name": "stdout",
     "output_type": "stream",
     "text": [
      "[CV] END clf__oversampler=('distance_SMOTE', \"{'proportion': 0.2, 'n_neighbors': 5, 'n_jobs': 1, 'random_state': None}\"); total time=   0.1s\n",
      "[CV] END clf__oversampler=('distance_SMOTE', \"{'proportion': 0.2, 'n_neighbors': 5, 'n_jobs': 1, 'random_state': None}\"); total time=   0.1s\n"
     ]
    },
    {
     "name": "stderr",
     "output_type": "stream",
     "text": [
      "2022-06-07 23:05:59,049:INFO:distance_SMOTE: Running sampling via ('distance_SMOTE', \"{'proportion': 0.3, 'n_neighbors': 5, 'n_jobs': 1, 'random_state': None}\")\n",
      "2022-06-07 23:05:59,218:INFO:distance_SMOTE: Running sampling via ('distance_SMOTE', \"{'proportion': 0.3, 'n_neighbors': 5, 'n_jobs': 1, 'random_state': None}\")\n"
     ]
    },
    {
     "name": "stdout",
     "output_type": "stream",
     "text": [
      "[CV] END clf__oversampler=('distance_SMOTE', \"{'proportion': 0.3, 'n_neighbors': 5, 'n_jobs': 1, 'random_state': None}\"); total time=   0.1s\n",
      "[CV] END clf__oversampler=('distance_SMOTE', \"{'proportion': 0.3, 'n_neighbors': 5, 'n_jobs': 1, 'random_state': None}\"); total time=   0.1s\n"
     ]
    },
    {
     "name": "stderr",
     "output_type": "stream",
     "text": [
      "2022-06-07 23:05:59,435:INFO:distance_SMOTE: Running sampling via ('distance_SMOTE', \"{'proportion': 0.4, 'n_neighbors': 5, 'n_jobs': 1, 'random_state': None}\")\n"
     ]
    },
    {
     "name": "stdout",
     "output_type": "stream",
     "text": [
      "[CV] END clf__oversampler=('distance_SMOTE', \"{'proportion': 0.3, 'n_neighbors': 5, 'n_jobs': 1, 'random_state': None}\"); total time=   0.1s\n",
      "[CV] END clf__oversampler=('distance_SMOTE', \"{'proportion': 0.4, 'n_neighbors': 5, 'n_jobs': 1, 'random_state': None}\"); total time=   0.1s\n"
     ]
    },
    {
     "name": "stderr",
     "output_type": "stream",
     "text": [
      "2022-06-07 23:05:59,617:INFO:distance_SMOTE: Running sampling via ('distance_SMOTE', \"{'proportion': 0.4, 'n_neighbors': 5, 'n_jobs': 1, 'random_state': None}\")\n",
      "2022-06-07 23:05:59,778:INFO:distance_SMOTE: Running sampling via ('distance_SMOTE', \"{'proportion': 0.4, 'n_neighbors': 5, 'n_jobs': 1, 'random_state': None}\")\n"
     ]
    },
    {
     "name": "stdout",
     "output_type": "stream",
     "text": [
      "[CV] END clf__oversampler=('distance_SMOTE', \"{'proportion': 0.4, 'n_neighbors': 5, 'n_jobs': 1, 'random_state': None}\"); total time=   0.1s\n",
      "[CV] END clf__oversampler=('distance_SMOTE', \"{'proportion': 0.4, 'n_neighbors': 5, 'n_jobs': 1, 'random_state': None}\"); total time=   0.1s\n"
     ]
    },
    {
     "name": "stderr",
     "output_type": "stream",
     "text": [
      "2022-06-07 23:05:59,954:INFO:distance_SMOTE: Running sampling via ('distance_SMOTE', \"{'proportion': 0.5, 'n_neighbors': 5, 'n_jobs': 1, 'random_state': None}\")\n",
      "2022-06-07 23:06:00,137:INFO:distance_SMOTE: Running sampling via ('distance_SMOTE', \"{'proportion': 0.5, 'n_neighbors': 5, 'n_jobs': 1, 'random_state': None}\")\n"
     ]
    },
    {
     "name": "stdout",
     "output_type": "stream",
     "text": [
      "[CV] END clf__oversampler=('distance_SMOTE', \"{'proportion': 0.5, 'n_neighbors': 5, 'n_jobs': 1, 'random_state': None}\"); total time=   0.1s\n",
      "[CV] END clf__oversampler=('distance_SMOTE', \"{'proportion': 0.5, 'n_neighbors': 5, 'n_jobs': 1, 'random_state': None}\"); total time=   0.1s\n"
     ]
    },
    {
     "name": "stderr",
     "output_type": "stream",
     "text": [
      "2022-06-07 23:06:00,328:INFO:distance_SMOTE: Running sampling via ('distance_SMOTE', \"{'proportion': 0.5, 'n_neighbors': 5, 'n_jobs': 1, 'random_state': None}\")\n",
      "2022-06-07 23:06:00,501:INFO:distance_SMOTE: Running sampling via ('distance_SMOTE', \"{'proportion': 0.6, 'n_neighbors': 5, 'n_jobs': 1, 'random_state': None}\")\n"
     ]
    },
    {
     "name": "stdout",
     "output_type": "stream",
     "text": [
      "[CV] END clf__oversampler=('distance_SMOTE', \"{'proportion': 0.5, 'n_neighbors': 5, 'n_jobs': 1, 'random_state': None}\"); total time=   0.1s\n"
     ]
    },
    {
     "name": "stderr",
     "output_type": "stream",
     "text": [
      "2022-06-07 23:06:00,701:INFO:distance_SMOTE: Running sampling via ('distance_SMOTE', \"{'proportion': 0.6, 'n_neighbors': 5, 'n_jobs': 1, 'random_state': None}\")\n"
     ]
    },
    {
     "name": "stdout",
     "output_type": "stream",
     "text": [
      "[CV] END clf__oversampler=('distance_SMOTE', \"{'proportion': 0.6, 'n_neighbors': 5, 'n_jobs': 1, 'random_state': None}\"); total time=   0.1s\n",
      "[CV] END clf__oversampler=('distance_SMOTE', \"{'proportion': 0.6, 'n_neighbors': 5, 'n_jobs': 1, 'random_state': None}\"); total time=   0.1s\n"
     ]
    },
    {
     "name": "stderr",
     "output_type": "stream",
     "text": [
      "2022-06-07 23:06:00,901:INFO:distance_SMOTE: Running sampling via ('distance_SMOTE', \"{'proportion': 0.6, 'n_neighbors': 5, 'n_jobs': 1, 'random_state': None}\")\n",
      "2022-06-07 23:06:01,117:INFO:distance_SMOTE: Running sampling via ('distance_SMOTE', \"{'proportion': 0.7, 'n_neighbors': 5, 'n_jobs': 1, 'random_state': None}\")\n"
     ]
    },
    {
     "name": "stdout",
     "output_type": "stream",
     "text": [
      "[CV] END clf__oversampler=('distance_SMOTE', \"{'proportion': 0.6, 'n_neighbors': 5, 'n_jobs': 1, 'random_state': None}\"); total time=   0.1s\n"
     ]
    },
    {
     "name": "stderr",
     "output_type": "stream",
     "text": [
      "2022-06-07 23:06:01,423:INFO:distance_SMOTE: Running sampling via ('distance_SMOTE', \"{'proportion': 0.7, 'n_neighbors': 5, 'n_jobs': 1, 'random_state': None}\")\n"
     ]
    },
    {
     "name": "stdout",
     "output_type": "stream",
     "text": [
      "[CV] END clf__oversampler=('distance_SMOTE', \"{'proportion': 0.7, 'n_neighbors': 5, 'n_jobs': 1, 'random_state': None}\"); total time=   0.2s\n"
     ]
    },
    {
     "name": "stderr",
     "output_type": "stream",
     "text": [
      "2022-06-07 23:06:01,654:INFO:distance_SMOTE: Running sampling via ('distance_SMOTE', \"{'proportion': 0.7, 'n_neighbors': 5, 'n_jobs': 1, 'random_state': None}\")\n"
     ]
    },
    {
     "name": "stdout",
     "output_type": "stream",
     "text": [
      "[CV] END clf__oversampler=('distance_SMOTE', \"{'proportion': 0.7, 'n_neighbors': 5, 'n_jobs': 1, 'random_state': None}\"); total time=   0.1s\n"
     ]
    },
    {
     "name": "stderr",
     "output_type": "stream",
     "text": [
      "2022-06-07 23:06:01,914:INFO:distance_SMOTE: Running sampling via ('distance_SMOTE', \"{'proportion': 0.8, 'n_neighbors': 5, 'n_jobs': 1, 'random_state': None}\")\n"
     ]
    },
    {
     "name": "stdout",
     "output_type": "stream",
     "text": [
      "[CV] END clf__oversampler=('distance_SMOTE', \"{'proportion': 0.7, 'n_neighbors': 5, 'n_jobs': 1, 'random_state': None}\"); total time=   0.2s\n"
     ]
    },
    {
     "name": "stderr",
     "output_type": "stream",
     "text": [
      "2022-06-07 23:06:02,169:INFO:distance_SMOTE: Running sampling via ('distance_SMOTE', \"{'proportion': 0.8, 'n_neighbors': 5, 'n_jobs': 1, 'random_state': None}\")\n"
     ]
    },
    {
     "name": "stdout",
     "output_type": "stream",
     "text": [
      "[CV] END clf__oversampler=('distance_SMOTE', \"{'proportion': 0.8, 'n_neighbors': 5, 'n_jobs': 1, 'random_state': None}\"); total time=   0.2s\n"
     ]
    },
    {
     "name": "stderr",
     "output_type": "stream",
     "text": [
      "2022-06-07 23:06:02,427:INFO:distance_SMOTE: Running sampling via ('distance_SMOTE', \"{'proportion': 0.8, 'n_neighbors': 5, 'n_jobs': 1, 'random_state': None}\")\n"
     ]
    },
    {
     "name": "stdout",
     "output_type": "stream",
     "text": [
      "[CV] END clf__oversampler=('distance_SMOTE', \"{'proportion': 0.8, 'n_neighbors': 5, 'n_jobs': 1, 'random_state': None}\"); total time=   0.2s\n"
     ]
    },
    {
     "name": "stderr",
     "output_type": "stream",
     "text": [
      "2022-06-07 23:06:02,642:INFO:distance_SMOTE: Running sampling via ('distance_SMOTE', \"{'proportion': 0.9, 'n_neighbors': 5, 'n_jobs': 1, 'random_state': None}\")\n"
     ]
    },
    {
     "name": "stdout",
     "output_type": "stream",
     "text": [
      "[CV] END clf__oversampler=('distance_SMOTE', \"{'proportion': 0.8, 'n_neighbors': 5, 'n_jobs': 1, 'random_state': None}\"); total time=   0.1s\n",
      "[CV] END clf__oversampler=('distance_SMOTE', \"{'proportion': 0.9, 'n_neighbors': 5, 'n_jobs': 1, 'random_state': None}\"); total time=   0.1s\n"
     ]
    },
    {
     "name": "stderr",
     "output_type": "stream",
     "text": [
      "2022-06-07 23:06:02,825:INFO:distance_SMOTE: Running sampling via ('distance_SMOTE', \"{'proportion': 0.9, 'n_neighbors': 5, 'n_jobs': 1, 'random_state': None}\")\n",
      "2022-06-07 23:06:03,006:INFO:distance_SMOTE: Running sampling via ('distance_SMOTE', \"{'proportion': 0.9, 'n_neighbors': 5, 'n_jobs': 1, 'random_state': None}\")\n"
     ]
    },
    {
     "name": "stdout",
     "output_type": "stream",
     "text": [
      "[CV] END clf__oversampler=('distance_SMOTE', \"{'proportion': 0.9, 'n_neighbors': 5, 'n_jobs': 1, 'random_state': None}\"); total time=   0.1s\n"
     ]
    },
    {
     "name": "stderr",
     "output_type": "stream",
     "text": [
      "2022-06-07 23:06:03,241:INFO:distance_SMOTE: Running sampling via ('distance_SMOTE', \"{'proportion': 1.0, 'n_neighbors': 5, 'n_jobs': 1, 'random_state': None}\")\n"
     ]
    },
    {
     "name": "stdout",
     "output_type": "stream",
     "text": [
      "[CV] END clf__oversampler=('distance_SMOTE', \"{'proportion': 0.9, 'n_neighbors': 5, 'n_jobs': 1, 'random_state': None}\"); total time=   0.1s\n",
      "[CV] END clf__oversampler=('distance_SMOTE', \"{'proportion': 1.0, 'n_neighbors': 5, 'n_jobs': 1, 'random_state': None}\"); total time=   0.1s\n"
     ]
    },
    {
     "name": "stderr",
     "output_type": "stream",
     "text": [
      "2022-06-07 23:06:03,434:INFO:distance_SMOTE: Running sampling via ('distance_SMOTE', \"{'proportion': 1.0, 'n_neighbors': 5, 'n_jobs': 1, 'random_state': None}\")\n",
      "2022-06-07 23:06:03,610:INFO:distance_SMOTE: Running sampling via ('distance_SMOTE', \"{'proportion': 1.0, 'n_neighbors': 5, 'n_jobs': 1, 'random_state': None}\")\n"
     ]
    },
    {
     "name": "stdout",
     "output_type": "stream",
     "text": [
      "[CV] END clf__oversampler=('distance_SMOTE', \"{'proportion': 1.0, 'n_neighbors': 5, 'n_jobs': 1, 'random_state': None}\"); total time=   0.1s\n",
      "[CV] END clf__oversampler=('distance_SMOTE', \"{'proportion': 1.0, 'n_neighbors': 5, 'n_jobs': 1, 'random_state': None}\"); total time=   0.1s\n"
     ]
    },
    {
     "name": "stderr",
     "output_type": "stream",
     "text": [
      "2022-06-07 23:06:03,820:INFO:distance_SMOTE: Running sampling via ('distance_SMOTE', \"{'proportion': 0.3, 'n_neighbors': 5, 'n_jobs': 1, 'random_state': None}\")\n"
     ]
    },
    {
     "data": {
      "text/plain": [
       "GridSearchCV(cv=3,\n",
       "             estimator=Pipeline(steps=[('scale', StandardScaler()),\n",
       "                                       ('clf',\n",
       "                                        OversamplingClassifier(classifier=RandomForestClassifier(random_state=42),\n",
       "                                                               oversampler=<smote_variants._smote_variants.SMOTE_TomekLinks object at 0x000002B738017310>))]),\n",
       "             n_jobs=1,\n",
       "             param_grid={'clf__oversampler': [<smote_variants._smote_variants.distance_SMOTE object at 0x000002B73...\n",
       "                                              <smote_variants._smote_variants.distance_SMOTE object at 0x000002B73A2F4AC0>,\n",
       "                                              <smote_variants._smote_variants.distance_SMOTE object at 0x000002B73A2F46A0>,\n",
       "                                              <smote_variants._smote_variants.distance_SMOTE object at 0x000002B73A2F5B70>,\n",
       "                                              <smote_variants._smote_variants.distance_SMOTE object at 0x000002B73A2F4130>]},\n",
       "             refit='recall',\n",
       "             scoring={'f1': 'f1', 'precision': 'precision', 'recall': 'recall'},\n",
       "             verbose=2)"
      ]
     },
     "execution_count": 37,
     "metadata": {},
     "output_type": "execute_result"
    }
   ],
   "source": [
    "scoring = {\"recall\": \"recall\", \"precision\": \"precision\", \"f1\" : \"f1\"}\n",
    "grid= GridSearchCV(model, param_grid= param_grid, cv= 3, n_jobs= 1, verbose= 2, scoring= scoring, refit='recall' ) #probar con lista ['f1','recall','precision']\n",
    "grid.fit(X_train, y_train)"
   ]
  },
  {
   "cell_type": "code",
   "execution_count": 38,
   "metadata": {},
   "outputs": [
    {
     "data": {
      "text/plain": [
       "{'mean_fit_time': array([0.1497376 , 0.17159867, 0.15323011, 0.16384951, 0.18326537,\n",
       "        0.23816665, 0.21625535, 0.1803356 , 0.17213233]),\n",
       " 'std_fit_time': array([0.00374362, 0.02005749, 0.00759789, 0.00745278, 0.00646732,\n",
       "        0.03093276, 0.01959423, 0.02495428, 0.01064877]),\n",
       " 'mean_score_time': array([0.0176328 , 0.01690698, 0.01878826, 0.01800672, 0.02093609,\n",
       "        0.02580341, 0.02499596, 0.01870553, 0.01851734]),\n",
       " 'std_score_time': array([0.0010274 , 0.00093769, 0.00208526, 0.00071042, 0.00227057,\n",
       "        0.00257056, 0.00636578, 0.00064685, 0.00176246]),\n",
       " 'param_clf__oversampler': masked_array(data=[<smote_variants._smote_variants.distance_SMOTE object at 0x000002B73A2F47C0>,\n",
       "                    <smote_variants._smote_variants.distance_SMOTE object at 0x000002B73A2F5870>,\n",
       "                    <smote_variants._smote_variants.distance_SMOTE object at 0x000002B73A2F46D0>,\n",
       "                    <smote_variants._smote_variants.distance_SMOTE object at 0x000002B73A2F4040>,\n",
       "                    <smote_variants._smote_variants.distance_SMOTE object at 0x000002B73A2F4DC0>,\n",
       "                    <smote_variants._smote_variants.distance_SMOTE object at 0x000002B73A2F4AC0>,\n",
       "                    <smote_variants._smote_variants.distance_SMOTE object at 0x000002B73A2F46A0>,\n",
       "                    <smote_variants._smote_variants.distance_SMOTE object at 0x000002B73A2F5B70>,\n",
       "                    <smote_variants._smote_variants.distance_SMOTE object at 0x000002B73A2F4130>],\n",
       "              mask=[False, False, False, False, False, False, False, False,\n",
       "                    False],\n",
       "        fill_value='?',\n",
       "             dtype=object),\n",
       " 'params': [{'clf__oversampler': <smote_variants._smote_variants.distance_SMOTE at 0x2b73a2f47c0>},\n",
       "  {'clf__oversampler': <smote_variants._smote_variants.distance_SMOTE at 0x2b73a2f5870>},\n",
       "  {'clf__oversampler': <smote_variants._smote_variants.distance_SMOTE at 0x2b73a2f46d0>},\n",
       "  {'clf__oversampler': <smote_variants._smote_variants.distance_SMOTE at 0x2b73a2f4040>},\n",
       "  {'clf__oversampler': <smote_variants._smote_variants.distance_SMOTE at 0x2b73a2f4dc0>},\n",
       "  {'clf__oversampler': <smote_variants._smote_variants.distance_SMOTE at 0x2b73a2f4ac0>},\n",
       "  {'clf__oversampler': <smote_variants._smote_variants.distance_SMOTE at 0x2b73a2f46a0>},\n",
       "  {'clf__oversampler': <smote_variants._smote_variants.distance_SMOTE at 0x2b73a2f5b70>},\n",
       "  {'clf__oversampler': <smote_variants._smote_variants.distance_SMOTE at 0x2b73a2f4130>}],\n",
       " 'split0_test_recall': array([0.99328859, 1.        , 0.99328859, 0.99328859, 0.99328859,\n",
       "        0.98657718, 1.        , 0.99328859, 1.        ]),\n",
       " 'split1_test_recall': array([0.98657718, 0.99328859, 0.98657718, 0.98657718, 0.99328859,\n",
       "        0.98657718, 0.98657718, 0.98657718, 0.98657718]),\n",
       " 'split2_test_recall': array([0.95973154, 0.95973154, 0.95973154, 0.96644295, 0.95973154,\n",
       "        0.95973154, 0.95973154, 0.93288591, 0.93959732]),\n",
       " 'mean_test_recall': array([0.97986577, 0.98434004, 0.97986577, 0.98210291, 0.98210291,\n",
       "        0.97762864, 0.98210291, 0.97091723, 0.9753915 ]),\n",
       " 'std_test_recall': array([0.0144983 , 0.01761523, 0.0144983 , 0.0114072 , 0.01581894,\n",
       "        0.01265515, 0.0167412 , 0.02703142, 0.02589673]),\n",
       " 'rank_test_recall': array([5, 1, 5, 2, 2, 7, 2, 9, 8]),\n",
       " 'split0_test_precision': array([0.95483871, 0.94904459, 0.93670886, 0.94267516, 0.94871795,\n",
       "        0.9483871 , 0.96129032, 0.94871795, 0.97385621]),\n",
       " 'split1_test_precision': array([0.94230769, 0.95483871, 0.9483871 , 0.95454545, 0.95483871,\n",
       "        0.96078431, 0.96078431, 0.96078431, 0.9483871 ]),\n",
       " 'split2_test_precision': array([0.96621622, 0.97278912, 0.96621622, 0.96644295, 0.96621622,\n",
       "        0.96621622, 0.97278912, 0.96527778, 0.96551724]),\n",
       " 'mean_test_precision': array([0.95445421, 0.9588908 , 0.95043739, 0.95455452, 0.95659096,\n",
       "        0.95846254, 0.96495458, 0.95826001, 0.96258685]),\n",
       " 'std_test_precision': array([0.0097644 , 0.01010826, 0.01213325, 0.00970316, 0.00725029,\n",
       "        0.00746156, 0.0055437 , 0.00699219, 0.01060218]),\n",
       " 'rank_test_precision': array([8, 3, 9, 7, 6, 4, 1, 5, 2]),\n",
       " 'split0_test_f1': array([0.97368421, 0.97385621, 0.96416938, 0.96732026, 0.9704918 ,\n",
       "        0.96710526, 0.98026316, 0.9704918 , 0.98675497]),\n",
       " 'split1_test_f1': array([0.96393443, 0.97368421, 0.96710526, 0.97029703, 0.97368421,\n",
       "        0.97350993, 0.97350993, 0.97350993, 0.96710526]),\n",
       " 'split2_test_f1': array([0.96296296, 0.96621622, 0.96296296, 0.96644295, 0.96296296,\n",
       "        0.96296296, 0.96621622, 0.94880546, 0.95238095]),\n",
       " 'mean_test_f1': array([0.96686053, 0.97125221, 0.96474587, 0.96802008, 0.96904633,\n",
       "        0.96785939, 0.97332977, 0.96426907, 0.96874706]),\n",
       " 'std_test_f1': array([0.00484134, 0.00356168, 0.00173952, 0.0016494 , 0.00449469,\n",
       "        0.00433868, 0.00573605, 0.01100362, 0.01408107]),\n",
       " 'rank_test_f1': array([7, 2, 8, 5, 3, 6, 1, 9, 4])}"
      ]
     },
     "execution_count": 38,
     "metadata": {},
     "output_type": "execute_result"
    }
   ],
   "source": [
    "grid.cv_results_"
   ]
  },
  {
   "cell_type": "markdown",
   "metadata": {},
   "source": [
    "<a id='analisis-smote-mejor_estimador'></a>\n",
    "## Analisis del Mejor Estimador\n",
    "[Inicio ▲](#Indice)"
   ]
  },
  {
   "cell_type": "code",
   "execution_count": 39,
   "metadata": {},
   "outputs": [
    {
     "name": "stdout",
     "output_type": "stream",
     "text": [
      "<bound method BaseEstimator.get_params of GridSearchCV(cv=3,\n",
      "             estimator=Pipeline(steps=[('scale', StandardScaler()),\n",
      "                                       ('clf',\n",
      "                                        OversamplingClassifier(classifier=RandomForestClassifier(random_state=42),\n",
      "                                                               oversampler=<smote_variants._smote_variants.SMOTE_TomekLinks object at 0x000002B738017310>))]),\n",
      "             n_jobs=1,\n",
      "             param_grid={'clf__oversampler': [<smote_variants._smote_variants.distance_SMOTE object at 0x000002B73...\n",
      "                                              <smote_variants._smote_variants.distance_SMOTE object at 0x000002B73A2F4AC0>,\n",
      "                                              <smote_variants._smote_variants.distance_SMOTE object at 0x000002B73A2F46A0>,\n",
      "                                              <smote_variants._smote_variants.distance_SMOTE object at 0x000002B73A2F5B70>,\n",
      "                                              <smote_variants._smote_variants.distance_SMOTE object at 0x000002B73A2F4130>]},\n",
      "             refit='recall',\n",
      "             scoring={'f1': 'f1', 'precision': 'precision', 'recall': 'recall'},\n",
      "             verbose=2)>\n",
      "  proportions    Recall  Precision        F1\n",
      "0         0.2  0.979866   0.954454  0.966861\n",
      "1         0.3  0.984340   0.958891  0.971252\n",
      "2         0.4  0.979866   0.950437  0.964746\n",
      "3         0.5  0.982103   0.954555  0.968020\n",
      "4         0.6  0.982103   0.956591  0.969046\n",
      "5         0.7  0.977629   0.958463  0.967859\n",
      "6         0.8  0.982103   0.964955  0.973330\n",
      "7         0.9  0.970917   0.958260  0.964269\n",
      "8         1.0  0.975391   0.962587  0.968747\n",
      "[1 0 0 0 0 0 1 0 1 1 0 1 1 0 1 1 0 0 0 0 1 1 0 0 0 0 1 1 0 0 0 1 0 1 0 0 0\n",
      " 1 0 0 1 0 0 0 0 0 1 0 1 0 1 0 0 0 1 0 0 1 0 0 0 0 1 0 0 0 0 0 0 0 0 0 1 0\n",
      " 0 0 0 0 1 1 0 1 1 0 1 1 0 1 0 1 0 0 0 1 1 1 0 1 0 1 0 0 0 0 1 1 0 0 0 0 0\n",
      " 0 1 1 0 0 0 1 0 1 1 0 1 1 0 0 0 1 1 0 0 0 0 0 1 0 0 1 1 1 0 0 0 1 0 0 0 1\n",
      " 0 1 0 1 1 1 1 0 1 0 0 1 0 0 0 1 1 0 0 1 1 0 0 1 1 0 1 0 1 1 0 0 1 0 0 0 0\n",
      " 0 0 0 0 0 0 0 0 0 1 1 0 0 0 0 0 1 1 0 1 1 0 0 0 0 0 0 1 0 0 0 0 0 1 1 0 0\n",
      " 0 0 0 1 0 0 0 0 0 0 0 1 1 0 0 1 1 0 1 0 0 0 1 1 0 1 1 1 0 0 0 0 0 0 1 1 1\n",
      " 1 0 0 0 1 1 0 0 0 1 1 1 0 1 0 0 1 0 1 0 0 0 1 0 1 1 0 1 1 0 0 1 0 1 0 0 1\n",
      " 0 0 1 0 0 1 0 0 0 1 0 0 0 0 0 1 0 0 1 0 0 0 0 1 0 0 0 0 0 1 1 1 0 0 0 1 1\n",
      " 0 0 1 1 0 1 0 0 0 1 1 0 0 1 1 0 0 1 0 1 1 0 1 0 1 0 0 0 1 0 0 0 1 0 1 0 0\n",
      " 0 0 0 1 0 0 1 1 1 0 0 0 1 0 0 1 0 1 0 0 0 0 1 1 0 0 1 0 0 0 1 0 1 0 0 1 0\n",
      " 0 0 1 1 0 0 1 0 0 1 1 0 1 0 0 0 0 0 0 1 0 0 0 0 1 0 0 1 0 0 0 1 0 1 0 0 1\n",
      " 0 1 0 0 0 0 1 0 0 0 0 1 0 0 1 0 0 0 1 0 0 1 0 0 1 0 0 0 0 0 0 0 1 0 1 1 1\n",
      " 0 0 0 1 1 1 1 0 0 0 0 1 0 0 0 0 1 0 0 0 0 0 1 1 0 0 0 1 0 0 1 0 0 1 0 0 1\n",
      " 0 0 0 1 0 1 0 0 1 0 1 0 0 1 0 1 1 0 0 0 1 1 1 1 0 1 0 0 1 0 0 0 0 0 0 0 0\n",
      " 0 1 0 1 0 0 0 0 0 0 1 0 1 1 1 1 0 1 0 0 0 0 0 0 0 0 0 0 0 0 0 0 0 0 1 0 0\n",
      " 0 0 0 0 1 0 1 0 0 1 1 0 0 0 0 0 0 0 0 0 0 0 1]\n",
      "PUNTAJE MEJOR ESTIMADOR:  0.9902439024390244\n"
     ]
    }
   ],
   "source": [
    "datos = {'proportions' : ['0.2', '0.3', '0.4', '0.5', '0.6', '0.7', '0.8', '0.9','1.0'],\n",
    "         'Recall' : grid.cv_results_['mean_test_recall'],\n",
    "         'Precision' : grid.cv_results_['mean_test_precision'],\n",
    "         'F1' : grid.cv_results_['mean_test_f1']}\n",
    "\n",
    "df = pd.DataFrame(datos)\n",
    "\n",
    "print(grid.get_params)\n",
    "print(df)\n",
    "\n",
    "predicciones = grid.best_estimator_.predict(X_test)\n",
    "\n",
    "print(predicciones)\n",
    "\n",
    "print('PUNTAJE MEJOR ESTIMADOR: ' , grid.best_estimator_.score(X_test, y_test))"
   ]
  },
  {
   "cell_type": "markdown",
   "metadata": {},
   "source": [
    "<a id='aplicando-smote-proportion'></a>\n",
    "## Aplicando SMOTE con las proportions modificadas\n",
    "[Inicio ▲](#Indice)"
   ]
  },
  {
   "cell_type": "code",
   "execution_count": 15,
   "metadata": {},
   "outputs": [],
   "source": [
    "import numpy as np"
   ]
  },
  {
   "cell_type": "code",
   "execution_count": 16,
   "metadata": {},
   "outputs": [
    {
     "name": "stdout",
     "output_type": "stream",
     "text": [
      "majority class: 1210\n",
      "minority class: 518\n"
     ]
    }
   ],
   "source": [
    "y_sinSmote = y.to_numpy()\n",
    "print('majority class: %d' % np.sum(y_sinSmote == 0))\n",
    "print('minority class: %d' % np.sum(y_sinSmote == 1))"
   ]
  },
  {
   "cell_type": "code",
   "execution_count": 17,
   "metadata": {},
   "outputs": [
    {
     "name": "stderr",
     "output_type": "stream",
     "text": [
      "2022-06-07 22:59:54,387:INFO:SMOTE: Running sampling via ('SMOTE', \"{'proportion': 0.7, 'n_neighbors': 5, 'n_jobs': 1, 'random_state': None}\")\n"
     ]
    },
    {
     "name": "stdout",
     "output_type": "stream",
     "text": [
      "majority class: 1210\n",
      "minority class: 1002\n"
     ]
    }
   ],
   "source": [
    "oversampler= sv.SMOTE(proportion=0.7)\n",
    "X_samp, y_samp= oversampler.sample(X.to_numpy(), y.to_numpy())\n",
    "print('majority class: %d' % np.sum(y_samp == 0))\n",
    "print('minority class: %d' % np.sum(y_samp == 1))"
   ]
  },
  {
   "cell_type": "code",
   "execution_count": 18,
   "metadata": {},
   "outputs": [
    {
     "data": {
      "text/html": [
       "<div>\n",
       "<style scoped>\n",
       "    .dataframe tbody tr th:only-of-type {\n",
       "        vertical-align: middle;\n",
       "    }\n",
       "\n",
       "    .dataframe tbody tr th {\n",
       "        vertical-align: top;\n",
       "    }\n",
       "\n",
       "    .dataframe thead th {\n",
       "        text-align: right;\n",
       "    }\n",
       "</style>\n",
       "<table border=\"1\" class=\"dataframe\">\n",
       "  <thead>\n",
       "    <tr style=\"text-align: right;\">\n",
       "      <th></th>\n",
       "      <th>0</th>\n",
       "      <th>1</th>\n",
       "      <th>2</th>\n",
       "      <th>3</th>\n",
       "      <th>4</th>\n",
       "      <th>5</th>\n",
       "      <th>col_class</th>\n",
       "    </tr>\n",
       "  </thead>\n",
       "  <tbody>\n",
       "    <tr>\n",
       "      <th>0</th>\n",
       "      <td>1.00000</td>\n",
       "      <td>1.000000</td>\n",
       "      <td>1.0</td>\n",
       "      <td>1.000000</td>\n",
       "      <td>1.000000</td>\n",
       "      <td>1.0</td>\n",
       "      <td>0</td>\n",
       "    </tr>\n",
       "    <tr>\n",
       "      <th>1</th>\n",
       "      <td>1.00000</td>\n",
       "      <td>1.000000</td>\n",
       "      <td>1.0</td>\n",
       "      <td>1.000000</td>\n",
       "      <td>1.000000</td>\n",
       "      <td>2.0</td>\n",
       "      <td>0</td>\n",
       "    </tr>\n",
       "    <tr>\n",
       "      <th>2</th>\n",
       "      <td>1.00000</td>\n",
       "      <td>1.000000</td>\n",
       "      <td>1.0</td>\n",
       "      <td>1.000000</td>\n",
       "      <td>1.000000</td>\n",
       "      <td>3.0</td>\n",
       "      <td>0</td>\n",
       "    </tr>\n",
       "    <tr>\n",
       "      <th>3</th>\n",
       "      <td>1.00000</td>\n",
       "      <td>1.000000</td>\n",
       "      <td>1.0</td>\n",
       "      <td>1.000000</td>\n",
       "      <td>2.000000</td>\n",
       "      <td>1.0</td>\n",
       "      <td>0</td>\n",
       "    </tr>\n",
       "    <tr>\n",
       "      <th>4</th>\n",
       "      <td>1.00000</td>\n",
       "      <td>1.000000</td>\n",
       "      <td>1.0</td>\n",
       "      <td>1.000000</td>\n",
       "      <td>2.000000</td>\n",
       "      <td>2.0</td>\n",
       "      <td>0</td>\n",
       "    </tr>\n",
       "    <tr>\n",
       "      <th>...</th>\n",
       "      <td>...</td>\n",
       "      <td>...</td>\n",
       "      <td>...</td>\n",
       "      <td>...</td>\n",
       "      <td>...</td>\n",
       "      <td>...</td>\n",
       "      <td>...</td>\n",
       "    </tr>\n",
       "    <tr>\n",
       "      <th>2207</th>\n",
       "      <td>2.12579</td>\n",
       "      <td>3.000000</td>\n",
       "      <td>4.0</td>\n",
       "      <td>3.000000</td>\n",
       "      <td>3.000000</td>\n",
       "      <td>3.0</td>\n",
       "      <td>1</td>\n",
       "    </tr>\n",
       "    <tr>\n",
       "      <th>2208</th>\n",
       "      <td>4.00000</td>\n",
       "      <td>4.000000</td>\n",
       "      <td>2.0</td>\n",
       "      <td>3.000000</td>\n",
       "      <td>2.547754</td>\n",
       "      <td>2.0</td>\n",
       "      <td>1</td>\n",
       "    </tr>\n",
       "    <tr>\n",
       "      <th>2209</th>\n",
       "      <td>2.00000</td>\n",
       "      <td>2.219534</td>\n",
       "      <td>3.0</td>\n",
       "      <td>2.000000</td>\n",
       "      <td>3.000000</td>\n",
       "      <td>2.0</td>\n",
       "      <td>1</td>\n",
       "    </tr>\n",
       "    <tr>\n",
       "      <th>2210</th>\n",
       "      <td>4.00000</td>\n",
       "      <td>4.000000</td>\n",
       "      <td>4.0</td>\n",
       "      <td>2.371428</td>\n",
       "      <td>1.000000</td>\n",
       "      <td>3.0</td>\n",
       "      <td>1</td>\n",
       "    </tr>\n",
       "    <tr>\n",
       "      <th>2211</th>\n",
       "      <td>1.00000</td>\n",
       "      <td>4.000000</td>\n",
       "      <td>1.0</td>\n",
       "      <td>2.000000</td>\n",
       "      <td>1.176862</td>\n",
       "      <td>3.0</td>\n",
       "      <td>1</td>\n",
       "    </tr>\n",
       "  </tbody>\n",
       "</table>\n",
       "<p>2212 rows × 7 columns</p>\n",
       "</div>"
      ],
      "text/plain": [
       "            0         1    2         3         4    5  col_class\n",
       "0     1.00000  1.000000  1.0  1.000000  1.000000  1.0          0\n",
       "1     1.00000  1.000000  1.0  1.000000  1.000000  2.0          0\n",
       "2     1.00000  1.000000  1.0  1.000000  1.000000  3.0          0\n",
       "3     1.00000  1.000000  1.0  1.000000  2.000000  1.0          0\n",
       "4     1.00000  1.000000  1.0  1.000000  2.000000  2.0          0\n",
       "...       ...       ...  ...       ...       ...  ...        ...\n",
       "2207  2.12579  3.000000  4.0  3.000000  3.000000  3.0          1\n",
       "2208  4.00000  4.000000  2.0  3.000000  2.547754  2.0          1\n",
       "2209  2.00000  2.219534  3.0  2.000000  3.000000  2.0          1\n",
       "2210  4.00000  4.000000  4.0  2.371428  1.000000  3.0          1\n",
       "2211  1.00000  4.000000  1.0  2.000000  1.176862  3.0          1\n",
       "\n",
       "[2212 rows x 7 columns]"
      ]
     },
     "execution_count": 18,
     "metadata": {},
     "output_type": "execute_result"
    }
   ],
   "source": [
    "dfSmote = pd.DataFrame(X_samp)\n",
    "dfSmote = dfSmote.assign(col_class = y_samp)\n",
    "dfSmote"
   ]
  },
  {
   "cell_type": "code",
   "execution_count": 19,
   "metadata": {},
   "outputs": [
    {
     "data": {
      "text/html": [
       "<div>\n",
       "<style scoped>\n",
       "    .dataframe tbody tr th:only-of-type {\n",
       "        vertical-align: middle;\n",
       "    }\n",
       "\n",
       "    .dataframe tbody tr th {\n",
       "        vertical-align: top;\n",
       "    }\n",
       "\n",
       "    .dataframe thead th {\n",
       "        text-align: right;\n",
       "    }\n",
       "</style>\n",
       "<table border=\"1\" class=\"dataframe\">\n",
       "  <thead>\n",
       "    <tr style=\"text-align: right;\">\n",
       "      <th></th>\n",
       "      <th>0</th>\n",
       "      <th>1</th>\n",
       "      <th>2</th>\n",
       "      <th>3</th>\n",
       "      <th>4</th>\n",
       "      <th>5</th>\n",
       "      <th>col_class</th>\n",
       "    </tr>\n",
       "  </thead>\n",
       "  <tbody>\n",
       "    <tr>\n",
       "      <th>0</th>\n",
       "      <td>1.00000</td>\n",
       "      <td>1.000000</td>\n",
       "      <td>1.0</td>\n",
       "      <td>1.000000</td>\n",
       "      <td>1.000000</td>\n",
       "      <td>1.0</td>\n",
       "      <td>0</td>\n",
       "    </tr>\n",
       "    <tr>\n",
       "      <th>1</th>\n",
       "      <td>1.00000</td>\n",
       "      <td>1.000000</td>\n",
       "      <td>1.0</td>\n",
       "      <td>1.000000</td>\n",
       "      <td>1.000000</td>\n",
       "      <td>2.0</td>\n",
       "      <td>0</td>\n",
       "    </tr>\n",
       "    <tr>\n",
       "      <th>2</th>\n",
       "      <td>1.00000</td>\n",
       "      <td>1.000000</td>\n",
       "      <td>1.0</td>\n",
       "      <td>1.000000</td>\n",
       "      <td>1.000000</td>\n",
       "      <td>3.0</td>\n",
       "      <td>0</td>\n",
       "    </tr>\n",
       "    <tr>\n",
       "      <th>3</th>\n",
       "      <td>1.00000</td>\n",
       "      <td>1.000000</td>\n",
       "      <td>1.0</td>\n",
       "      <td>1.000000</td>\n",
       "      <td>2.000000</td>\n",
       "      <td>1.0</td>\n",
       "      <td>0</td>\n",
       "    </tr>\n",
       "    <tr>\n",
       "      <th>4</th>\n",
       "      <td>1.00000</td>\n",
       "      <td>1.000000</td>\n",
       "      <td>1.0</td>\n",
       "      <td>1.000000</td>\n",
       "      <td>2.000000</td>\n",
       "      <td>2.0</td>\n",
       "      <td>0</td>\n",
       "    </tr>\n",
       "    <tr>\n",
       "      <th>...</th>\n",
       "      <td>...</td>\n",
       "      <td>...</td>\n",
       "      <td>...</td>\n",
       "      <td>...</td>\n",
       "      <td>...</td>\n",
       "      <td>...</td>\n",
       "      <td>...</td>\n",
       "    </tr>\n",
       "    <tr>\n",
       "      <th>2207</th>\n",
       "      <td>2.12579</td>\n",
       "      <td>3.000000</td>\n",
       "      <td>4.0</td>\n",
       "      <td>3.000000</td>\n",
       "      <td>3.000000</td>\n",
       "      <td>3.0</td>\n",
       "      <td>1</td>\n",
       "    </tr>\n",
       "    <tr>\n",
       "      <th>2208</th>\n",
       "      <td>4.00000</td>\n",
       "      <td>4.000000</td>\n",
       "      <td>2.0</td>\n",
       "      <td>3.000000</td>\n",
       "      <td>2.547754</td>\n",
       "      <td>2.0</td>\n",
       "      <td>1</td>\n",
       "    </tr>\n",
       "    <tr>\n",
       "      <th>2209</th>\n",
       "      <td>2.00000</td>\n",
       "      <td>2.219534</td>\n",
       "      <td>3.0</td>\n",
       "      <td>2.000000</td>\n",
       "      <td>3.000000</td>\n",
       "      <td>2.0</td>\n",
       "      <td>1</td>\n",
       "    </tr>\n",
       "    <tr>\n",
       "      <th>2210</th>\n",
       "      <td>4.00000</td>\n",
       "      <td>4.000000</td>\n",
       "      <td>4.0</td>\n",
       "      <td>2.371428</td>\n",
       "      <td>1.000000</td>\n",
       "      <td>3.0</td>\n",
       "      <td>1</td>\n",
       "    </tr>\n",
       "    <tr>\n",
       "      <th>2211</th>\n",
       "      <td>1.00000</td>\n",
       "      <td>4.000000</td>\n",
       "      <td>1.0</td>\n",
       "      <td>2.000000</td>\n",
       "      <td>1.176862</td>\n",
       "      <td>3.0</td>\n",
       "      <td>1</td>\n",
       "    </tr>\n",
       "  </tbody>\n",
       "</table>\n",
       "<p>2212 rows × 7 columns</p>\n",
       "</div>"
      ],
      "text/plain": [
       "            0         1    2         3         4    5  col_class\n",
       "0     1.00000  1.000000  1.0  1.000000  1.000000  1.0          0\n",
       "1     1.00000  1.000000  1.0  1.000000  1.000000  2.0          0\n",
       "2     1.00000  1.000000  1.0  1.000000  1.000000  3.0          0\n",
       "3     1.00000  1.000000  1.0  1.000000  2.000000  1.0          0\n",
       "4     1.00000  1.000000  1.0  1.000000  2.000000  2.0          0\n",
       "...       ...       ...  ...       ...       ...  ...        ...\n",
       "2207  2.12579  3.000000  4.0  3.000000  3.000000  3.0          1\n",
       "2208  4.00000  4.000000  2.0  3.000000  2.547754  2.0          1\n",
       "2209  2.00000  2.219534  3.0  2.000000  3.000000  2.0          1\n",
       "2210  4.00000  4.000000  4.0  2.371428  1.000000  3.0          1\n",
       "2211  1.00000  4.000000  1.0  2.000000  1.176862  3.0          1\n",
       "\n",
       "[2212 rows x 7 columns]"
      ]
     },
     "execution_count": 19,
     "metadata": {},
     "output_type": "execute_result"
    }
   ],
   "source": [
    "dfSmote"
   ]
  },
  {
   "cell_type": "code",
   "execution_count": 20,
   "metadata": {},
   "outputs": [
    {
     "data": {
      "text/plain": [
       "Text(0.5, 1.0, 'Distribucion de clases aplicando SMOTE \\n con un proportion = 0.7')"
      ]
     },
     "execution_count": 20,
     "metadata": {},
     "output_type": "execute_result"
    },
    {
     "data": {
      "image/png": "[encoded data removed]",
      "text/plain": [
       "<Figure size 432x288 with 1 Axes>"
      ]
     },
     "metadata": {
      "needs_background": "light"
     },
     "output_type": "display_data"
    }
   ],
   "source": [
    "ax =  sns.countplot(x='col_class', data=dfSmote, palette='rocket')\n",
    "\n",
    "abs_values = dfSmote['col_class'].value_counts(ascending=False).values\n",
    "\n",
    "ax.set_ylabel('Ejemplos')\n",
    "ax.set_xlabel('Evaluacion del Automovil: 0 = inaceptable, 1 = aceptable')\n",
    "ax.bar_label(container=ax.containers[0], labels=abs_values)\n",
    "ax.set_title('Distribucion de clases aplicando SMOTE \\n con un proportion = 0.7')"
   ]
  },
  {
   "cell_type": "markdown",
   "metadata": {},
   "source": [
    "<a id='smote-matriz_confusion'></a>\n",
    "## SMOTE: Matriz de Confusion\n",
    "[Inicio ▲](#Indice)"
   ]
  },
  {
   "cell_type": "code",
   "execution_count": 21,
   "metadata": {},
   "outputs": [
    {
     "name": "stdout",
     "output_type": "stream",
     "text": [
      "Confusion matrix\n",
      "\n",
      " [[358  45]\n",
      " [  0 327]]\n",
      "              precision    recall  f1-score   support\n",
      "\n",
      "           0       1.00      0.89      0.94       403\n",
      "           1       0.88      1.00      0.94       327\n",
      "\n",
      "    accuracy                           0.94       730\n",
      "   macro avg       0.94      0.94      0.94       730\n",
      "weighted avg       0.95      0.94      0.94       730\n",
      "\n"
     ]
    }
   ],
   "source": [
    "X_train, X_test, y_train, y_test = train_test_split(X_samp, y_samp, test_size= 0.33, random_state=42)\n",
    "clasifier = RandomForestClassifier(max_depth=3, random_state=0)\n",
    "\n",
    "# fit the model\n",
    "\n",
    "clasifier.fit(X_train,y_train)\n",
    "y_pred=clasifier.predict(X_test)\n",
    "cm = confusion_matrix(y_test, y_pred)\n",
    "\n",
    "print('Confusion matrix\\n\\n', cm)\n",
    "print(classification_report(y_test, y_pred))"
   ]
  },
  {
   "cell_type": "markdown",
   "metadata": {},
   "source": [
    "<a id='smote-ipf-proportion0.7'></a>\n",
    "## SMOTE IPF con proportion modificado\n",
    "[Inicio ▲](#Indice)"
   ]
  },
  {
   "cell_type": "code",
   "execution_count": 22,
   "metadata": {},
   "outputs": [
    {
     "name": "stderr",
     "output_type": "stream",
     "text": [
      "2022-06-07 22:59:55,131:INFO:SMOTE_IPF: Running sampling via ('SMOTE_IPF', \"{'proportion': 0.7, 'n_neighbors': 5, 'n_folds': 9, 'k': 3, 'p': 0.01, 'voting': 'majority', 'n_jobs': 1, 'classifier': DecisionTreeClassifier(random_state=2), 'random_state': None}\")\n",
      "2022-06-07 22:59:55,133:INFO:SMOTE: Running sampling via ('SMOTE', \"{'proportion': 0.7, 'n_neighbors': 5, 'n_jobs': 1, 'random_state': <module 'numpy.random' from 'C:\\\\\\\\Users\\\\\\\\FamiliaNatelloMedina\\\\\\\\AppData\\\\\\\\Roaming\\\\\\\\Python\\\\\\\\Python310\\\\\\\\site-packages\\\\\\\\numpy\\\\\\\\random\\\\\\\\__init__.py'>}\")\n",
      "2022-06-07 22:59:55,162:INFO:SMOTE_IPF: Removing 0 elements\n",
      "2022-06-07 22:59:55,186:INFO:SMOTE_IPF: Removing 0 elements\n",
      "2022-06-07 22:59:55,213:INFO:SMOTE_IPF: Removing 0 elements\n"
     ]
    }
   ],
   "source": [
    "oversampler_ipf= sv.SMOTE_IPF(proportion=0.7)\n",
    "X_ipf, y_ipf= oversampler_ipf.sample(X.to_numpy(), y.to_numpy())"
   ]
  },
  {
   "cell_type": "code",
   "execution_count": 23,
   "metadata": {},
   "outputs": [
    {
     "name": "stdout",
     "output_type": "stream",
     "text": [
      "majority class: 1210\n",
      "minority class: 1002\n"
     ]
    }
   ],
   "source": [
    "print('majority class: %d' % np.sum(y_ipf == 0))\n",
    "print('minority class: %d' % np.sum(y_ipf == 1))"
   ]
  },
  {
   "cell_type": "code",
   "execution_count": 24,
   "metadata": {},
   "outputs": [
    {
     "data": {
      "text/plain": [
       "Text(0.5, 1.0, 'Distribucion de clases aplicando SMOTE IPF \\n con un proportion = 0.7')"
      ]
     },
     "execution_count": 24,
     "metadata": {},
     "output_type": "execute_result"
    },
    {
     "data": {
      "image/png": "[encoded data removed]",
      "text/plain": [
       "<Figure size 432x288 with 1 Axes>"
      ]
     },
     "metadata": {
      "needs_background": "light"
     },
     "output_type": "display_data"
    }
   ],
   "source": [
    "dfSmoteIPF = pd.DataFrame(X_ipf)\n",
    "dfSmoteIPF = dfSmoteIPF.assign(col_class = y_ipf)\n",
    "dfSmoteIPF\n",
    "ax =  sns.countplot(x='col_class', data=dfSmoteIPF, palette='rocket')\n",
    "\n",
    "abs_values = dfSmoteIPF['col_class'].value_counts(ascending=False).values\n",
    "\n",
    "ax.set_ylabel('Ejemplos')\n",
    "ax.set_xlabel('Evaluacion del Automovil:\\n 0 = inaceptable, 1 = aceptable')\n",
    "ax.bar_label(container=ax.containers[0], labels=abs_values)\n",
    "ax.set_title('Distribucion de clases aplicando SMOTE IPF \\n con un proportion = 0.7')"
   ]
  },
  {
   "cell_type": "markdown",
   "metadata": {},
   "source": [
    "<a id='smote_ipf-matriz_confusion'></a>\n",
    "## SMOTE-IPF: Matriz de Confusion\n",
    "[Inicio ▲](#Indice)"
   ]
  },
  {
   "cell_type": "code",
   "execution_count": 25,
   "metadata": {},
   "outputs": [
    {
     "name": "stdout",
     "output_type": "stream",
     "text": [
      "Confusion matrix\n",
      "\n",
      " [[363  40]\n",
      " [  0 327]]\n",
      "              precision    recall  f1-score   support\n",
      "\n",
      "           0       1.00      0.90      0.95       403\n",
      "           1       0.89      1.00      0.94       327\n",
      "\n",
      "    accuracy                           0.95       730\n",
      "   macro avg       0.95      0.95      0.95       730\n",
      "weighted avg       0.95      0.95      0.95       730\n",
      "\n"
     ]
    }
   ],
   "source": [
    "X_train, X_test, y_train, y_test = train_test_split(X_ipf, y_ipf, test_size= 0.33, random_state=42)\n",
    "clasifier = RandomForestClassifier(max_depth=3, random_state=0)\n",
    "\n",
    "# fit the model\n",
    "\n",
    "clasifier.fit(X_train,y_train)\n",
    "y_pred=clasifier.predict(X_test)\n",
    "cm = confusion_matrix(y_test, y_pred)\n",
    "\n",
    "print('Confusion matrix\\n\\n', cm)\n",
    "print(classification_report(y_test, y_pred))"
   ]
  },
  {
   "cell_type": "markdown",
   "metadata": {},
   "source": [
    "<a id='smote_enn-proportion0.7'></a>\n",
    "## SMOTE ENN con proportion modificado\n",
    "[Inicio ▲](#Indice)"
   ]
  },
  {
   "cell_type": "code",
   "execution_count": 26,
   "metadata": {},
   "outputs": [
    {
     "name": "stderr",
     "output_type": "stream",
     "text": [
      "2022-06-07 22:59:55,824:INFO:SMOTE_ENN: Running sampling via ('SMOTE_ENN', \"{'proportion': 0.5, 'n_neighbors': 5, 'n_jobs': 1, 'random_state': None}\")\n",
      "2022-06-07 22:59:55,825:INFO:SMOTE: Running sampling via ('SMOTE', \"{'proportion': 0.5, 'n_neighbors': 5, 'n_jobs': 1, 'random_state': <module 'numpy.random' from 'C:\\\\\\\\Users\\\\\\\\FamiliaNatelloMedina\\\\\\\\AppData\\\\\\\\Roaming\\\\\\\\Python\\\\\\\\Python310\\\\\\\\site-packages\\\\\\\\numpy\\\\\\\\random\\\\\\\\__init__.py'>}\")\n",
      "2022-06-07 22:59:55,832:INFO:EditedNearestNeighbors: Running noise removal via EditedNearestNeighbors\n"
     ]
    },
    {
     "name": "stdout",
     "output_type": "stream",
     "text": [
      "majority class: 1209\n",
      "minority class: 813\n"
     ]
    }
   ],
   "source": [
    "oversampler_enn= sv.SMOTE_ENN(proportion=0.5)\n",
    "X_enn, y_enn= oversampler_enn.sample(X.to_numpy(), y.to_numpy())\n",
    "print('majority class: %d' % np.sum(y_enn == 0))\n",
    "print('minority class: %d' % np.sum(y_enn == 1))"
   ]
  },
  {
   "cell_type": "code",
   "execution_count": 27,
   "metadata": {},
   "outputs": [
    {
     "data": {
      "text/plain": [
       "Text(0.5, 1.0, 'Distribucion de clases aplicando SMOTE ENN \\n con un proportion = 0.5')"
      ]
     },
     "execution_count": 27,
     "metadata": {},
     "output_type": "execute_result"
    },
    {
     "data": {
      "image/png": "[encoded data removed]",
      "text/plain": [
       "<Figure size 432x288 with 1 Axes>"
      ]
     },
     "metadata": {
      "needs_background": "light"
     },
     "output_type": "display_data"
    }
   ],
   "source": [
    "dfSmoteENN = pd.DataFrame(X_enn)\n",
    "dfSmoteENN = dfSmoteENN.assign(col_class = y_enn)\n",
    "dfSmoteENN\n",
    "ax =  sns.countplot(x='col_class', data=dfSmoteENN, palette='rocket')\n",
    "\n",
    "abs_values = dfSmoteENN['col_class'].value_counts(ascending=False).values\n",
    "\n",
    "ax.set_ylabel('Ejemplos')\n",
    "ax.set_xlabel('Evaluacion del Automovil:\\n 0 = inaceptable, 1 = aceptable')\n",
    "ax.bar_label(container=ax.containers[0], labels=abs_values)\n",
    "ax.set_title('Distribucion de clases aplicando SMOTE ENN \\n con un proportion = 0.5')"
   ]
  },
  {
   "cell_type": "markdown",
   "metadata": {},
   "source": [
    "<a id='smote_enn-matriz_confusion'></a>\n",
    "## SMOTE-ENN: Matriz de Confusion\n",
    "[Inicio ▲](#Indice)"
   ]
  },
  {
   "cell_type": "code",
   "execution_count": 28,
   "metadata": {},
   "outputs": [
    {
     "name": "stdout",
     "output_type": "stream",
     "text": [
      "Confusion matrix\n",
      "\n",
      " [[379  20]\n",
      " [  7 262]]\n",
      "              precision    recall  f1-score   support\n",
      "\n",
      "           0       0.98      0.95      0.97       399\n",
      "           1       0.93      0.97      0.95       269\n",
      "\n",
      "    accuracy                           0.96       668\n",
      "   macro avg       0.96      0.96      0.96       668\n",
      "weighted avg       0.96      0.96      0.96       668\n",
      "\n"
     ]
    }
   ],
   "source": [
    "X_train, X_test, y_train, y_test = train_test_split(X_enn, y_enn, test_size= 0.33, random_state=42)\n",
    "clasifier = RandomForestClassifier(max_depth=3, random_state=0)\n",
    "\n",
    "# fit the model\n",
    "\n",
    "clasifier.fit(X_train,y_train)\n",
    "y_pred=clasifier.predict(X_test)\n",
    "cm = confusion_matrix(y_test, y_pred)\n",
    "\n",
    "print('Confusion matrix\\n\\n', cm)\n",
    "print(classification_report(y_test, y_pred))"
   ]
  },
  {
   "cell_type": "markdown",
   "metadata": {},
   "source": [
    "<a id='smote-tomekLinks-proportion0.7'></a>\n",
    "## SMOTE TOMEKLinks con proportion modificado\n",
    "[Inicio ▲](#Indice)"
   ]
  },
  {
   "cell_type": "code",
   "execution_count": 29,
   "metadata": {},
   "outputs": [
    {
     "name": "stderr",
     "output_type": "stream",
     "text": [
      "2022-06-07 22:59:56,403:INFO:SMOTE_TomekLinks: Running sampling via ('SMOTE_TomekLinks', \"{'proportion': 0.2, 'n_neighbors': 5, 'n_jobs': 1, 'random_state': None}\")\n",
      "2022-06-07 22:59:56,404:INFO:SMOTE: Running sampling via ('SMOTE', \"{'proportion': 0.2, 'n_neighbors': 5, 'n_jobs': 1, 'random_state': <module 'numpy.random' from 'C:\\\\\\\\Users\\\\\\\\FamiliaNatelloMedina\\\\\\\\AppData\\\\\\\\Roaming\\\\\\\\Python\\\\\\\\Python310\\\\\\\\site-packages\\\\\\\\numpy\\\\\\\\random\\\\\\\\__init__.py'>}\")\n",
      "2022-06-07 22:59:56,412:INFO:TomekLinkRemoval: Running noise removal via TomekLinkRemoval\n"
     ]
    },
    {
     "name": "stdout",
     "output_type": "stream",
     "text": [
      "majority class: 1208\n",
      "minority class: 654\n"
     ]
    }
   ],
   "source": [
    "oversampler_klinks= sv.SMOTE_TomekLinks(proportion=0.2)\n",
    "X_tklinks, y_tklinks= oversampler_klinks.sample(X.to_numpy(), y.to_numpy())\n",
    "print('majority class: %d' % np.sum(y_tklinks == 0))\n",
    "print('minority class: %d' % np.sum(y_tklinks == 1))"
   ]
  },
  {
   "cell_type": "code",
   "execution_count": 30,
   "metadata": {},
   "outputs": [
    {
     "data": {
      "text/plain": [
       "Text(0.5, 1.0, 'Distribucion de clases aplicando SMOTE Tomek-links \\n con un proportion = 0.2')"
      ]
     },
     "execution_count": 30,
     "metadata": {},
     "output_type": "execute_result"
    },
    {
     "data": {
      "image/png": "[encoded data removed]",
      "text/plain": [
       "<Figure size 432x288 with 1 Axes>"
      ]
     },
     "metadata": {
      "needs_background": "light"
     },
     "output_type": "display_data"
    }
   ],
   "source": [
    "dfSmoteTKLinks = pd.DataFrame(X_tklinks)\n",
    "dfSmoteTKLinks = dfSmoteTKLinks.assign(col_class = y_tklinks)\n",
    "dfSmoteTKLinks\n",
    "ax =  sns.countplot(x='col_class', data=dfSmoteTKLinks, palette='rocket')\n",
    "\n",
    "abs_values = dfSmoteTKLinks['col_class'].value_counts(ascending=False).values\n",
    "\n",
    "ax.set_ylabel('Ejemplos')\n",
    "ax.set_xlabel('Evaluacion del Automovil:\\n 0 = inaceptable, 1 = aceptable')\n",
    "ax.bar_label(container=ax.containers[0], labels=abs_values)\n",
    "ax.set_title('Distribucion de clases aplicando SMOTE Tomek-links \\n con un proportion = 0.2')"
   ]
  },
  {
   "cell_type": "markdown",
   "metadata": {},
   "source": [
    "<a id='smote-tklinks-matriz_confusion'></a>\n",
    "## SMOTE-TomeKLinks: Matriz de Confusion\n",
    "[Inicio ▲](#Indice)"
   ]
  },
  {
   "cell_type": "code",
   "execution_count": 31,
   "metadata": {},
   "outputs": [
    {
     "name": "stdout",
     "output_type": "stream",
     "text": [
      "Confusion matrix\n",
      "\n",
      " [[387  21]\n",
      " [ 17 190]]\n",
      "              precision    recall  f1-score   support\n",
      "\n",
      "           0       0.96      0.95      0.95       408\n",
      "           1       0.90      0.92      0.91       207\n",
      "\n",
      "    accuracy                           0.94       615\n",
      "   macro avg       0.93      0.93      0.93       615\n",
      "weighted avg       0.94      0.94      0.94       615\n",
      "\n"
     ]
    }
   ],
   "source": [
    "X_train, X_test, y_train, y_test = train_test_split(X_tklinks, y_tklinks, test_size= 0.33, random_state=42)\n",
    "clasifier = RandomForestClassifier(max_depth=3, random_state=0)\n",
    "\n",
    "# fit the model\n",
    "\n",
    "clasifier.fit(X_train,y_train)\n",
    "y_pred=clasifier.predict(X_test)\n",
    "cm = confusion_matrix(y_test, y_pred)\n",
    "\n",
    "print('Confusion matrix\\n\\n', cm)\n",
    "print(classification_report(y_test, y_pred))"
   ]
  },
  {
   "cell_type": "code",
   "execution_count": 32,
   "metadata": {},
   "outputs": [
    {
     "data": {
      "text/plain": [
       "Text(30.5, 0.5, 'true')"
      ]
     },
     "execution_count": 32,
     "metadata": {},
     "output_type": "execute_result"
    },
    {
     "data": {
      "image/png": "[encoded data removed]",
      "text/plain": [
       "<Figure size 432x288 with 2 Axes>"
      ]
     },
     "metadata": {},
     "output_type": "display_data"
    }
   ],
   "source": [
    "import matplotlib.pyplot as plt\n",
    "\n",
    "sns.set()\n",
    "f,ax=plt.subplots()\n",
    "sns.heatmap(cm,annot=True,ax=ax) #Dibuja un mapa de calor\n",
    "\n",
    "ax.set_title('Matriz de Confusion') #título\n",
    "ax.set_xlabel('Predicciones') #eje x\n",
    "ax.set_ylabel('true') #eje y"
   ]
  }
 ],
 "metadata": {
  "interpreter": {
   "hash": "eabca979b0553fa6d87e9a00c352604d3b703d4afc9641643dd42376492b80f6"
  },
  "kernelspec": {
   "display_name": "Python 3.10.2 64-bit",
   "language": "python",
   "name": "python3"
  },
  "language_info": {
   "codemirror_mode": {
    "name": "ipython",
    "version": 3
   },
   "file_extension": ".py",
   "mimetype": "text/x-python",
   "name": "python",
   "nbconvert_exporter": "python",
   "pygments_lexer": "ipython3",
   "version": "3.10.2"
  },
  "orig_nbformat": 4
 },
 "nbformat": 4,
 "nbformat_minor": 2
}
