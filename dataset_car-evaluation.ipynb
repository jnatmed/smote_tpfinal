{
 "cells": [
  {
   "cell_type": "markdown",
   "metadata": {},
   "source": [
    "[FUENTE DE INFORMACION: - url: (https://archive.ics.uci.edu/ml/datasets/car+evaluation)](https://archive.ics.uci.edu/ml/datasets/car+evaluation)"
   ]
  },
  {
   "cell_type": "markdown",
   "metadata": {},
   "source": [
    "<a id='Indice'></a>\n",
    "## Índice\n",
    "[Inicio ▲](#Indice)\n",
    "1. [Estudiando el conjunto de Datos](#estudiando-los-datos)\n",
    "    1. [Graficando las clases](#grafico-clases)\n",
    "1. [Aplicando SMOTE](#aplicando-smote)\n",
    "    1. [Aplicando SMOTE con las proportions modificadas](#aplicando-smote-proportion)\n",
    "        1. [SMOTE IPF con proportion modificado](#smote-ipf-proportion0.7)\n",
    "        1. [SMOTE ENN con proportion modificado](#smote-enn-proportion0.7)\n",
    "        1. [SMOTE TOMEKLinks con proportion modificado](#smote-tomekLinks-proportion0.7)"
   ]
  },
  {
   "cell_type": "markdown",
   "metadata": {},
   "source": [
    "<a id='estudiando-los-datos'></a>\n",
    "## Estudiando el conjunto de Datos\n",
    "[Inicio ▲](#Indice)"
   ]
  },
  {
   "cell_type": "code",
   "execution_count": 2,
   "metadata": {},
   "outputs": [],
   "source": [
    "import pandas as pd\n",
    "import category_encoders as ce \n",
    "from sklearn.model_selection import train_test_split"
   ]
  },
  {
   "cell_type": "code",
   "execution_count": 3,
   "metadata": {},
   "outputs": [
    {
     "data": {
      "text/html": [
       "<div>\n",
       "<style scoped>\n",
       "    .dataframe tbody tr th:only-of-type {\n",
       "        vertical-align: middle;\n",
       "    }\n",
       "\n",
       "    .dataframe tbody tr th {\n",
       "        vertical-align: top;\n",
       "    }\n",
       "\n",
       "    .dataframe thead th {\n",
       "        text-align: right;\n",
       "    }\n",
       "</style>\n",
       "<table border=\"1\" class=\"dataframe\">\n",
       "  <thead>\n",
       "    <tr style=\"text-align: right;\">\n",
       "      <th></th>\n",
       "      <th>0</th>\n",
       "      <th>1</th>\n",
       "      <th>2</th>\n",
       "      <th>3</th>\n",
       "      <th>4</th>\n",
       "      <th>5</th>\n",
       "      <th>6</th>\n",
       "    </tr>\n",
       "  </thead>\n",
       "  <tbody>\n",
       "    <tr>\n",
       "      <th>0</th>\n",
       "      <td>vhigh</td>\n",
       "      <td>vhigh</td>\n",
       "      <td>2</td>\n",
       "      <td>2</td>\n",
       "      <td>small</td>\n",
       "      <td>low</td>\n",
       "      <td>unacc</td>\n",
       "    </tr>\n",
       "    <tr>\n",
       "      <th>1</th>\n",
       "      <td>vhigh</td>\n",
       "      <td>vhigh</td>\n",
       "      <td>2</td>\n",
       "      <td>2</td>\n",
       "      <td>small</td>\n",
       "      <td>med</td>\n",
       "      <td>unacc</td>\n",
       "    </tr>\n",
       "    <tr>\n",
       "      <th>2</th>\n",
       "      <td>vhigh</td>\n",
       "      <td>vhigh</td>\n",
       "      <td>2</td>\n",
       "      <td>2</td>\n",
       "      <td>small</td>\n",
       "      <td>high</td>\n",
       "      <td>unacc</td>\n",
       "    </tr>\n",
       "    <tr>\n",
       "      <th>3</th>\n",
       "      <td>vhigh</td>\n",
       "      <td>vhigh</td>\n",
       "      <td>2</td>\n",
       "      <td>2</td>\n",
       "      <td>med</td>\n",
       "      <td>low</td>\n",
       "      <td>unacc</td>\n",
       "    </tr>\n",
       "    <tr>\n",
       "      <th>4</th>\n",
       "      <td>vhigh</td>\n",
       "      <td>vhigh</td>\n",
       "      <td>2</td>\n",
       "      <td>2</td>\n",
       "      <td>med</td>\n",
       "      <td>med</td>\n",
       "      <td>unacc</td>\n",
       "    </tr>\n",
       "  </tbody>\n",
       "</table>\n",
       "</div>"
      ],
      "text/plain": [
       "       0      1  2  3      4     5      6\n",
       "0  vhigh  vhigh  2  2  small   low  unacc\n",
       "1  vhigh  vhigh  2  2  small   med  unacc\n",
       "2  vhigh  vhigh  2  2  small  high  unacc\n",
       "3  vhigh  vhigh  2  2    med   low  unacc\n",
       "4  vhigh  vhigh  2  2    med   med  unacc"
      ]
     },
     "execution_count": 3,
     "metadata": {},
     "output_type": "execute_result"
    }
   ],
   "source": [
    "data = pd.read_csv(\"car_evaluation.csv\",header=None)\n",
    "data.head()"
   ]
  },
  {
   "cell_type": "code",
   "execution_count": 4,
   "metadata": {},
   "outputs": [
    {
     "data": {
      "text/html": [
       "<div>\n",
       "<style scoped>\n",
       "    .dataframe tbody tr th:only-of-type {\n",
       "        vertical-align: middle;\n",
       "    }\n",
       "\n",
       "    .dataframe tbody tr th {\n",
       "        vertical-align: top;\n",
       "    }\n",
       "\n",
       "    .dataframe thead th {\n",
       "        text-align: right;\n",
       "    }\n",
       "</style>\n",
       "<table border=\"1\" class=\"dataframe\">\n",
       "  <thead>\n",
       "    <tr style=\"text-align: right;\">\n",
       "      <th></th>\n",
       "      <th>buying</th>\n",
       "      <th>maint</th>\n",
       "      <th>doors</th>\n",
       "      <th>persons</th>\n",
       "      <th>lug_boot</th>\n",
       "      <th>safety</th>\n",
       "      <th>class</th>\n",
       "    </tr>\n",
       "  </thead>\n",
       "  <tbody>\n",
       "    <tr>\n",
       "      <th>0</th>\n",
       "      <td>vhigh</td>\n",
       "      <td>vhigh</td>\n",
       "      <td>2</td>\n",
       "      <td>2</td>\n",
       "      <td>small</td>\n",
       "      <td>low</td>\n",
       "      <td>unacc</td>\n",
       "    </tr>\n",
       "    <tr>\n",
       "      <th>1</th>\n",
       "      <td>vhigh</td>\n",
       "      <td>vhigh</td>\n",
       "      <td>2</td>\n",
       "      <td>2</td>\n",
       "      <td>small</td>\n",
       "      <td>med</td>\n",
       "      <td>unacc</td>\n",
       "    </tr>\n",
       "    <tr>\n",
       "      <th>2</th>\n",
       "      <td>vhigh</td>\n",
       "      <td>vhigh</td>\n",
       "      <td>2</td>\n",
       "      <td>2</td>\n",
       "      <td>small</td>\n",
       "      <td>high</td>\n",
       "      <td>unacc</td>\n",
       "    </tr>\n",
       "    <tr>\n",
       "      <th>3</th>\n",
       "      <td>vhigh</td>\n",
       "      <td>vhigh</td>\n",
       "      <td>2</td>\n",
       "      <td>2</td>\n",
       "      <td>med</td>\n",
       "      <td>low</td>\n",
       "      <td>unacc</td>\n",
       "    </tr>\n",
       "    <tr>\n",
       "      <th>4</th>\n",
       "      <td>vhigh</td>\n",
       "      <td>vhigh</td>\n",
       "      <td>2</td>\n",
       "      <td>2</td>\n",
       "      <td>med</td>\n",
       "      <td>med</td>\n",
       "      <td>unacc</td>\n",
       "    </tr>\n",
       "  </tbody>\n",
       "</table>\n",
       "</div>"
      ],
      "text/plain": [
       "  buying  maint doors persons lug_boot safety  class\n",
       "0  vhigh  vhigh     2       2    small    low  unacc\n",
       "1  vhigh  vhigh     2       2    small    med  unacc\n",
       "2  vhigh  vhigh     2       2    small   high  unacc\n",
       "3  vhigh  vhigh     2       2      med    low  unacc\n",
       "4  vhigh  vhigh     2       2      med    med  unacc"
      ]
     },
     "execution_count": 4,
     "metadata": {},
     "output_type": "execute_result"
    }
   ],
   "source": [
    "col_names = ['buying','maint','doors','persons','lug_boot','safety','class']\n",
    "data.columns = col_names\n",
    "data.head()"
   ]
  },
  {
   "cell_type": "code",
   "execution_count": 5,
   "metadata": {},
   "outputs": [],
   "source": [
    "data=data.replace({\"unacc\":0,\"acc\":1, \"good\":1, \"vgood\":1})"
   ]
  },
  {
   "cell_type": "code",
   "execution_count": 6,
   "metadata": {},
   "outputs": [
    {
     "name": "stdout",
     "output_type": "stream",
     "text": [
      "Atributo: maint con Niveles : ['vhigh' 'high' 'med' 'low'] \n",
      "Atributo: doors con Niveles : ['2' '3' '4' '5more'] \n",
      "Atributo: persons con Niveles : ['2' '4' 'more'] \n",
      "Atributo: lug_boot con Niveles : ['small' 'med' 'big'] \n",
      "Atributo: safety con Niveles : ['low' 'med' 'high'] \n",
      "Atributo: class con Niveles : [0 1] \n"
     ]
    }
   ],
   "source": [
    "def show(data):\n",
    "  for i in data.columns[1:]:\n",
    "    print(\"Atributo: {} con Niveles : {} \".format(i,data[i].unique()))\n",
    "\n",
    "show(data)"
   ]
  },
  {
   "cell_type": "code",
   "execution_count": 7,
   "metadata": {},
   "outputs": [
    {
     "data": {
      "text/plain": [
       "buying      object\n",
       "maint       object\n",
       "doors       object\n",
       "persons     object\n",
       "lug_boot    object\n",
       "safety      object\n",
       "class        int64\n",
       "dtype: object"
      ]
     },
     "execution_count": 7,
     "metadata": {},
     "output_type": "execute_result"
    }
   ],
   "source": [
    "data.dtypes"
   ]
  },
  {
   "cell_type": "code",
   "execution_count": 8,
   "metadata": {},
   "outputs": [
    {
     "data": {
      "text/html": [
       "<div>\n",
       "<style scoped>\n",
       "    .dataframe tbody tr th:only-of-type {\n",
       "        vertical-align: middle;\n",
       "    }\n",
       "\n",
       "    .dataframe tbody tr th {\n",
       "        vertical-align: top;\n",
       "    }\n",
       "\n",
       "    .dataframe thead th {\n",
       "        text-align: right;\n",
       "    }\n",
       "</style>\n",
       "<table border=\"1\" class=\"dataframe\">\n",
       "  <thead>\n",
       "    <tr style=\"text-align: right;\">\n",
       "      <th></th>\n",
       "      <th>buying</th>\n",
       "      <th>maint</th>\n",
       "      <th>doors</th>\n",
       "      <th>persons</th>\n",
       "      <th>lug_boot</th>\n",
       "      <th>safety</th>\n",
       "      <th>class</th>\n",
       "    </tr>\n",
       "  </thead>\n",
       "  <tbody>\n",
       "    <tr>\n",
       "      <th>0</th>\n",
       "      <td>1</td>\n",
       "      <td>1</td>\n",
       "      <td>1</td>\n",
       "      <td>1</td>\n",
       "      <td>1</td>\n",
       "      <td>1</td>\n",
       "      <td>0</td>\n",
       "    </tr>\n",
       "    <tr>\n",
       "      <th>1</th>\n",
       "      <td>1</td>\n",
       "      <td>1</td>\n",
       "      <td>1</td>\n",
       "      <td>1</td>\n",
       "      <td>1</td>\n",
       "      <td>2</td>\n",
       "      <td>0</td>\n",
       "    </tr>\n",
       "    <tr>\n",
       "      <th>2</th>\n",
       "      <td>1</td>\n",
       "      <td>1</td>\n",
       "      <td>1</td>\n",
       "      <td>1</td>\n",
       "      <td>1</td>\n",
       "      <td>3</td>\n",
       "      <td>0</td>\n",
       "    </tr>\n",
       "    <tr>\n",
       "      <th>3</th>\n",
       "      <td>1</td>\n",
       "      <td>1</td>\n",
       "      <td>1</td>\n",
       "      <td>1</td>\n",
       "      <td>2</td>\n",
       "      <td>1</td>\n",
       "      <td>0</td>\n",
       "    </tr>\n",
       "    <tr>\n",
       "      <th>4</th>\n",
       "      <td>1</td>\n",
       "      <td>1</td>\n",
       "      <td>1</td>\n",
       "      <td>1</td>\n",
       "      <td>2</td>\n",
       "      <td>2</td>\n",
       "      <td>0</td>\n",
       "    </tr>\n",
       "  </tbody>\n",
       "</table>\n",
       "</div>"
      ],
      "text/plain": [
       "   buying  maint  doors  persons  lug_boot  safety  class\n",
       "0       1      1      1        1         1       1      0\n",
       "1       1      1      1        1         1       2      0\n",
       "2       1      1      1        1         1       3      0\n",
       "3       1      1      1        1         2       1      0\n",
       "4       1      1      1        1         2       2      0"
      ]
     },
     "execution_count": 8,
     "metadata": {},
     "output_type": "execute_result"
    }
   ],
   "source": [
    "encoder = ce.OrdinalEncoder(cols = ['buying','maint','doors','persons','lug_boot','safety'])\n",
    "data = encoder.fit_transform(data)\n",
    "data.head()"
   ]
  },
  {
   "cell_type": "code",
   "execution_count": 9,
   "metadata": {},
   "outputs": [
    {
     "name": "stdout",
     "output_type": "stream",
     "text": [
      "1    432\n",
      "2    432\n",
      "3    432\n",
      "4    432\n",
      "Name: buying, dtype: int64\n",
      "1    432\n",
      "2    432\n",
      "3    432\n",
      "4    432\n",
      "Name: maint, dtype: int64\n",
      "1    432\n",
      "2    432\n",
      "3    432\n",
      "4    432\n",
      "Name: doors, dtype: int64\n",
      "1    576\n",
      "2    576\n",
      "3    576\n",
      "Name: persons, dtype: int64\n",
      "1    576\n",
      "2    576\n",
      "3    576\n",
      "Name: lug_boot, dtype: int64\n",
      "1    576\n",
      "2    576\n",
      "3    576\n",
      "Name: safety, dtype: int64\n",
      "0    1210\n",
      "1     518\n",
      "Name: class, dtype: int64\n"
     ]
    }
   ],
   "source": [
    "for col in col_names:\n",
    "    print(data[col].value_counts())  "
   ]
  },
  {
   "cell_type": "code",
   "execution_count": 10,
   "metadata": {},
   "outputs": [
    {
     "data": {
      "text/plain": [
       "buying      0\n",
       "maint       0\n",
       "doors       0\n",
       "persons     0\n",
       "lug_boot    0\n",
       "safety      0\n",
       "class       0\n",
       "dtype: int64"
      ]
     },
     "execution_count": 10,
     "metadata": {},
     "output_type": "execute_result"
    }
   ],
   "source": [
    "data.isnull().sum()"
   ]
  },
  {
   "cell_type": "code",
   "execution_count": 11,
   "metadata": {},
   "outputs": [
    {
     "data": {
      "text/plain": [
       "0    1210\n",
       "1     518\n",
       "Name: class, dtype: int64"
      ]
     },
     "execution_count": 11,
     "metadata": {},
     "output_type": "execute_result"
    }
   ],
   "source": [
    "data['class'].value_counts()"
   ]
  },
  {
   "cell_type": "code",
   "execution_count": 12,
   "metadata": {},
   "outputs": [
    {
     "name": "stdout",
     "output_type": "stream",
     "text": [
      "(1157, 6)\n",
      "(571, 6)\n"
     ]
    }
   ],
   "source": [
    "X = data.drop(['class'], axis=1)\n",
    "\n",
    "y = data['class']\n",
    "from sklearn.model_selection import train_test_split\n",
    "X_train, X_test, y_train, y_test = train_test_split(X, y, test_size= 0.33, random_state=42)\n",
    "print(X_train.shape)\n",
    "print(X_test.shape)"
   ]
  },
  {
   "cell_type": "code",
   "execution_count": 13,
   "metadata": {},
   "outputs": [
    {
     "name": "stdout",
     "output_type": "stream",
     "text": [
      "inaceptable: 1210\n",
      "aceptable: 518\n"
     ]
    }
   ],
   "source": [
    "print(\"inaceptable: {}\".format(len(y[y==0])))\n",
    "print(\"aceptable: {}\".format(len(y[y==1])))"
   ]
  },
  {
   "cell_type": "code",
   "execution_count": 14,
   "metadata": {},
   "outputs": [],
   "source": [
    "from sklearn.model_selection import GridSearchCV\n",
    "from sklearn.ensemble import RandomForestClassifier"
   ]
  },
  {
   "cell_type": "code",
   "execution_count": 15,
   "metadata": {},
   "outputs": [
    {
     "data": {
      "text/plain": [
       "0.9369527145359019"
      ]
     },
     "execution_count": 15,
     "metadata": {},
     "output_type": "execute_result"
    }
   ],
   "source": [
    "clasifier = RandomForestClassifier(max_depth=3, random_state=0)\n",
    "\n",
    "# fit the model\n",
    "\n",
    "clasifier.fit(X_train,y_train)\n",
    "y_pred=clasifier.predict(X_test)\n",
    "clasifier.score(X_test,y_test)"
   ]
  },
  {
   "cell_type": "code",
   "execution_count": 16,
   "metadata": {},
   "outputs": [
    {
     "name": "stdout",
     "output_type": "stream",
     "text": [
      "Confusion matrix\n",
      "\n",
      " [[392   5]\n",
      " [ 31 143]]\n"
     ]
    }
   ],
   "source": [
    "from sklearn.metrics import confusion_matrix\n",
    "\n",
    "cm = confusion_matrix(y_test, y_pred)\n",
    "\n",
    "print('Confusion matrix\\n\\n', cm)"
   ]
  },
  {
   "cell_type": "code",
   "execution_count": 17,
   "metadata": {},
   "outputs": [
    {
     "name": "stdout",
     "output_type": "stream",
     "text": [
      "              precision    recall  f1-score   support\n",
      "\n",
      "           0       0.93      0.99      0.96       397\n",
      "           1       0.97      0.82      0.89       174\n",
      "\n",
      "    accuracy                           0.94       571\n",
      "   macro avg       0.95      0.90      0.92       571\n",
      "weighted avg       0.94      0.94      0.94       571\n",
      "\n"
     ]
    }
   ],
   "source": [
    "from sklearn.metrics import classification_report\n",
    "\n",
    "print(classification_report(y_test, y_pred))"
   ]
  },
  {
   "cell_type": "code",
   "execution_count": 18,
   "metadata": {},
   "outputs": [],
   "source": [
    "import seaborn as sns"
   ]
  },
  {
   "cell_type": "markdown",
   "metadata": {},
   "source": [
    "<a id='grafico-clases'></a>\n",
    "## Grafico de Clases\n",
    "[Inicio ▲](#Indice)"
   ]
  },
  {
   "cell_type": "code",
   "execution_count": 19,
   "metadata": {},
   "outputs": [
    {
     "data": {
      "text/plain": [
       "Text(0.5, 1.0, 'Distribucion de clases sin aplicar SMOTE')"
      ]
     },
     "execution_count": 19,
     "metadata": {},
     "output_type": "execute_result"
    },
    {
     "data": {
      "image/png": "[encoded data removed]",
      "text/plain": [
       "<Figure size 432x288 with 1 Axes>"
      ]
     },
     "metadata": {
      "needs_background": "light"
     },
     "output_type": "display_data"
    }
   ],
   "source": [
    "ax =  sns.countplot(x='class', data=data, palette='rocket')\n",
    "\n",
    "abs_values = data['class'].value_counts(ascending=False).values\n",
    "\n",
    "ax.set_ylabel('Ejemplos')\n",
    "ax.set_xlabel('Evaluacion del Automovil: 0 = inaceptable, 1 = aceptable')\n",
    "ax.bar_label(container=ax.containers[0], labels=abs_values)\n",
    "ax.set_title('Distribucion de clases sin aplicar SMOTE')"
   ]
  },
  {
   "cell_type": "markdown",
   "metadata": {},
   "source": [
    "<a id='aplicando-smote'></a>\n",
    "## Aplicando SMOTE\n",
    "[Inicio ▲](#Indice)"
   ]
  },
  {
   "cell_type": "code",
   "execution_count": 20,
   "metadata": {},
   "outputs": [],
   "source": [
    "import smote_variants as sv\n",
    "from sklearn.pipeline import Pipeline\n",
    "from sklearn.preprocessing import StandardScaler\n",
    "from sklearn.naive_bayes import GaussianNB\n"
   ]
  },
  {
   "cell_type": "code",
   "execution_count": 21,
   "metadata": {},
   "outputs": [
    {
     "name": "stderr",
     "output_type": "stream",
     "text": [
      "2022-05-22 15:30:30,113:INFO:SMOTE_IPF: Running sampling via ('SMOTE_IPF', \"{'proportion': 1.0, 'n_neighbors': 5, 'n_folds': 9, 'k': 3, 'p': 0.01, 'voting': 'majority', 'n_jobs': 1, 'classifier': DecisionTreeClassifier(random_state=2), 'random_state': None}\")\n",
      "2022-05-22 15:30:30,114:INFO:SMOTE: Running sampling via ('SMOTE', \"{'proportion': 1.0, 'n_neighbors': 5, 'n_jobs': 1, 'random_state': <module 'numpy.random' from 'C:\\\\\\\\Users\\\\\\\\FamiliaNatelloMedina\\\\\\\\AppData\\\\\\\\Roaming\\\\\\\\Python\\\\\\\\Python310\\\\\\\\site-packages\\\\\\\\numpy\\\\\\\\random\\\\\\\\__init__.py'>}\")\n",
      "2022-05-22 15:30:30,148:INFO:SMOTE_IPF: Removing 0 elements\n",
      "2022-05-22 15:30:30,172:INFO:SMOTE_IPF: Removing 0 elements\n",
      "2022-05-22 15:30:30,193:INFO:SMOTE_IPF: Removing 0 elements\n"
     ]
    },
    {
     "data": {
      "text/plain": [
       "[<smote_variants._smote_variants.distance_SMOTE at 0x1eaa35bd390>,\n",
       " <smote_variants._smote_variants.distance_SMOTE at 0x1ea81083e80>,\n",
       " <smote_variants._smote_variants.distance_SMOTE at 0x1ea9156e9e0>,\n",
       " <smote_variants._smote_variants.distance_SMOTE at 0x1ea9156e260>,\n",
       " <smote_variants._smote_variants.distance_SMOTE at 0x1ea9156fca0>,\n",
       " <smote_variants._smote_variants.distance_SMOTE at 0x1ea9156fbb0>,\n",
       " <smote_variants._smote_variants.distance_SMOTE at 0x1ea9156dfc0>,\n",
       " <smote_variants._smote_variants.distance_SMOTE at 0x1ea9156e050>,\n",
       " <smote_variants._smote_variants.distance_SMOTE at 0x1ea9156ec80>]"
      ]
     },
     "execution_count": 21,
     "metadata": {},
     "output_type": "execute_result"
    }
   ],
   "source": [
    "# oversampler= sv.SMOTE_TomekLinks()\n",
    "# oversampler= sv.SMOTE_ENN()\n",
    "oversampler= sv.SMOTE_IPF()\n",
    "classifier= GaussianNB()\n",
    "# classifier= RandomForestClassifier(random_state=42)\n",
    "model= Pipeline([\n",
    "                ('scale', StandardScaler()),\n",
    "                ('clf', sv.OversamplingClassifier(oversampler, classifier))\n",
    "            ])\n",
    "model.fit(X_train, y_train)\n",
    "param_grid= {'clf__oversampler':[sv.distance_SMOTE(proportion=0.2),\n",
    "                                 sv.distance_SMOTE(proportion=0.3),\n",
    "                                 sv.distance_SMOTE(proportion=0.4),\n",
    "                                 sv.distance_SMOTE(proportion=0.5),\n",
    "                                 sv.distance_SMOTE(proportion=0.6),\n",
    "                                 sv.distance_SMOTE(proportion=0.7),\n",
    "                                 sv.distance_SMOTE(proportion=0.8),\n",
    "                                 sv.distance_SMOTE(proportion=0.9),\n",
    "                                 sv.distance_SMOTE(proportion=1.0)]}\n",
    "param_grid['clf__oversampler']"
   ]
  },
  {
   "cell_type": "code",
   "execution_count": 22,
   "metadata": {},
   "outputs": [
    {
     "name": "stderr",
     "output_type": "stream",
     "text": [
      "2022-05-22 15:30:30,292:INFO:distance_SMOTE: Running sampling via ('distance_SMOTE', \"{'proportion': 0.2, 'n_neighbors': 5, 'n_jobs': 1, 'random_state': None}\")\n",
      "2022-05-22 15:30:30,311:INFO:distance_SMOTE: Running sampling via ('distance_SMOTE', \"{'proportion': 0.2, 'n_neighbors': 5, 'n_jobs': 1, 'random_state': None}\")\n",
      "2022-05-22 15:30:30,329:INFO:distance_SMOTE: Running sampling via ('distance_SMOTE', \"{'proportion': 0.2, 'n_neighbors': 5, 'n_jobs': 1, 'random_state': None}\")\n",
      "2022-05-22 15:30:30,362:INFO:distance_SMOTE: Running sampling via ('distance_SMOTE', \"{'proportion': 0.3, 'n_neighbors': 5, 'n_jobs': 1, 'random_state': None}\")\n",
      "2022-05-22 15:30:30,393:INFO:distance_SMOTE: Running sampling via ('distance_SMOTE', \"{'proportion': 0.3, 'n_neighbors': 5, 'n_jobs': 1, 'random_state': None}\")\n",
      "2022-05-22 15:30:30,423:INFO:distance_SMOTE: Running sampling via ('distance_SMOTE', \"{'proportion': 0.3, 'n_neighbors': 5, 'n_jobs': 1, 'random_state': None}\")\n",
      "2022-05-22 15:30:30,447:INFO:distance_SMOTE: Running sampling via ('distance_SMOTE', \"{'proportion': 0.4, 'n_neighbors': 5, 'n_jobs': 1, 'random_state': None}\")\n"
     ]
    },
    {
     "name": "stdout",
     "output_type": "stream",
     "text": [
      "Fitting 3 folds for each of 9 candidates, totalling 27 fits\n",
      "[CV] END clf__oversampler=('distance_SMOTE', \"{'proportion': 0.2, 'n_neighbors': 5, 'n_jobs': 1, 'random_state': None}\"); total time=   0.0s\n",
      "[CV] END clf__oversampler=('distance_SMOTE', \"{'proportion': 0.2, 'n_neighbors': 5, 'n_jobs': 1, 'random_state': None}\"); total time=   0.0s\n",
      "[CV] END clf__oversampler=('distance_SMOTE', \"{'proportion': 0.2, 'n_neighbors': 5, 'n_jobs': 1, 'random_state': None}\"); total time=   0.0s\n",
      "[CV] END clf__oversampler=('distance_SMOTE', \"{'proportion': 0.3, 'n_neighbors': 5, 'n_jobs': 1, 'random_state': None}\"); total time=   0.0s\n",
      "[CV] END clf__oversampler=('distance_SMOTE', \"{'proportion': 0.3, 'n_neighbors': 5, 'n_jobs': 1, 'random_state': None}\"); total time=   0.0s\n",
      "[CV] END clf__oversampler=('distance_SMOTE', \"{'proportion': 0.3, 'n_neighbors': 5, 'n_jobs': 1, 'random_state': None}\"); total time=   0.0s\n",
      "[CV] END clf__oversampler=('distance_SMOTE', \"{'proportion': 0.4, 'n_neighbors': 5, 'n_jobs': 1, 'random_state': None}\"); total time=   0.0s\n"
     ]
    },
    {
     "name": "stderr",
     "output_type": "stream",
     "text": [
      "2022-05-22 15:30:30,477:INFO:distance_SMOTE: Running sampling via ('distance_SMOTE', \"{'proportion': 0.4, 'n_neighbors': 5, 'n_jobs': 1, 'random_state': None}\")\n",
      "2022-05-22 15:30:30,502:INFO:distance_SMOTE: Running sampling via ('distance_SMOTE', \"{'proportion': 0.4, 'n_neighbors': 5, 'n_jobs': 1, 'random_state': None}\")\n",
      "2022-05-22 15:30:30,529:INFO:distance_SMOTE: Running sampling via ('distance_SMOTE', \"{'proportion': 0.5, 'n_neighbors': 5, 'n_jobs': 1, 'random_state': None}\")\n",
      "2022-05-22 15:30:30,560:INFO:distance_SMOTE: Running sampling via ('distance_SMOTE', \"{'proportion': 0.5, 'n_neighbors': 5, 'n_jobs': 1, 'random_state': None}\")\n",
      "2022-05-22 15:30:30,590:INFO:distance_SMOTE: Running sampling via ('distance_SMOTE', \"{'proportion': 0.5, 'n_neighbors': 5, 'n_jobs': 1, 'random_state': None}\")\n",
      "2022-05-22 15:30:30,619:INFO:distance_SMOTE: Running sampling via ('distance_SMOTE', \"{'proportion': 0.6, 'n_neighbors': 5, 'n_jobs': 1, 'random_state': None}\")\n",
      "2022-05-22 15:30:30,653:INFO:distance_SMOTE: Running sampling via ('distance_SMOTE', \"{'proportion': 0.6, 'n_neighbors': 5, 'n_jobs': 1, 'random_state': None}\")\n",
      "2022-05-22 15:30:30,679:INFO:distance_SMOTE: Running sampling via ('distance_SMOTE', \"{'proportion': 0.6, 'n_neighbors': 5, 'n_jobs': 1, 'random_state': None}\")\n"
     ]
    },
    {
     "name": "stdout",
     "output_type": "stream",
     "text": [
      "[CV] END clf__oversampler=('distance_SMOTE', \"{'proportion': 0.4, 'n_neighbors': 5, 'n_jobs': 1, 'random_state': None}\"); total time=   0.0s\n",
      "[CV] END clf__oversampler=('distance_SMOTE', \"{'proportion': 0.4, 'n_neighbors': 5, 'n_jobs': 1, 'random_state': None}\"); total time=   0.0s\n",
      "[CV] END clf__oversampler=('distance_SMOTE', \"{'proportion': 0.5, 'n_neighbors': 5, 'n_jobs': 1, 'random_state': None}\"); total time=   0.0s\n",
      "[CV] END clf__oversampler=('distance_SMOTE', \"{'proportion': 0.5, 'n_neighbors': 5, 'n_jobs': 1, 'random_state': None}\"); total time=   0.0s\n",
      "[CV] END clf__oversampler=('distance_SMOTE', \"{'proportion': 0.5, 'n_neighbors': 5, 'n_jobs': 1, 'random_state': None}\"); total time=   0.0s\n",
      "[CV] END clf__oversampler=('distance_SMOTE', \"{'proportion': 0.6, 'n_neighbors': 5, 'n_jobs': 1, 'random_state': None}\"); total time=   0.0s\n",
      "[CV] END clf__oversampler=('distance_SMOTE', \"{'proportion': 0.6, 'n_neighbors': 5, 'n_jobs': 1, 'random_state': None}\"); total time=   0.0s\n"
     ]
    },
    {
     "name": "stderr",
     "output_type": "stream",
     "text": [
      "2022-05-22 15:30:30,710:INFO:distance_SMOTE: Running sampling via ('distance_SMOTE', \"{'proportion': 0.7, 'n_neighbors': 5, 'n_jobs': 1, 'random_state': None}\")\n",
      "2022-05-22 15:30:30,731:INFO:distance_SMOTE: Running sampling via ('distance_SMOTE', \"{'proportion': 0.7, 'n_neighbors': 5, 'n_jobs': 1, 'random_state': None}\")\n",
      "2022-05-22 15:30:30,753:INFO:distance_SMOTE: Running sampling via ('distance_SMOTE', \"{'proportion': 0.7, 'n_neighbors': 5, 'n_jobs': 1, 'random_state': None}\")\n",
      "2022-05-22 15:30:30,776:INFO:distance_SMOTE: Running sampling via ('distance_SMOTE', \"{'proportion': 0.8, 'n_neighbors': 5, 'n_jobs': 1, 'random_state': None}\")\n",
      "2022-05-22 15:30:30,803:INFO:distance_SMOTE: Running sampling via ('distance_SMOTE', \"{'proportion': 0.8, 'n_neighbors': 5, 'n_jobs': 1, 'random_state': None}\")\n",
      "2022-05-22 15:30:30,834:INFO:distance_SMOTE: Running sampling via ('distance_SMOTE', \"{'proportion': 0.8, 'n_neighbors': 5, 'n_jobs': 1, 'random_state': None}\")\n",
      "2022-05-22 15:30:30,871:INFO:distance_SMOTE: Running sampling via ('distance_SMOTE', \"{'proportion': 0.9, 'n_neighbors': 5, 'n_jobs': 1, 'random_state': None}\")\n"
     ]
    },
    {
     "name": "stdout",
     "output_type": "stream",
     "text": [
      "[CV] END clf__oversampler=('distance_SMOTE', \"{'proportion': 0.6, 'n_neighbors': 5, 'n_jobs': 1, 'random_state': None}\"); total time=   0.0s\n",
      "[CV] END clf__oversampler=('distance_SMOTE', \"{'proportion': 0.7, 'n_neighbors': 5, 'n_jobs': 1, 'random_state': None}\"); total time=   0.0s\n",
      "[CV] END clf__oversampler=('distance_SMOTE', \"{'proportion': 0.7, 'n_neighbors': 5, 'n_jobs': 1, 'random_state': None}\"); total time=   0.0s\n",
      "[CV] END clf__oversampler=('distance_SMOTE', \"{'proportion': 0.7, 'n_neighbors': 5, 'n_jobs': 1, 'random_state': None}\"); total time=   0.0s\n",
      "[CV] END clf__oversampler=('distance_SMOTE', \"{'proportion': 0.8, 'n_neighbors': 5, 'n_jobs': 1, 'random_state': None}\"); total time=   0.0s\n",
      "[CV] END clf__oversampler=('distance_SMOTE', \"{'proportion': 0.8, 'n_neighbors': 5, 'n_jobs': 1, 'random_state': None}\"); total time=   0.0s\n",
      "[CV] END clf__oversampler=('distance_SMOTE', \"{'proportion': 0.8, 'n_neighbors': 5, 'n_jobs': 1, 'random_state': None}\"); total time=   0.0s\n",
      "[CV] END clf__oversampler=('distance_SMOTE', \"{'proportion': 0.9, 'n_neighbors': 5, 'n_jobs': 1, 'random_state': None}\"); total time=   0.0s\n"
     ]
    },
    {
     "name": "stderr",
     "output_type": "stream",
     "text": [
      "2022-05-22 15:30:30,910:INFO:distance_SMOTE: Running sampling via ('distance_SMOTE', \"{'proportion': 0.9, 'n_neighbors': 5, 'n_jobs': 1, 'random_state': None}\")\n",
      "2022-05-22 15:30:30,945:INFO:distance_SMOTE: Running sampling via ('distance_SMOTE', \"{'proportion': 0.9, 'n_neighbors': 5, 'n_jobs': 1, 'random_state': None}\")\n",
      "2022-05-22 15:30:30,971:INFO:distance_SMOTE: Running sampling via ('distance_SMOTE', \"{'proportion': 1.0, 'n_neighbors': 5, 'n_jobs': 1, 'random_state': None}\")\n",
      "2022-05-22 15:30:30,998:INFO:distance_SMOTE: Running sampling via ('distance_SMOTE', \"{'proportion': 1.0, 'n_neighbors': 5, 'n_jobs': 1, 'random_state': None}\")\n",
      "2022-05-22 15:30:31,032:INFO:distance_SMOTE: Running sampling via ('distance_SMOTE', \"{'proportion': 1.0, 'n_neighbors': 5, 'n_jobs': 1, 'random_state': None}\")\n",
      "2022-05-22 15:30:31,062:INFO:distance_SMOTE: Running sampling via ('distance_SMOTE', \"{'proportion': 1.0, 'n_neighbors': 5, 'n_jobs': 1, 'random_state': None}\")\n"
     ]
    },
    {
     "name": "stdout",
     "output_type": "stream",
     "text": [
      "[CV] END clf__oversampler=('distance_SMOTE', \"{'proportion': 0.9, 'n_neighbors': 5, 'n_jobs': 1, 'random_state': None}\"); total time=   0.0s\n",
      "[CV] END clf__oversampler=('distance_SMOTE', \"{'proportion': 0.9, 'n_neighbors': 5, 'n_jobs': 1, 'random_state': None}\"); total time=   0.0s\n",
      "[CV] END clf__oversampler=('distance_SMOTE', \"{'proportion': 1.0, 'n_neighbors': 5, 'n_jobs': 1, 'random_state': None}\"); total time=   0.0s\n",
      "[CV] END clf__oversampler=('distance_SMOTE', \"{'proportion': 1.0, 'n_neighbors': 5, 'n_jobs': 1, 'random_state': None}\"); total time=   0.0s\n",
      "[CV] END clf__oversampler=('distance_SMOTE', \"{'proportion': 1.0, 'n_neighbors': 5, 'n_jobs': 1, 'random_state': None}\"); total time=   0.0s\n"
     ]
    },
    {
     "data": {
      "text/plain": [
       "GridSearchCV(cv=3,\n",
       "             estimator=Pipeline(steps=[('scale', StandardScaler()),\n",
       "                                       ('clf',\n",
       "                                        OversamplingClassifier(classifier=GaussianNB(),\n",
       "                                                               oversampler=<smote_variants._smote_variants.SMOTE_IPF object at 0x000001EA9156F490>))]),\n",
       "             n_jobs=1,\n",
       "             param_grid={'clf__oversampler': [<smote_variants._smote_variants.distance_SMOTE object at 0x000001EAA35BD390>,\n",
       "                                              <smote_variants._smote_va...\n",
       "                                              <smote_variants._smote_variants.distance_SMOTE object at 0x000001EA9156FBB0>,\n",
       "                                              <smote_variants._smote_variants.distance_SMOTE object at 0x000001EA9156DFC0>,\n",
       "                                              <smote_variants._smote_variants.distance_SMOTE object at 0x000001EA9156E050>,\n",
       "                                              <smote_variants._smote_variants.distance_SMOTE object at 0x000001EA9156EC80>]},\n",
       "             refit='recall',\n",
       "             scoring={'f1': 'f1', 'precision': 'precision', 'recall': 'recall'},\n",
       "             verbose=2)"
      ]
     },
     "execution_count": 22,
     "metadata": {},
     "output_type": "execute_result"
    }
   ],
   "source": [
    "scoring = {\"recall\": \"recall\", \"precision\": \"precision\", \"f1\" : \"f1\"}\n",
    "grid= GridSearchCV(model, param_grid= param_grid, cv= 3, n_jobs= 1, verbose= 2, scoring= scoring, refit='recall' ) #probar con lista ['f1','recall','precision']\n",
    "grid.fit(X_train, y_train)"
   ]
  },
  {
   "cell_type": "code",
   "execution_count": 23,
   "metadata": {},
   "outputs": [
    {
     "data": {
      "text/plain": [
       "{'mean_fit_time': array([0.01365829, 0.02232091, 0.01798956, 0.01911751, 0.02310689,\n",
       "        0.01645056, 0.0242606 , 0.02636909, 0.02310046]),\n",
       " 'std_fit_time': array([0.00169894, 0.00792583, 0.00081722, 0.00137249, 0.00176394,\n",
       "        0.00071609, 0.00233301, 0.00396997, 0.00410156]),\n",
       " 'mean_score_time': array([0.00533032, 0.00766174, 0.00599623, 0.00899879, 0.00699647,\n",
       "        0.00466784, 0.00599678, 0.00666769, 0.00565998]),\n",
       " 'std_score_time': array([4.70696366e-04, 9.42628497e-04, 1.41310002e-03, 9.27878906e-05,\n",
       "        1.41416726e-03, 4.72113190e-04, 1.41371769e-03, 1.75861960e-03,\n",
       "        4.69804776e-04]),\n",
       " 'param_clf__oversampler': masked_array(data=[<smote_variants._smote_variants.distance_SMOTE object at 0x000001EAA35BD390>,\n",
       "                    <smote_variants._smote_variants.distance_SMOTE object at 0x000001EA81083E80>,\n",
       "                    <smote_variants._smote_variants.distance_SMOTE object at 0x000001EA9156E9E0>,\n",
       "                    <smote_variants._smote_variants.distance_SMOTE object at 0x000001EA9156E260>,\n",
       "                    <smote_variants._smote_variants.distance_SMOTE object at 0x000001EA9156FCA0>,\n",
       "                    <smote_variants._smote_variants.distance_SMOTE object at 0x000001EA9156FBB0>,\n",
       "                    <smote_variants._smote_variants.distance_SMOTE object at 0x000001EA9156DFC0>,\n",
       "                    <smote_variants._smote_variants.distance_SMOTE object at 0x000001EA9156E050>,\n",
       "                    <smote_variants._smote_variants.distance_SMOTE object at 0x000001EA9156EC80>],\n",
       "              mask=[False, False, False, False, False, False, False, False,\n",
       "                    False],\n",
       "        fill_value='?',\n",
       "             dtype=object),\n",
       " 'params': [{'clf__oversampler': <smote_variants._smote_variants.distance_SMOTE at 0x1eaa35bd390>},\n",
       "  {'clf__oversampler': <smote_variants._smote_variants.distance_SMOTE at 0x1ea81083e80>},\n",
       "  {'clf__oversampler': <smote_variants._smote_variants.distance_SMOTE at 0x1ea9156e9e0>},\n",
       "  {'clf__oversampler': <smote_variants._smote_variants.distance_SMOTE at 0x1ea9156e260>},\n",
       "  {'clf__oversampler': <smote_variants._smote_variants.distance_SMOTE at 0x1ea9156fca0>},\n",
       "  {'clf__oversampler': <smote_variants._smote_variants.distance_SMOTE at 0x1ea9156fbb0>},\n",
       "  {'clf__oversampler': <smote_variants._smote_variants.distance_SMOTE at 0x1ea9156dfc0>},\n",
       "  {'clf__oversampler': <smote_variants._smote_variants.distance_SMOTE at 0x1ea9156e050>},\n",
       "  {'clf__oversampler': <smote_variants._smote_variants.distance_SMOTE at 0x1ea9156ec80>}],\n",
       " 'split0_test_recall': array([0.80869565, 0.83478261, 0.83478261, 0.89565217, 0.89565217,\n",
       "        0.91304348, 0.91304348, 0.92173913, 0.93913043]),\n",
       " 'split1_test_recall': array([0.75652174, 0.77391304, 0.8173913 , 0.82608696, 0.84347826,\n",
       "        0.85217391, 0.86086957, 0.86956522, 0.92173913]),\n",
       " 'split2_test_recall': array([0.83333333, 0.86842105, 0.85964912, 0.89473684, 0.88596491,\n",
       "        0.92982456, 0.92105263, 0.93859649, 0.93859649]),\n",
       " 'mean_test_recall': array([0.79951691, 0.82570557, 0.83727435, 0.87215866, 0.87503178,\n",
       "        0.89834732, 0.89832189, 0.90996695, 0.93315535]),\n",
       " 'std_test_recall': array([0.03202283, 0.03911296, 0.01734142, 0.03257976, 0.0226595 ,\n",
       "        0.03336054, 0.02668388, 0.02938557, 0.00807543]),\n",
       " 'rank_test_recall': array([9, 8, 7, 6, 5, 3, 4, 2, 1]),\n",
       " 'split0_test_precision': array([0.85321101, 0.85714286, 0.85714286, 0.8442623 , 0.83739837,\n",
       "        0.84677419, 0.82677165, 0.82170543, 0.82442748]),\n",
       " 'split1_test_precision': array([0.90625   , 0.89      , 0.91262136, 0.89622642, 0.88181818,\n",
       "        0.88288288, 0.85344828, 0.85470085, 0.84126984]),\n",
       " 'split2_test_precision': array([0.84821429, 0.84615385, 0.80991736, 0.83606557, 0.7890625 ,\n",
       "        0.8030303 , 0.8203125 , 0.77536232, 0.7810219 ]),\n",
       " 'mean_test_precision': array([0.8692251 , 0.86443223, 0.85989386, 0.85885143, 0.83609302,\n",
       "        0.84422913, 0.83351081, 0.8172562 , 0.81557307]),\n",
       " 'std_test_precision': array([0.02625991, 0.01862745, 0.04197383, 0.02663912, 0.0378786 ,\n",
       "        0.03264931, 0.01434241, 0.03254225, 0.02538049]),\n",
       " 'rank_test_precision': array([1, 2, 3, 4, 6, 5, 7, 8, 9]),\n",
       " 'split0_test_f1': array([0.83035714, 0.84581498, 0.84581498, 0.86919831, 0.86554622,\n",
       "        0.87866109, 0.8677686 , 0.86885246, 0.87804878]),\n",
       " 'split1_test_f1': array([0.82464455, 0.82790698, 0.86238532, 0.85972851, 0.86222222,\n",
       "        0.86725664, 0.85714286, 0.86206897, 0.87966805]),\n",
       " 'split2_test_f1': array([0.84070796, 0.85714286, 0.83404255, 0.86440678, 0.83471074,\n",
       "        0.86178862, 0.8677686 , 0.84920635, 0.85258964]),\n",
       " 'mean_test_f1': array([0.83190322, 0.8436216 , 0.84741428, 0.86444453, 0.85415973,\n",
       "        0.86923545, 0.86422668, 0.86004259, 0.87010216]),\n",
       " 'std_test_f1': array([0.00664836, 0.01203584, 0.01162602, 0.00386612, 0.0138193 ,\n",
       "        0.00702884, 0.00500902, 0.00814748, 0.01240085]),\n",
       " 'rank_test_f1': array([9, 8, 7, 3, 6, 2, 4, 5, 1])}"
      ]
     },
     "execution_count": 23,
     "metadata": {},
     "output_type": "execute_result"
    }
   ],
   "source": [
    "grid.cv_results_"
   ]
  },
  {
   "cell_type": "code",
   "execution_count": 24,
   "metadata": {},
   "outputs": [
    {
     "name": "stdout",
     "output_type": "stream",
     "text": [
      "<bound method BaseEstimator.get_params of GridSearchCV(cv=3,\n",
      "             estimator=Pipeline(steps=[('scale', StandardScaler()),\n",
      "                                       ('clf',\n",
      "                                        OversamplingClassifier(classifier=GaussianNB(),\n",
      "                                                               oversampler=<smote_variants._smote_variants.SMOTE_IPF object at 0x000001EA9156F490>))]),\n",
      "             n_jobs=1,\n",
      "             param_grid={'clf__oversampler': [<smote_variants._smote_variants.distance_SMOTE object at 0x000001EAA35BD390>,\n",
      "                                              <smote_variants._smote_va...\n",
      "                                              <smote_variants._smote_variants.distance_SMOTE object at 0x000001EA9156FBB0>,\n",
      "                                              <smote_variants._smote_variants.distance_SMOTE object at 0x000001EA9156DFC0>,\n",
      "                                              <smote_variants._smote_variants.distance_SMOTE object at 0x000001EA9156E050>,\n",
      "                                              <smote_variants._smote_variants.distance_SMOTE object at 0x000001EA9156EC80>]},\n",
      "             refit='recall',\n",
      "             scoring={'f1': 'f1', 'precision': 'precision', 'recall': 'recall'},\n",
      "             verbose=2)>\n"
     ]
    },
    {
     "data": {
      "text/html": [
       "<div>\n",
       "<style scoped>\n",
       "    .dataframe tbody tr th:only-of-type {\n",
       "        vertical-align: middle;\n",
       "    }\n",
       "\n",
       "    .dataframe tbody tr th {\n",
       "        vertical-align: top;\n",
       "    }\n",
       "\n",
       "    .dataframe thead th {\n",
       "        text-align: right;\n",
       "    }\n",
       "</style>\n",
       "<table border=\"1\" class=\"dataframe\">\n",
       "  <thead>\n",
       "    <tr style=\"text-align: right;\">\n",
       "      <th></th>\n",
       "      <th>Recall</th>\n",
       "      <th>Precision</th>\n",
       "      <th>F1</th>\n",
       "    </tr>\n",
       "  </thead>\n",
       "  <tbody>\n",
       "    <tr>\n",
       "      <th>0</th>\n",
       "      <td>0.799517</td>\n",
       "      <td>0.869225</td>\n",
       "      <td>0.831903</td>\n",
       "    </tr>\n",
       "    <tr>\n",
       "      <th>1</th>\n",
       "      <td>0.825706</td>\n",
       "      <td>0.864432</td>\n",
       "      <td>0.843622</td>\n",
       "    </tr>\n",
       "    <tr>\n",
       "      <th>2</th>\n",
       "      <td>0.837274</td>\n",
       "      <td>0.859894</td>\n",
       "      <td>0.847414</td>\n",
       "    </tr>\n",
       "    <tr>\n",
       "      <th>3</th>\n",
       "      <td>0.872159</td>\n",
       "      <td>0.858851</td>\n",
       "      <td>0.864445</td>\n",
       "    </tr>\n",
       "    <tr>\n",
       "      <th>4</th>\n",
       "      <td>0.875032</td>\n",
       "      <td>0.836093</td>\n",
       "      <td>0.854160</td>\n",
       "    </tr>\n",
       "    <tr>\n",
       "      <th>5</th>\n",
       "      <td>0.898347</td>\n",
       "      <td>0.844229</td>\n",
       "      <td>0.869235</td>\n",
       "    </tr>\n",
       "    <tr>\n",
       "      <th>6</th>\n",
       "      <td>0.898322</td>\n",
       "      <td>0.833511</td>\n",
       "      <td>0.864227</td>\n",
       "    </tr>\n",
       "    <tr>\n",
       "      <th>7</th>\n",
       "      <td>0.909967</td>\n",
       "      <td>0.817256</td>\n",
       "      <td>0.860043</td>\n",
       "    </tr>\n",
       "    <tr>\n",
       "      <th>8</th>\n",
       "      <td>0.933155</td>\n",
       "      <td>0.815573</td>\n",
       "      <td>0.870102</td>\n",
       "    </tr>\n",
       "  </tbody>\n",
       "</table>\n",
       "</div>"
      ],
      "text/plain": [
       "     Recall  Precision        F1\n",
       "0  0.799517   0.869225  0.831903\n",
       "1  0.825706   0.864432  0.843622\n",
       "2  0.837274   0.859894  0.847414\n",
       "3  0.872159   0.858851  0.864445\n",
       "4  0.875032   0.836093  0.854160\n",
       "5  0.898347   0.844229  0.869235\n",
       "6  0.898322   0.833511  0.864227\n",
       "7  0.909967   0.817256  0.860043\n",
       "8  0.933155   0.815573  0.870102"
      ]
     },
     "execution_count": 24,
     "metadata": {},
     "output_type": "execute_result"
    }
   ],
   "source": [
    "datos = {'Recall' : grid.cv_results_['mean_test_recall'],\n",
    "         'Precision' : grid.cv_results_['mean_test_precision'],\n",
    "         'F1' : grid.cv_results_['mean_test_f1']}\n",
    "\n",
    "df = pd.DataFrame(datos)\n",
    "\n",
    "print(grid.get_params)\n",
    "df"
   ]
  },
  {
   "cell_type": "markdown",
   "metadata": {},
   "source": [
    "<a id='aplicando-smote-proportion'></a>\n",
    "## Aplicando SMOTE con las proportions modificadas\n",
    "[Inicio ▲](#Indice)"
   ]
  },
  {
   "cell_type": "code",
   "execution_count": 25,
   "metadata": {},
   "outputs": [],
   "source": [
    "import numpy as np"
   ]
  },
  {
   "cell_type": "code",
   "execution_count": 26,
   "metadata": {},
   "outputs": [
    {
     "name": "stdout",
     "output_type": "stream",
     "text": [
      "majority class: 1210\n",
      "minority class: 518\n"
     ]
    }
   ],
   "source": [
    "y_sinSmote = y.to_numpy()\n",
    "print('majority class: %d' % np.sum(y_sinSmote == 0))\n",
    "print('minority class: %d' % np.sum(y_sinSmote == 1))"
   ]
  },
  {
   "cell_type": "code",
   "execution_count": 27,
   "metadata": {},
   "outputs": [
    {
     "name": "stderr",
     "output_type": "stream",
     "text": [
      "2022-05-22 15:30:31,578:INFO:SMOTE: Running sampling via ('SMOTE', \"{'proportion': 0.7, 'n_neighbors': 5, 'n_jobs': 1, 'random_state': None}\")\n"
     ]
    },
    {
     "name": "stdout",
     "output_type": "stream",
     "text": [
      "majority class: 1210\n",
      "minority class: 1002\n"
     ]
    }
   ],
   "source": [
    "oversampler= sv.SMOTE(proportion=0.7)\n",
    "X_samp, y_samp= oversampler.sample(X.to_numpy(), y.to_numpy())\n",
    "print('majority class: %d' % np.sum(y_samp == 0))\n",
    "print('minority class: %d' % np.sum(y_samp == 1))"
   ]
  },
  {
   "cell_type": "code",
   "execution_count": 28,
   "metadata": {},
   "outputs": [
    {
     "data": {
      "text/html": [
       "<div>\n",
       "<style scoped>\n",
       "    .dataframe tbody tr th:only-of-type {\n",
       "        vertical-align: middle;\n",
       "    }\n",
       "\n",
       "    .dataframe tbody tr th {\n",
       "        vertical-align: top;\n",
       "    }\n",
       "\n",
       "    .dataframe thead th {\n",
       "        text-align: right;\n",
       "    }\n",
       "</style>\n",
       "<table border=\"1\" class=\"dataframe\">\n",
       "  <thead>\n",
       "    <tr style=\"text-align: right;\">\n",
       "      <th></th>\n",
       "      <th>0</th>\n",
       "      <th>1</th>\n",
       "      <th>2</th>\n",
       "      <th>3</th>\n",
       "      <th>4</th>\n",
       "      <th>5</th>\n",
       "      <th>col_class</th>\n",
       "    </tr>\n",
       "  </thead>\n",
       "  <tbody>\n",
       "    <tr>\n",
       "      <th>0</th>\n",
       "      <td>1.0</td>\n",
       "      <td>1.0</td>\n",
       "      <td>1.000000</td>\n",
       "      <td>1.0</td>\n",
       "      <td>1.00000</td>\n",
       "      <td>1.000000</td>\n",
       "      <td>0</td>\n",
       "    </tr>\n",
       "    <tr>\n",
       "      <th>1</th>\n",
       "      <td>1.0</td>\n",
       "      <td>1.0</td>\n",
       "      <td>1.000000</td>\n",
       "      <td>1.0</td>\n",
       "      <td>1.00000</td>\n",
       "      <td>2.000000</td>\n",
       "      <td>0</td>\n",
       "    </tr>\n",
       "    <tr>\n",
       "      <th>2</th>\n",
       "      <td>1.0</td>\n",
       "      <td>1.0</td>\n",
       "      <td>1.000000</td>\n",
       "      <td>1.0</td>\n",
       "      <td>1.00000</td>\n",
       "      <td>3.000000</td>\n",
       "      <td>0</td>\n",
       "    </tr>\n",
       "    <tr>\n",
       "      <th>3</th>\n",
       "      <td>1.0</td>\n",
       "      <td>1.0</td>\n",
       "      <td>1.000000</td>\n",
       "      <td>1.0</td>\n",
       "      <td>2.00000</td>\n",
       "      <td>1.000000</td>\n",
       "      <td>0</td>\n",
       "    </tr>\n",
       "    <tr>\n",
       "      <th>4</th>\n",
       "      <td>1.0</td>\n",
       "      <td>1.0</td>\n",
       "      <td>1.000000</td>\n",
       "      <td>1.0</td>\n",
       "      <td>2.00000</td>\n",
       "      <td>2.000000</td>\n",
       "      <td>0</td>\n",
       "    </tr>\n",
       "    <tr>\n",
       "      <th>...</th>\n",
       "      <td>...</td>\n",
       "      <td>...</td>\n",
       "      <td>...</td>\n",
       "      <td>...</td>\n",
       "      <td>...</td>\n",
       "      <td>...</td>\n",
       "      <td>...</td>\n",
       "    </tr>\n",
       "    <tr>\n",
       "      <th>2207</th>\n",
       "      <td>4.0</td>\n",
       "      <td>2.0</td>\n",
       "      <td>2.687312</td>\n",
       "      <td>2.0</td>\n",
       "      <td>2.00000</td>\n",
       "      <td>3.000000</td>\n",
       "      <td>1</td>\n",
       "    </tr>\n",
       "    <tr>\n",
       "      <th>2208</th>\n",
       "      <td>3.0</td>\n",
       "      <td>3.0</td>\n",
       "      <td>1.000000</td>\n",
       "      <td>2.0</td>\n",
       "      <td>3.00000</td>\n",
       "      <td>2.134215</td>\n",
       "      <td>1</td>\n",
       "    </tr>\n",
       "    <tr>\n",
       "      <th>2209</th>\n",
       "      <td>3.0</td>\n",
       "      <td>2.0</td>\n",
       "      <td>2.067005</td>\n",
       "      <td>3.0</td>\n",
       "      <td>2.00000</td>\n",
       "      <td>2.000000</td>\n",
       "      <td>1</td>\n",
       "    </tr>\n",
       "    <tr>\n",
       "      <th>2210</th>\n",
       "      <td>3.0</td>\n",
       "      <td>2.0</td>\n",
       "      <td>4.000000</td>\n",
       "      <td>2.0</td>\n",
       "      <td>2.00000</td>\n",
       "      <td>2.879787</td>\n",
       "      <td>1</td>\n",
       "    </tr>\n",
       "    <tr>\n",
       "      <th>2211</th>\n",
       "      <td>4.0</td>\n",
       "      <td>1.0</td>\n",
       "      <td>2.000000</td>\n",
       "      <td>2.0</td>\n",
       "      <td>2.55407</td>\n",
       "      <td>3.000000</td>\n",
       "      <td>1</td>\n",
       "    </tr>\n",
       "  </tbody>\n",
       "</table>\n",
       "<p>2212 rows × 7 columns</p>\n",
       "</div>"
      ],
      "text/plain": [
       "        0    1         2    3        4         5  col_class\n",
       "0     1.0  1.0  1.000000  1.0  1.00000  1.000000          0\n",
       "1     1.0  1.0  1.000000  1.0  1.00000  2.000000          0\n",
       "2     1.0  1.0  1.000000  1.0  1.00000  3.000000          0\n",
       "3     1.0  1.0  1.000000  1.0  2.00000  1.000000          0\n",
       "4     1.0  1.0  1.000000  1.0  2.00000  2.000000          0\n",
       "...   ...  ...       ...  ...      ...       ...        ...\n",
       "2207  4.0  2.0  2.687312  2.0  2.00000  3.000000          1\n",
       "2208  3.0  3.0  1.000000  2.0  3.00000  2.134215          1\n",
       "2209  3.0  2.0  2.067005  3.0  2.00000  2.000000          1\n",
       "2210  3.0  2.0  4.000000  2.0  2.00000  2.879787          1\n",
       "2211  4.0  1.0  2.000000  2.0  2.55407  3.000000          1\n",
       "\n",
       "[2212 rows x 7 columns]"
      ]
     },
     "execution_count": 28,
     "metadata": {},
     "output_type": "execute_result"
    }
   ],
   "source": [
    "dfSmote = pd.DataFrame(X_samp)\n",
    "dfSmote = dfSmote.assign(col_class = y_samp)\n",
    "dfSmote"
   ]
  },
  {
   "cell_type": "code",
   "execution_count": 29,
   "metadata": {},
   "outputs": [
    {
     "data": {
      "text/html": [
       "<div>\n",
       "<style scoped>\n",
       "    .dataframe tbody tr th:only-of-type {\n",
       "        vertical-align: middle;\n",
       "    }\n",
       "\n",
       "    .dataframe tbody tr th {\n",
       "        vertical-align: top;\n",
       "    }\n",
       "\n",
       "    .dataframe thead th {\n",
       "        text-align: right;\n",
       "    }\n",
       "</style>\n",
       "<table border=\"1\" class=\"dataframe\">\n",
       "  <thead>\n",
       "    <tr style=\"text-align: right;\">\n",
       "      <th></th>\n",
       "      <th>0</th>\n",
       "      <th>1</th>\n",
       "      <th>2</th>\n",
       "      <th>3</th>\n",
       "      <th>4</th>\n",
       "      <th>5</th>\n",
       "      <th>col_class</th>\n",
       "    </tr>\n",
       "  </thead>\n",
       "  <tbody>\n",
       "    <tr>\n",
       "      <th>0</th>\n",
       "      <td>1.0</td>\n",
       "      <td>1.0</td>\n",
       "      <td>1.000000</td>\n",
       "      <td>1.0</td>\n",
       "      <td>1.00000</td>\n",
       "      <td>1.000000</td>\n",
       "      <td>0</td>\n",
       "    </tr>\n",
       "    <tr>\n",
       "      <th>1</th>\n",
       "      <td>1.0</td>\n",
       "      <td>1.0</td>\n",
       "      <td>1.000000</td>\n",
       "      <td>1.0</td>\n",
       "      <td>1.00000</td>\n",
       "      <td>2.000000</td>\n",
       "      <td>0</td>\n",
       "    </tr>\n",
       "    <tr>\n",
       "      <th>2</th>\n",
       "      <td>1.0</td>\n",
       "      <td>1.0</td>\n",
       "      <td>1.000000</td>\n",
       "      <td>1.0</td>\n",
       "      <td>1.00000</td>\n",
       "      <td>3.000000</td>\n",
       "      <td>0</td>\n",
       "    </tr>\n",
       "    <tr>\n",
       "      <th>3</th>\n",
       "      <td>1.0</td>\n",
       "      <td>1.0</td>\n",
       "      <td>1.000000</td>\n",
       "      <td>1.0</td>\n",
       "      <td>2.00000</td>\n",
       "      <td>1.000000</td>\n",
       "      <td>0</td>\n",
       "    </tr>\n",
       "    <tr>\n",
       "      <th>4</th>\n",
       "      <td>1.0</td>\n",
       "      <td>1.0</td>\n",
       "      <td>1.000000</td>\n",
       "      <td>1.0</td>\n",
       "      <td>2.00000</td>\n",
       "      <td>2.000000</td>\n",
       "      <td>0</td>\n",
       "    </tr>\n",
       "    <tr>\n",
       "      <th>...</th>\n",
       "      <td>...</td>\n",
       "      <td>...</td>\n",
       "      <td>...</td>\n",
       "      <td>...</td>\n",
       "      <td>...</td>\n",
       "      <td>...</td>\n",
       "      <td>...</td>\n",
       "    </tr>\n",
       "    <tr>\n",
       "      <th>2207</th>\n",
       "      <td>4.0</td>\n",
       "      <td>2.0</td>\n",
       "      <td>2.687312</td>\n",
       "      <td>2.0</td>\n",
       "      <td>2.00000</td>\n",
       "      <td>3.000000</td>\n",
       "      <td>1</td>\n",
       "    </tr>\n",
       "    <tr>\n",
       "      <th>2208</th>\n",
       "      <td>3.0</td>\n",
       "      <td>3.0</td>\n",
       "      <td>1.000000</td>\n",
       "      <td>2.0</td>\n",
       "      <td>3.00000</td>\n",
       "      <td>2.134215</td>\n",
       "      <td>1</td>\n",
       "    </tr>\n",
       "    <tr>\n",
       "      <th>2209</th>\n",
       "      <td>3.0</td>\n",
       "      <td>2.0</td>\n",
       "      <td>2.067005</td>\n",
       "      <td>3.0</td>\n",
       "      <td>2.00000</td>\n",
       "      <td>2.000000</td>\n",
       "      <td>1</td>\n",
       "    </tr>\n",
       "    <tr>\n",
       "      <th>2210</th>\n",
       "      <td>3.0</td>\n",
       "      <td>2.0</td>\n",
       "      <td>4.000000</td>\n",
       "      <td>2.0</td>\n",
       "      <td>2.00000</td>\n",
       "      <td>2.879787</td>\n",
       "      <td>1</td>\n",
       "    </tr>\n",
       "    <tr>\n",
       "      <th>2211</th>\n",
       "      <td>4.0</td>\n",
       "      <td>1.0</td>\n",
       "      <td>2.000000</td>\n",
       "      <td>2.0</td>\n",
       "      <td>2.55407</td>\n",
       "      <td>3.000000</td>\n",
       "      <td>1</td>\n",
       "    </tr>\n",
       "  </tbody>\n",
       "</table>\n",
       "<p>2212 rows × 7 columns</p>\n",
       "</div>"
      ],
      "text/plain": [
       "        0    1         2    3        4         5  col_class\n",
       "0     1.0  1.0  1.000000  1.0  1.00000  1.000000          0\n",
       "1     1.0  1.0  1.000000  1.0  1.00000  2.000000          0\n",
       "2     1.0  1.0  1.000000  1.0  1.00000  3.000000          0\n",
       "3     1.0  1.0  1.000000  1.0  2.00000  1.000000          0\n",
       "4     1.0  1.0  1.000000  1.0  2.00000  2.000000          0\n",
       "...   ...  ...       ...  ...      ...       ...        ...\n",
       "2207  4.0  2.0  2.687312  2.0  2.00000  3.000000          1\n",
       "2208  3.0  3.0  1.000000  2.0  3.00000  2.134215          1\n",
       "2209  3.0  2.0  2.067005  3.0  2.00000  2.000000          1\n",
       "2210  3.0  2.0  4.000000  2.0  2.00000  2.879787          1\n",
       "2211  4.0  1.0  2.000000  2.0  2.55407  3.000000          1\n",
       "\n",
       "[2212 rows x 7 columns]"
      ]
     },
     "execution_count": 29,
     "metadata": {},
     "output_type": "execute_result"
    }
   ],
   "source": [
    "dfSmote"
   ]
  },
  {
   "cell_type": "code",
   "execution_count": 49,
   "metadata": {},
   "outputs": [
    {
     "data": {
      "text/plain": [
       "Text(0.5, 1.0, 'Distribucion de clases aplicando SMOTE \\n con un proportion = 0.7')"
      ]
     },
     "execution_count": 49,
     "metadata": {},
     "output_type": "execute_result"
    },
    {
     "data": {
      "image/png": "[encoded data removed]",
      "text/plain": [
       "<Figure size 432x288 with 1 Axes>"
      ]
     },
     "metadata": {
      "needs_background": "light"
     },
     "output_type": "display_data"
    }
   ],
   "source": [
    "ax =  sns.countplot(x='col_class', data=dfSmote, palette='rocket')\n",
    "\n",
    "abs_values = dfSmote['col_class'].value_counts(ascending=False).values\n",
    "\n",
    "ax.set_ylabel('Ejemplos')\n",
    "ax.set_xlabel('Evaluacion del Automovil: 0 = inaceptable, 1 = aceptable')\n",
    "ax.bar_label(container=ax.containers[0], labels=abs_values)\n",
    "ax.set_title('Distribucion de clases aplicando SMOTE \\n con un proportion = 0.7')"
   ]
  },
  {
   "cell_type": "code",
   "execution_count": 31,
   "metadata": {},
   "outputs": [
    {
     "name": "stdout",
     "output_type": "stream",
     "text": [
      "Confusion matrix\n",
      "\n",
      " [[360  43]\n",
      " [  0 327]]\n",
      "              precision    recall  f1-score   support\n",
      "\n",
      "           0       1.00      0.89      0.94       403\n",
      "           1       0.88      1.00      0.94       327\n",
      "\n",
      "    accuracy                           0.94       730\n",
      "   macro avg       0.94      0.95      0.94       730\n",
      "weighted avg       0.95      0.94      0.94       730\n",
      "\n"
     ]
    }
   ],
   "source": [
    "X_train, X_test, y_train, y_test = train_test_split(X_samp, y_samp, test_size= 0.33, random_state=42)\n",
    "clasifier = RandomForestClassifier(max_depth=3, random_state=0)\n",
    "\n",
    "# fit the model\n",
    "\n",
    "clasifier.fit(X_train,y_train)\n",
    "y_pred=clasifier.predict(X_test)\n",
    "cm = confusion_matrix(y_test, y_pred)\n",
    "\n",
    "print('Confusion matrix\\n\\n', cm)\n",
    "print(classification_report(y_test, y_pred))"
   ]
  },
  {
   "cell_type": "markdown",
   "metadata": {},
   "source": [
    "<a id='smote-ipf-proportion0.7'></a>\n",
    "## SMOTE IPF con proportion modificado\n",
    "[Inicio ▲](#Indice)"
   ]
  },
  {
   "cell_type": "code",
   "execution_count": 32,
   "metadata": {},
   "outputs": [
    {
     "name": "stderr",
     "output_type": "stream",
     "text": [
      "2022-05-22 15:30:32,205:INFO:SMOTE_IPF: Running sampling via ('SMOTE_IPF', \"{'proportion': 0.7, 'n_neighbors': 5, 'n_folds': 9, 'k': 3, 'p': 0.01, 'voting': 'majority', 'n_jobs': 1, 'classifier': DecisionTreeClassifier(random_state=2), 'random_state': None}\")\n",
      "2022-05-22 15:30:32,207:INFO:SMOTE: Running sampling via ('SMOTE', \"{'proportion': 0.7, 'n_neighbors': 5, 'n_jobs': 1, 'random_state': <module 'numpy.random' from 'C:\\\\\\\\Users\\\\\\\\FamiliaNatelloMedina\\\\\\\\AppData\\\\\\\\Roaming\\\\\\\\Python\\\\\\\\Python310\\\\\\\\site-packages\\\\\\\\numpy\\\\\\\\random\\\\\\\\__init__.py'>}\")\n",
      "2022-05-22 15:30:32,235:INFO:SMOTE_IPF: Removing 0 elements\n",
      "2022-05-22 15:30:32,256:INFO:SMOTE_IPF: Removing 0 elements\n",
      "2022-05-22 15:30:32,275:INFO:SMOTE_IPF: Removing 0 elements\n"
     ]
    }
   ],
   "source": [
    "oversampler_ipf= sv.SMOTE_IPF(proportion=0.7)\n",
    "X_ipf, y_ipf= oversampler_ipf.sample(X.to_numpy(), y.to_numpy())"
   ]
  },
  {
   "cell_type": "code",
   "execution_count": 33,
   "metadata": {},
   "outputs": [
    {
     "name": "stdout",
     "output_type": "stream",
     "text": [
      "majority class: 1210\n",
      "minority class: 1002\n"
     ]
    }
   ],
   "source": [
    "print('majority class: %d' % np.sum(y_ipf == 0))\n",
    "print('minority class: %d' % np.sum(y_ipf == 1))"
   ]
  },
  {
   "cell_type": "code",
   "execution_count": 51,
   "metadata": {},
   "outputs": [
    {
     "data": {
      "text/plain": [
       "Text(0.5, 1.0, 'Distribucion de clases aplicando SMOTE IPF \\n con un proportion = 0.7')"
      ]
     },
     "execution_count": 51,
     "metadata": {},
     "output_type": "execute_result"
    },
    {
     "data": {
      "image/png": "[encoded data removed]",
      "text/plain": [
       "<Figure size 432x288 with 1 Axes>"
      ]
     },
     "metadata": {
      "needs_background": "light"
     },
     "output_type": "display_data"
    }
   ],
   "source": [
    "dfSmoteIPF = pd.DataFrame(X_ipf)\n",
    "dfSmoteIPF = dfSmoteIPF.assign(col_class = y_ipf)\n",
    "dfSmoteIPF\n",
    "ax =  sns.countplot(x='col_class', data=dfSmoteIPF, palette='rocket')\n",
    "\n",
    "abs_values = dfSmoteIPF['col_class'].value_counts(ascending=False).values\n",
    "\n",
    "ax.set_ylabel('Ejemplos')\n",
    "ax.set_xlabel('Evaluacion del Automovil:\\n 0 = inaceptable, 1 = aceptable')\n",
    "ax.bar_label(container=ax.containers[0], labels=abs_values)\n",
    "ax.set_title('Distribucion de clases aplicando SMOTE IPF \\n con un proportion = 0.7')"
   ]
  },
  {
   "cell_type": "code",
   "execution_count": 35,
   "metadata": {},
   "outputs": [
    {
     "name": "stdout",
     "output_type": "stream",
     "text": [
      "Confusion matrix\n",
      "\n",
      " [[363  40]\n",
      " [  0 327]]\n",
      "              precision    recall  f1-score   support\n",
      "\n",
      "           0       1.00      0.90      0.95       403\n",
      "           1       0.89      1.00      0.94       327\n",
      "\n",
      "    accuracy                           0.95       730\n",
      "   macro avg       0.95      0.95      0.95       730\n",
      "weighted avg       0.95      0.95      0.95       730\n",
      "\n"
     ]
    }
   ],
   "source": [
    "X_train, X_test, y_train, y_test = train_test_split(X_ipf, y_ipf, test_size= 0.33, random_state=42)\n",
    "clasifier = RandomForestClassifier(max_depth=3, random_state=0)\n",
    "\n",
    "# fit the model\n",
    "\n",
    "clasifier.fit(X_train,y_train)\n",
    "y_pred=clasifier.predict(X_test)\n",
    "cm = confusion_matrix(y_test, y_pred)\n",
    "\n",
    "print('Confusion matrix\\n\\n', cm)\n",
    "print(classification_report(y_test, y_pred))"
   ]
  },
  {
   "cell_type": "markdown",
   "metadata": {},
   "source": [
    "<a id='smote-enn-proportion0.7'></a>\n",
    "## SMOTE ENN con proportion modificado\n",
    "[Inicio ▲](#Indice)"
   ]
  },
  {
   "cell_type": "code",
   "execution_count": 36,
   "metadata": {},
   "outputs": [
    {
     "name": "stderr",
     "output_type": "stream",
     "text": [
      "2022-05-22 15:30:32,812:INFO:SMOTE_ENN: Running sampling via ('SMOTE_ENN', \"{'proportion': 0.5, 'n_neighbors': 5, 'n_jobs': 1, 'random_state': None}\")\n",
      "2022-05-22 15:30:32,813:INFO:SMOTE: Running sampling via ('SMOTE', \"{'proportion': 0.5, 'n_neighbors': 5, 'n_jobs': 1, 'random_state': <module 'numpy.random' from 'C:\\\\\\\\Users\\\\\\\\FamiliaNatelloMedina\\\\\\\\AppData\\\\\\\\Roaming\\\\\\\\Python\\\\\\\\Python310\\\\\\\\site-packages\\\\\\\\numpy\\\\\\\\random\\\\\\\\__init__.py'>}\")\n",
      "2022-05-22 15:30:32,822:INFO:EditedNearestNeighbors: Running noise removal via EditedNearestNeighbors\n"
     ]
    },
    {
     "name": "stdout",
     "output_type": "stream",
     "text": [
      "majority class: 1207\n",
      "minority class: 810\n"
     ]
    }
   ],
   "source": [
    "oversampler_enn= sv.SMOTE_ENN(proportion=0.5)\n",
    "X_enn, y_enn= oversampler_enn.sample(X.to_numpy(), y.to_numpy())\n",
    "print('majority class: %d' % np.sum(y_enn == 0))\n",
    "print('minority class: %d' % np.sum(y_enn == 1))"
   ]
  },
  {
   "cell_type": "code",
   "execution_count": 52,
   "metadata": {},
   "outputs": [
    {
     "data": {
      "text/plain": [
       "Text(0.5, 1.0, 'Distribucion de clases aplicando SMOTE ENN \\n con un proportion = 0.5')"
      ]
     },
     "execution_count": 52,
     "metadata": {},
     "output_type": "execute_result"
    },
    {
     "data": {
      "image/png": "[encoded data removed]",
      "text/plain": [
       "<Figure size 432x288 with 1 Axes>"
      ]
     },
     "metadata": {
      "needs_background": "light"
     },
     "output_type": "display_data"
    }
   ],
   "source": [
    "dfSmoteENN = pd.DataFrame(X_enn)\n",
    "dfSmoteENN = dfSmoteENN.assign(col_class = y_enn)\n",
    "dfSmoteENN\n",
    "ax =  sns.countplot(x='col_class', data=dfSmoteENN, palette='rocket')\n",
    "\n",
    "abs_values = dfSmoteENN['col_class'].value_counts(ascending=False).values\n",
    "\n",
    "ax.set_ylabel('Ejemplos')\n",
    "ax.set_xlabel('Evaluacion del Automovil:\\n 0 = inaceptable, 1 = aceptable')\n",
    "ax.bar_label(container=ax.containers[0], labels=abs_values)\n",
    "ax.set_title('Distribucion de clases aplicando SMOTE ENN \\n con un proportion = 0.5')"
   ]
  },
  {
   "cell_type": "code",
   "execution_count": 38,
   "metadata": {},
   "outputs": [
    {
     "name": "stdout",
     "output_type": "stream",
     "text": [
      "Confusion matrix\n",
      "\n",
      " [[367  29]\n",
      " [ 10 260]]\n",
      "              precision    recall  f1-score   support\n",
      "\n",
      "           0       0.97      0.93      0.95       396\n",
      "           1       0.90      0.96      0.93       270\n",
      "\n",
      "    accuracy                           0.94       666\n",
      "   macro avg       0.94      0.94      0.94       666\n",
      "weighted avg       0.94      0.94      0.94       666\n",
      "\n"
     ]
    }
   ],
   "source": [
    "X_train, X_test, y_train, y_test = train_test_split(X_enn, y_enn, test_size= 0.33, random_state=42)\n",
    "clasifier = RandomForestClassifier(max_depth=3, random_state=0)\n",
    "\n",
    "# fit the model\n",
    "\n",
    "clasifier.fit(X_train,y_train)\n",
    "y_pred=clasifier.predict(X_test)\n",
    "cm = confusion_matrix(y_test, y_pred)\n",
    "\n",
    "print('Confusion matrix\\n\\n', cm)\n",
    "print(classification_report(y_test, y_pred))"
   ]
  },
  {
   "cell_type": "markdown",
   "metadata": {},
   "source": [
    "<a id='smote-tomekLinks-proportion0.7'></a>\n",
    "## SMOTE TOMEKLinks con proportion modificado\n",
    "[Inicio ▲](#Indice)"
   ]
  },
  {
   "cell_type": "code",
   "execution_count": 39,
   "metadata": {},
   "outputs": [
    {
     "name": "stderr",
     "output_type": "stream",
     "text": [
      "2022-05-22 15:30:33,384:INFO:SMOTE_TomekLinks: Running sampling via ('SMOTE_TomekLinks', \"{'proportion': 0.2, 'n_neighbors': 5, 'n_jobs': 1, 'random_state': None}\")\n",
      "2022-05-22 15:30:33,385:INFO:SMOTE: Running sampling via ('SMOTE', \"{'proportion': 0.2, 'n_neighbors': 5, 'n_jobs': 1, 'random_state': <module 'numpy.random' from 'C:\\\\\\\\Users\\\\\\\\FamiliaNatelloMedina\\\\\\\\AppData\\\\\\\\Roaming\\\\\\\\Python\\\\\\\\Python310\\\\\\\\site-packages\\\\\\\\numpy\\\\\\\\random\\\\\\\\__init__.py'>}\")\n",
      "2022-05-22 15:30:33,392:INFO:TomekLinkRemoval: Running noise removal via TomekLinkRemoval\n"
     ]
    },
    {
     "name": "stdout",
     "output_type": "stream",
     "text": [
      "majority class: 1210\n",
      "minority class: 656\n"
     ]
    }
   ],
   "source": [
    "oversampler_klinks= sv.SMOTE_TomekLinks(proportion=0.2)\n",
    "X_tklinks, y_tklinks= oversampler_klinks.sample(X.to_numpy(), y.to_numpy())\n",
    "print('majority class: %d' % np.sum(y_tklinks == 0))\n",
    "print('minority class: %d' % np.sum(y_tklinks == 1))"
   ]
  },
  {
   "cell_type": "code",
   "execution_count": 53,
   "metadata": {},
   "outputs": [
    {
     "data": {
      "text/plain": [
       "Text(0.5, 1.0, 'Distribucion de clases aplicando SMOTE Tomek-links \\n con un proportion = 0.2')"
      ]
     },
     "execution_count": 53,
     "metadata": {},
     "output_type": "execute_result"
    },
    {
     "data": {
      "image/png": "[encoded data removed]",
      "text/plain": [
       "<Figure size 432x288 with 1 Axes>"
      ]
     },
     "metadata": {
      "needs_background": "light"
     },
     "output_type": "display_data"
    }
   ],
   "source": [
    "dfSmoteTKLinks = pd.DataFrame(X_tklinks)\n",
    "dfSmoteTKLinks = dfSmoteTKLinks.assign(col_class = y_tklinks)\n",
    "dfSmoteTKLinks\n",
    "ax =  sns.countplot(x='col_class', data=dfSmoteTKLinks, palette='rocket')\n",
    "\n",
    "abs_values = dfSmoteTKLinks['col_class'].value_counts(ascending=False).values\n",
    "\n",
    "ax.set_ylabel('Ejemplos')\n",
    "ax.set_xlabel('Evaluacion del Automovil:\\n 0 = inaceptable, 1 = aceptable')\n",
    "ax.bar_label(container=ax.containers[0], labels=abs_values)\n",
    "ax.set_title('Distribucion de clases aplicando SMOTE Tomek-links \\n con un proportion = 0.2')"
   ]
  },
  {
   "cell_type": "code",
   "execution_count": 54,
   "metadata": {},
   "outputs": [
    {
     "name": "stdout",
     "output_type": "stream",
     "text": [
      "Confusion matrix\n",
      "\n",
      " [[395  14]\n",
      " [  8 199]]\n",
      "              precision    recall  f1-score   support\n",
      "\n",
      "           0       0.98      0.97      0.97       409\n",
      "           1       0.93      0.96      0.95       207\n",
      "\n",
      "    accuracy                           0.96       616\n",
      "   macro avg       0.96      0.96      0.96       616\n",
      "weighted avg       0.96      0.96      0.96       616\n",
      "\n"
     ]
    }
   ],
   "source": [
    "X_train, X_test, y_train, y_test = train_test_split(X_tklinks, y_tklinks, test_size= 0.33, random_state=42)\n",
    "clasifier = RandomForestClassifier(max_depth=3, random_state=0)\n",
    "\n",
    "# fit the model\n",
    "\n",
    "clasifier.fit(X_train,y_train)\n",
    "y_pred=clasifier.predict(X_test)\n",
    "cm = confusion_matrix(y_test, y_pred)\n",
    "\n",
    "print('Confusion matrix\\n\\n', cm)\n",
    "print(classification_report(y_test, y_pred))"
   ]
  },
  {
   "cell_type": "code",
   "execution_count": 57,
   "metadata": {},
   "outputs": [
    {
     "data": {
      "text/plain": [
       "Text(30.5, 0.5, 'true')"
      ]
     },
     "execution_count": 57,
     "metadata": {},
     "output_type": "execute_result"
    },
    {
     "data": {
      "image/png": "[encoded data removed]",
      "text/plain": [
       "<Figure size 432x288 with 2 Axes>"
      ]
     },
     "metadata": {},
     "output_type": "display_data"
    }
   ],
   "source": [
    "import matplotlib.pyplot as plt\n",
    "\n",
    "sns.set()\n",
    "f,ax=plt.subplots()\n",
    "sns.heatmap(cm,annot=True,ax=ax) #Dibuja un mapa de calor\n",
    "\n",
    "ax.set_title('Matriz de Confusion') #título\n",
    "ax.set_xlabel('Predicciones') #eje x\n",
    "ax.set_ylabel('true') #eje y"
   ]
  }
 ],
 "metadata": {
  "interpreter": {
   "hash": "eabca979b0553fa6d87e9a00c352604d3b703d4afc9641643dd42376492b80f6"
  },
  "kernelspec": {
   "display_name": "Python 3.10.2 64-bit",
   "language": "python",
   "name": "python3"
  },
  "language_info": {
   "codemirror_mode": {
    "name": "ipython",
    "version": 3
   },
   "file_extension": ".py",
   "mimetype": "text/x-python",
   "name": "python",
   "nbconvert_exporter": "python",
   "pygments_lexer": "ipython3",
   "version": "3.10.2"
  },
  "orig_nbformat": 4
 },
 "nbformat": 4,
 "nbformat_minor": 2
}
