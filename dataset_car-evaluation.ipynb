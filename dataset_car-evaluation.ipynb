{
 "cells": [
  {
   "cell_type": "markdown",
   "metadata": {},
   "source": [
    "[FUENTE DE INFORMACION: - url: (https://archive.ics.uci.edu/ml/datasets/car+evaluation)](https://archive.ics.uci.edu/ml/datasets/car+evaluation)"
   ]
  },
  {
   "cell_type": "markdown",
   "metadata": {},
   "source": [
    "<a id='Indice'></a>\n",
    "## Índice\n",
    "[Inicio ▲](#Indice)\n",
    "1. [Estudiando el conjunto de Datos](#estudiando-los-datos)\n",
    "    1. [Graficando las clases](#grafico-clases)\n",
    "1. [Aplicando SMOTE](#aplicando-smote)\n",
    "    1. [Aplicando SMOTE con las proportions modificadas](#aplicando-smote-proportion)\n",
    "        1. [Matriz de Confusion](#smote-matriz_confusion)\n",
    "    1. [SMOTE IPF con proportion modificado](#smote-ipf-proportion0.7)\n",
    "        1. [Matriz de Confusion](#smote_ipf-matriz_confusion)\n",
    "    1. [SMOTE ENN con proportion modificado](#smote-enn-proportion0.7)\n",
    "        1. [Matriz de Confusion](#smote_enn-matriz_confusion)\n",
    "    1. [SMOTE TOMEKLinks con proportion modificado](#smote-tomekLinks-proportion0.7)\n",
    "        1. [Matriz de Confusion](#smote_tklinks-matriz_confusion)\n",
    "    1. [Analisis SMOTE: Mejor estimador](#analisis-smote-mejor_estimador)"
   ]
  },
  {
   "cell_type": "markdown",
   "metadata": {},
   "source": [
    "<a id='estudiando-los-datos'></a>\n",
    "## Estudiando el conjunto de Datos\n",
    "[Inicio ▲](#Indice)"
   ]
  },
  {
   "cell_type": "code",
   "execution_count": 1,
   "metadata": {},
   "outputs": [],
   "source": [
    "import pandas as pd\n",
    "import category_encoders as ce \n",
    "from sklearn.model_selection import train_test_split"
   ]
  },
  {
   "cell_type": "code",
   "execution_count": 2,
   "metadata": {},
   "outputs": [
    {
     "name": "stdout",
     "output_type": "stream",
     "text": [
      "Atributo: maint con Niveles : ['vhigh' 'high' 'med' 'low'] \n",
      "Atributo: doors con Niveles : ['2' '3' '4' '5more'] \n",
      "Atributo: persons con Niveles : ['2' '4' 'more'] \n",
      "Atributo: lug_boot con Niveles : ['small' 'med' 'big'] \n",
      "Atributo: safety con Niveles : ['low' 'med' 'high'] \n",
      "Atributo: class con Niveles : [0 1] \n",
      "1    432\n",
      "2    432\n",
      "3    432\n",
      "4    432\n",
      "Name: buying, dtype: int64\n",
      "1    432\n",
      "2    432\n",
      "3    432\n",
      "4    432\n",
      "Name: maint, dtype: int64\n",
      "1    432\n",
      "2    432\n",
      "3    432\n",
      "4    432\n",
      "Name: doors, dtype: int64\n",
      "1    576\n",
      "2    576\n",
      "3    576\n",
      "Name: persons, dtype: int64\n",
      "1    576\n",
      "2    576\n",
      "3    576\n",
      "Name: lug_boot, dtype: int64\n",
      "1    576\n",
      "2    576\n",
      "3    576\n",
      "Name: safety, dtype: int64\n",
      "0    1210\n",
      "1     518\n",
      "Name: class, dtype: int64\n",
      "(1157, 6)\n",
      "(571, 6)\n"
     ]
    }
   ],
   "source": [
    "data = pd.read_csv(\"car_evaluation.csv\",header=None)\n",
    "data.head()\n",
    "col_names = ['buying','maint','doors','persons','lug_boot','safety','class']\n",
    "data.columns = col_names\n",
    "# de la columna de clases se opto por reducir a valores de aceptable e inaceptable, y transformarlos a 0 y 1 respectivamente\n",
    "data=data.replace({\"unacc\":0,\"acc\":1, \"good\":1, \"vgood\":1})\n",
    "def show(data):\n",
    "  for i in data.columns[1:]:\n",
    "    print(\"Atributo: {} con Niveles : {} \".format(i,data[i].unique()))\n",
    "\n",
    "show(data)\n",
    "data.dtypes\n",
    "# Convertimos las variables Categoricas a Ordinales \n",
    "encoder = ce.OrdinalEncoder(cols = ['buying','maint','doors','persons','lug_boot','safety'])\n",
    "data = encoder.fit_transform(data)\n",
    "data.head()\n",
    "for col in col_names:\n",
    "    print(data[col].value_counts())  \n",
    "data.isnull().sum()\n",
    "data['class'].value_counts()\n",
    "X = data.drop(['class'], axis=1)\n",
    "\n",
    "y = data['class']\n",
    "from sklearn.model_selection import train_test_split\n",
    "X_train, X_test, y_train, y_test = train_test_split(X, y, test_size= 0.33, random_state=42)\n",
    "print(X_train.shape)\n",
    "print(X_test.shape)"
   ]
  },
  {
   "cell_type": "code",
   "execution_count": 3,
   "metadata": {},
   "outputs": [
    {
     "name": "stdout",
     "output_type": "stream",
     "text": [
      "inaceptable: 1210\n",
      "aceptable: 518\n"
     ]
    }
   ],
   "source": [
    "print(\"inaceptable: {}\".format(len(y[y==0])))\n",
    "print(\"aceptable: {}\".format(len(y[y==1])))"
   ]
  },
  {
   "cell_type": "code",
   "execution_count": 4,
   "metadata": {},
   "outputs": [
    {
     "name": "stdout",
     "output_type": "stream",
     "text": [
      "<class 'pandas.core.frame.DataFrame'>\n",
      "RangeIndex: 1728 entries, 0 to 1727\n",
      "Data columns (total 7 columns):\n",
      " #   Column    Non-Null Count  Dtype\n",
      "---  ------    --------------  -----\n",
      " 0   buying    1728 non-null   int32\n",
      " 1   maint     1728 non-null   int32\n",
      " 2   doors     1728 non-null   int32\n",
      " 3   persons   1728 non-null   int32\n",
      " 4   lug_boot  1728 non-null   int32\n",
      " 5   safety    1728 non-null   int32\n",
      " 6   class     1728 non-null   int64\n",
      "dtypes: int32(6), int64(1)\n",
      "memory usage: 54.1 KB\n"
     ]
    }
   ],
   "source": [
    "data.info()"
   ]
  },
  {
   "cell_type": "code",
   "execution_count": 4,
   "metadata": {},
   "outputs": [],
   "source": [
    "from sklearn.model_selection import GridSearchCV\n",
    "from sklearn.ensemble import RandomForestClassifier\n",
    "from sklearn.naive_bayes import GaussianNB"
   ]
  },
  {
   "cell_type": "code",
   "execution_count": 5,
   "metadata": {},
   "outputs": [
    {
     "data": {
      "text/plain": [
       "0.9877408056042032"
      ]
     },
     "execution_count": 5,
     "metadata": {},
     "output_type": "execute_result"
    }
   ],
   "source": [
    "clasifier = RandomForestClassifier(random_state=42, n_estimators=100)\n",
    "# clasifier= GaussianNB()\n",
    "# fit the model\n",
    "\n",
    "clasifier.fit(X_train,y_train)\n",
    "y_pred=clasifier.predict(X_test)\n",
    "clasifier.score(X_test,y_test)"
   ]
  },
  {
   "cell_type": "code",
   "execution_count": 6,
   "metadata": {},
   "outputs": [
    {
     "name": "stdout",
     "output_type": "stream",
     "text": [
      "Confusion matrix\n",
      "\n",
      " [[394   3]\n",
      " [  4 170]]\n",
      "Calculo del F1 Score es:  0.9798270893371758\n"
     ]
    }
   ],
   "source": [
    "from sklearn.metrics import confusion_matrix\n",
    "\n",
    "cm = confusion_matrix(y_test, y_pred)\n",
    "\n",
    "print('Confusion matrix\\n\\n', cm)\n",
    "\n",
    "def calculoF1_score(cm):\n",
    "    TP = cm[1,1]\n",
    "    TN = cm[0,0]\n",
    "    FP = cm[0,1]\n",
    "    FN = cm[1,0]\n",
    "    return (2*TP)/((2*TP)+FP+FN)\n",
    "\n",
    "print('Calculo del F1 Score es: ', calculoF1_score(cm))"
   ]
  },
  {
   "cell_type": "code",
   "execution_count": 7,
   "metadata": {},
   "outputs": [
    {
     "name": "stdout",
     "output_type": "stream",
     "text": [
      "              precision    recall  f1-score   support\n",
      "\n",
      "           0       0.99      0.99      0.99       397\n",
      "           1       0.98      0.98      0.98       174\n",
      "\n",
      "    accuracy                           0.99       571\n",
      "   macro avg       0.99      0.98      0.99       571\n",
      "weighted avg       0.99      0.99      0.99       571\n",
      "\n"
     ]
    }
   ],
   "source": [
    "from sklearn.metrics import classification_report\n",
    "\n",
    "print(classification_report(y_test, y_pred))\n"
   ]
  },
  {
   "cell_type": "code",
   "execution_count": 8,
   "metadata": {},
   "outputs": [
    {
     "data": {
      "image/png": "[encoded data removed]",
      "text/plain": [
       "<Figure size 1440x720 with 2 Axes>"
      ]
     },
     "metadata": {
      "needs_background": "light"
     },
     "output_type": "display_data"
    }
   ],
   "source": [
    "import matplotlib.pyplot as plt\n",
    "import seaborn as sns\n",
    "\n",
    "# corr_df = data.corr()\n",
    "corr_df = data.corr(method='pearson')\n",
    "\n",
    "plt.figure(figsize=(20, 10))\n",
    "sns.heatmap(corr_df, annot=True)\n",
    "plt.title('Coeficiente Correlacion Pearson EVALUACION DEL AUTOMOVIL', fontsize=16)\n",
    "plt.show()"
   ]
  },
  {
   "cell_type": "markdown",
   "metadata": {},
   "source": [
    "<a id='grafico-clases'></a>\n",
    "## Grafico de Clases\n",
    "[Inicio ▲](#Indice)"
   ]
  },
  {
   "cell_type": "code",
   "execution_count": 9,
   "metadata": {},
   "outputs": [
    {
     "data": {
      "text/plain": [
       "Text(0.5, 1.0, 'Distribucion de clases sin aplicar SMOTE')"
      ]
     },
     "execution_count": 9,
     "metadata": {},
     "output_type": "execute_result"
    },
    {
     "data": {
      "image/png": "[encoded data removed]",
      "text/plain": [
       "<Figure size 432x288 with 1 Axes>"
      ]
     },
     "metadata": {
      "needs_background": "light"
     },
     "output_type": "display_data"
    }
   ],
   "source": [
    "ax =  sns.countplot(x='class', data=data, palette='rocket')\n",
    "\n",
    "abs_values = data['class'].value_counts(ascending=False).values\n",
    "\n",
    "ax.set_ylabel('Ejemplos')\n",
    "ax.set_xlabel('Evaluacion del Automovil: 0 = inaceptable, 1 = aceptable')\n",
    "ax.bar_label(container=ax.containers[0], labels=abs_values)\n",
    "ax.set_title('Distribucion de clases sin aplicar SMOTE')"
   ]
  },
  {
   "cell_type": "markdown",
   "metadata": {},
   "source": [
    "<a id='aplicando-smote'></a>\n",
    "## Aplicando SMOTE\n",
    "[Inicio ▲](#Indice)"
   ]
  },
  {
   "cell_type": "code",
   "execution_count": 10,
   "metadata": {},
   "outputs": [],
   "source": [
    "import smote_variants as sv\n",
    "from sklearn.pipeline import Pipeline\n",
    "from sklearn.preprocessing import StandardScaler\n",
    "from sklearn.naive_bayes import GaussianNB\n"
   ]
  },
  {
   "cell_type": "code",
   "execution_count": 41,
   "metadata": {},
   "outputs": [
    {
     "name": "stderr",
     "output_type": "stream",
     "text": [
      "2022-06-25 21:27:46,219:INFO:SMOTE_TomekLinks: Running sampling via ('SMOTE_TomekLinks', \"{'proportion': 1.0, 'n_neighbors': 5, 'n_jobs': 1, 'random_state': None}\")\n",
      "2022-06-25 21:27:46,220:INFO:SMOTE: Running sampling via ('SMOTE', \"{'proportion': 1.0, 'n_neighbors': 5, 'n_jobs': 1, 'random_state': <module 'numpy.random' from 'C:\\\\\\\\Users\\\\\\\\FamiliaNatelloMedina\\\\\\\\AppData\\\\\\\\Roaming\\\\\\\\Python\\\\\\\\Python310\\\\\\\\site-packages\\\\\\\\numpy\\\\\\\\random\\\\\\\\__init__.py'>}\")\n",
      "2022-06-25 21:27:46,226:INFO:TomekLinkRemoval: Running noise removal via TomekLinkRemoval\n"
     ]
    },
    {
     "data": {
      "text/plain": [
       "[<smote_variants._smote_variants.distance_SMOTE at 0x1a322085690>,\n",
       " <smote_variants._smote_variants.distance_SMOTE at 0x1a310e5c0d0>,\n",
       " <smote_variants._smote_variants.distance_SMOTE at 0x1a310e5c130>,\n",
       " <smote_variants._smote_variants.distance_SMOTE at 0x1a322f7f490>,\n",
       " <smote_variants._smote_variants.distance_SMOTE at 0x1a322f7cbb0>,\n",
       " <smote_variants._smote_variants.distance_SMOTE at 0x1a322f7d1b0>,\n",
       " <smote_variants._smote_variants.distance_SMOTE at 0x1a322f7c250>,\n",
       " <smote_variants._smote_variants.distance_SMOTE at 0x1a322f7dbd0>,\n",
       " <smote_variants._smote_variants.distance_SMOTE at 0x1a322f7d150>]"
      ]
     },
     "execution_count": 41,
     "metadata": {},
     "output_type": "execute_result"
    }
   ],
   "source": [
    "# oversampler= sv.SMOTE()\n",
    "# oversampler= sv.SMOTE_IPF()\n",
    "# oversampler= sv.SMOTE_ENN()\n",
    "oversampler= sv.SMOTE_TomekLinks()\n",
    "classifier= GaussianNB()\n",
    "# classifier= RandomForestClassifier(random_state=42, n_estimators=100)\n",
    "model= Pipeline([\n",
    "                ('scale', StandardScaler()),\n",
    "                ('clf', sv.OversamplingClassifier(oversampler, classifier))\n",
    "            ])\n",
    "# model.fit(X_train, y_train)\n",
    "param_grid= {'clf__oversampler':[sv.distance_SMOTE(proportion=0.2),\n",
    "                                 sv.distance_SMOTE(proportion=0.3),\n",
    "                                 sv.distance_SMOTE(proportion=0.4),\n",
    "                                 sv.distance_SMOTE(proportion=0.5),\n",
    "                                 sv.distance_SMOTE(proportion=0.6),\n",
    "                                 sv.distance_SMOTE(proportion=0.7),\n",
    "                                 sv.distance_SMOTE(proportion=0.8),\n",
    "                                 sv.distance_SMOTE(proportion=0.9),\n",
    "                                 sv.distance_SMOTE(proportion=1.0)]}\n",
    "param_grid['clf__oversampler']"
   ]
  },
  {
   "cell_type": "code",
   "execution_count": 42,
   "metadata": {},
   "outputs": [
    {
     "name": "stderr",
     "output_type": "stream",
     "text": [
      "2022-06-25 21:27:51,134:INFO:distance_SMOTE: Running sampling via ('distance_SMOTE', \"{'proportion': 0.2, 'n_neighbors': 5, 'n_jobs': 1, 'random_state': None}\")\n",
      "2022-06-25 21:27:51,152:INFO:distance_SMOTE: Running sampling via ('distance_SMOTE', \"{'proportion': 0.2, 'n_neighbors': 5, 'n_jobs': 1, 'random_state': None}\")\n",
      "2022-06-25 21:27:51,171:INFO:distance_SMOTE: Running sampling via ('distance_SMOTE', \"{'proportion': 0.2, 'n_neighbors': 5, 'n_jobs': 1, 'random_state': None}\")\n",
      "2022-06-25 21:27:51,188:INFO:distance_SMOTE: Running sampling via ('distance_SMOTE', \"{'proportion': 0.3, 'n_neighbors': 5, 'n_jobs': 1, 'random_state': None}\")\n",
      "2022-06-25 21:27:51,200:INFO:distance_SMOTE: Running sampling via ('distance_SMOTE', \"{'proportion': 0.3, 'n_neighbors': 5, 'n_jobs': 1, 'random_state': None}\")\n",
      "2022-06-25 21:27:51,211:INFO:distance_SMOTE: Running sampling via ('distance_SMOTE', \"{'proportion': 0.3, 'n_neighbors': 5, 'n_jobs': 1, 'random_state': None}\")\n",
      "2022-06-25 21:27:51,223:INFO:distance_SMOTE: Running sampling via ('distance_SMOTE', \"{'proportion': 0.4, 'n_neighbors': 5, 'n_jobs': 1, 'random_state': None}\")\n",
      "2022-06-25 21:27:51,240:INFO:distance_SMOTE: Running sampling via ('distance_SMOTE', \"{'proportion': 0.4, 'n_neighbors': 5, 'n_jobs': 1, 'random_state': None}\")\n",
      "2022-06-25 21:27:51,254:INFO:distance_SMOTE: Running sampling via ('distance_SMOTE', \"{'proportion': 0.4, 'n_neighbors': 5, 'n_jobs': 1, 'random_state': None}\")\n",
      "2022-06-25 21:27:51,266:INFO:distance_SMOTE: Running sampling via ('distance_SMOTE', \"{'proportion': 0.5, 'n_neighbors': 5, 'n_jobs': 1, 'random_state': None}\")\n",
      "2022-06-25 21:27:51,280:INFO:distance_SMOTE: Running sampling via ('distance_SMOTE', \"{'proportion': 0.5, 'n_neighbors': 5, 'n_jobs': 1, 'random_state': None}\")\n",
      "2022-06-25 21:27:51,294:INFO:distance_SMOTE: Running sampling via ('distance_SMOTE', \"{'proportion': 0.5, 'n_neighbors': 5, 'n_jobs': 1, 'random_state': None}\")\n"
     ]
    },
    {
     "name": "stdout",
     "output_type": "stream",
     "text": [
      "Fitting 3 folds for each of 9 candidates, totalling 27 fits\n",
      "[CV] END clf__oversampler=('distance_SMOTE', \"{'proportion': 0.2, 'n_neighbors': 5, 'n_jobs': 1, 'random_state': None}\"); total time=   0.0s\n",
      "[CV] END clf__oversampler=('distance_SMOTE', \"{'proportion': 0.2, 'n_neighbors': 5, 'n_jobs': 1, 'random_state': None}\"); total time=   0.0s\n",
      "[CV] END clf__oversampler=('distance_SMOTE', \"{'proportion': 0.2, 'n_neighbors': 5, 'n_jobs': 1, 'random_state': None}\"); total time=   0.0s\n",
      "[CV] END clf__oversampler=('distance_SMOTE', \"{'proportion': 0.3, 'n_neighbors': 5, 'n_jobs': 1, 'random_state': None}\"); total time=   0.0s\n",
      "[CV] END clf__oversampler=('distance_SMOTE', \"{'proportion': 0.3, 'n_neighbors': 5, 'n_jobs': 1, 'random_state': None}\"); total time=   0.0s\n",
      "[CV] END clf__oversampler=('distance_SMOTE', \"{'proportion': 0.3, 'n_neighbors': 5, 'n_jobs': 1, 'random_state': None}\"); total time=   0.0s\n",
      "[CV] END clf__oversampler=('distance_SMOTE', \"{'proportion': 0.4, 'n_neighbors': 5, 'n_jobs': 1, 'random_state': None}\"); total time=   0.0s\n",
      "[CV] END clf__oversampler=('distance_SMOTE', \"{'proportion': 0.4, 'n_neighbors': 5, 'n_jobs': 1, 'random_state': None}\"); total time=   0.0s\n",
      "[CV] END clf__oversampler=('distance_SMOTE', \"{'proportion': 0.4, 'n_neighbors': 5, 'n_jobs': 1, 'random_state': None}\"); total time=   0.0s\n",
      "[CV] END clf__oversampler=('distance_SMOTE', \"{'proportion': 0.5, 'n_neighbors': 5, 'n_jobs': 1, 'random_state': None}\"); total time=   0.0s\n",
      "[CV] END clf__oversampler=('distance_SMOTE', \"{'proportion': 0.5, 'n_neighbors': 5, 'n_jobs': 1, 'random_state': None}\"); total time=   0.0s\n",
      "[CV] END clf__oversampler=('distance_SMOTE', \"{'proportion': 0.5, 'n_neighbors': 5, 'n_jobs': 1, 'random_state': None}\"); total time=   0.0s\n"
     ]
    },
    {
     "name": "stderr",
     "output_type": "stream",
     "text": [
      "2022-06-25 21:27:51,312:INFO:distance_SMOTE: Running sampling via ('distance_SMOTE', \"{'proportion': 0.6, 'n_neighbors': 5, 'n_jobs': 1, 'random_state': None}\")\n",
      "2022-06-25 21:27:51,331:INFO:distance_SMOTE: Running sampling via ('distance_SMOTE', \"{'proportion': 0.6, 'n_neighbors': 5, 'n_jobs': 1, 'random_state': None}\")\n",
      "2022-06-25 21:27:51,347:INFO:distance_SMOTE: Running sampling via ('distance_SMOTE', \"{'proportion': 0.6, 'n_neighbors': 5, 'n_jobs': 1, 'random_state': None}\")\n",
      "2022-06-25 21:27:51,364:INFO:distance_SMOTE: Running sampling via ('distance_SMOTE', \"{'proportion': 0.7, 'n_neighbors': 5, 'n_jobs': 1, 'random_state': None}\")\n",
      "2022-06-25 21:27:51,381:INFO:distance_SMOTE: Running sampling via ('distance_SMOTE', \"{'proportion': 0.7, 'n_neighbors': 5, 'n_jobs': 1, 'random_state': None}\")\n",
      "2022-06-25 21:27:51,398:INFO:distance_SMOTE: Running sampling via ('distance_SMOTE', \"{'proportion': 0.7, 'n_neighbors': 5, 'n_jobs': 1, 'random_state': None}\")\n",
      "2022-06-25 21:27:51,417:INFO:distance_SMOTE: Running sampling via ('distance_SMOTE', \"{'proportion': 0.8, 'n_neighbors': 5, 'n_jobs': 1, 'random_state': None}\")\n",
      "2022-06-25 21:27:51,435:INFO:distance_SMOTE: Running sampling via ('distance_SMOTE', \"{'proportion': 0.8, 'n_neighbors': 5, 'n_jobs': 1, 'random_state': None}\")\n",
      "2022-06-25 21:27:51,451:INFO:distance_SMOTE: Running sampling via ('distance_SMOTE', \"{'proportion': 0.8, 'n_neighbors': 5, 'n_jobs': 1, 'random_state': None}\")\n",
      "2022-06-25 21:27:51,467:INFO:distance_SMOTE: Running sampling via ('distance_SMOTE', \"{'proportion': 0.9, 'n_neighbors': 5, 'n_jobs': 1, 'random_state': None}\")\n",
      "2022-06-25 21:27:51,487:INFO:distance_SMOTE: Running sampling via ('distance_SMOTE', \"{'proportion': 0.9, 'n_neighbors': 5, 'n_jobs': 1, 'random_state': None}\")\n",
      "2022-06-25 21:27:51,505:INFO:distance_SMOTE: Running sampling via ('distance_SMOTE', \"{'proportion': 0.9, 'n_neighbors': 5, 'n_jobs': 1, 'random_state': None}\")\n"
     ]
    },
    {
     "name": "stdout",
     "output_type": "stream",
     "text": [
      "[CV] END clf__oversampler=('distance_SMOTE', \"{'proportion': 0.6, 'n_neighbors': 5, 'n_jobs': 1, 'random_state': None}\"); total time=   0.0s\n",
      "[CV] END clf__oversampler=('distance_SMOTE', \"{'proportion': 0.6, 'n_neighbors': 5, 'n_jobs': 1, 'random_state': None}\"); total time=   0.0s\n",
      "[CV] END clf__oversampler=('distance_SMOTE', \"{'proportion': 0.6, 'n_neighbors': 5, 'n_jobs': 1, 'random_state': None}\"); total time=   0.0s\n",
      "[CV] END clf__oversampler=('distance_SMOTE', \"{'proportion': 0.7, 'n_neighbors': 5, 'n_jobs': 1, 'random_state': None}\"); total time=   0.0s\n",
      "[CV] END clf__oversampler=('distance_SMOTE', \"{'proportion': 0.7, 'n_neighbors': 5, 'n_jobs': 1, 'random_state': None}\"); total time=   0.0s\n",
      "[CV] END clf__oversampler=('distance_SMOTE', \"{'proportion': 0.7, 'n_neighbors': 5, 'n_jobs': 1, 'random_state': None}\"); total time=   0.0s\n",
      "[CV] END clf__oversampler=('distance_SMOTE', \"{'proportion': 0.8, 'n_neighbors': 5, 'n_jobs': 1, 'random_state': None}\"); total time=   0.0s\n",
      "[CV] END clf__oversampler=('distance_SMOTE', \"{'proportion': 0.8, 'n_neighbors': 5, 'n_jobs': 1, 'random_state': None}\"); total time=   0.0s\n",
      "[CV] END clf__oversampler=('distance_SMOTE', \"{'proportion': 0.8, 'n_neighbors': 5, 'n_jobs': 1, 'random_state': None}\"); total time=   0.0s\n",
      "[CV] END clf__oversampler=('distance_SMOTE', \"{'proportion': 0.9, 'n_neighbors': 5, 'n_jobs': 1, 'random_state': None}\"); total time=   0.0s\n",
      "[CV] END clf__oversampler=('distance_SMOTE', \"{'proportion': 0.9, 'n_neighbors': 5, 'n_jobs': 1, 'random_state': None}\"); total time=   0.0s\n"
     ]
    },
    {
     "name": "stderr",
     "output_type": "stream",
     "text": [
      "2022-06-25 21:27:51,522:INFO:distance_SMOTE: Running sampling via ('distance_SMOTE', \"{'proportion': 1.0, 'n_neighbors': 5, 'n_jobs': 1, 'random_state': None}\")\n",
      "2022-06-25 21:27:51,542:INFO:distance_SMOTE: Running sampling via ('distance_SMOTE', \"{'proportion': 1.0, 'n_neighbors': 5, 'n_jobs': 1, 'random_state': None}\")\n",
      "2022-06-25 21:27:51,560:INFO:distance_SMOTE: Running sampling via ('distance_SMOTE', \"{'proportion': 1.0, 'n_neighbors': 5, 'n_jobs': 1, 'random_state': None}\")\n",
      "2022-06-25 21:27:51,579:INFO:distance_SMOTE: Running sampling via ('distance_SMOTE', \"{'proportion': 1.0, 'n_neighbors': 5, 'n_jobs': 1, 'random_state': None}\")\n"
     ]
    },
    {
     "name": "stdout",
     "output_type": "stream",
     "text": [
      "[CV] END clf__oversampler=('distance_SMOTE', \"{'proportion': 0.9, 'n_neighbors': 5, 'n_jobs': 1, 'random_state': None}\"); total time=   0.0s\n",
      "[CV] END clf__oversampler=('distance_SMOTE', \"{'proportion': 1.0, 'n_neighbors': 5, 'n_jobs': 1, 'random_state': None}\"); total time=   0.0s\n",
      "[CV] END clf__oversampler=('distance_SMOTE', \"{'proportion': 1.0, 'n_neighbors': 5, 'n_jobs': 1, 'random_state': None}\"); total time=   0.0s\n",
      "[CV] END clf__oversampler=('distance_SMOTE', \"{'proportion': 1.0, 'n_neighbors': 5, 'n_jobs': 1, 'random_state': None}\"); total time=   0.0s\n"
     ]
    },
    {
     "data": {
      "text/plain": [
       "GridSearchCV(cv=3,\n",
       "             estimator=Pipeline(steps=[('scale', StandardScaler()),\n",
       "                                       ('clf',\n",
       "                                        OversamplingClassifier(classifier=GaussianNB(),\n",
       "                                                               oversampler=<smote_variants._smote_variants.SMOTE_TomekLinks object at 0x000001A322F7CAF0>))]),\n",
       "             n_jobs=1,\n",
       "             param_grid={'clf__oversampler': [<smote_variants._smote_variants.distance_SMOTE object at 0x000001A322085690>,\n",
       "                                              <smote_variants._s...\n",
       "                                              <smote_variants._smote_variants.distance_SMOTE object at 0x000001A322F7D1B0>,\n",
       "                                              <smote_variants._smote_variants.distance_SMOTE object at 0x000001A322F7C250>,\n",
       "                                              <smote_variants._smote_variants.distance_SMOTE object at 0x000001A322F7DBD0>,\n",
       "                                              <smote_variants._smote_variants.distance_SMOTE object at 0x000001A322F7D150>]},\n",
       "             refit='recall',\n",
       "             scoring={'f1': 'f1', 'precision': 'precision', 'recall': 'recall'},\n",
       "             verbose=2)"
      ]
     },
     "execution_count": 42,
     "metadata": {},
     "output_type": "execute_result"
    }
   ],
   "source": [
    "scoring = {\"recall\": \"recall\", \"precision\": \"precision\", \"f1\" : \"f1\"}\n",
    "grid= GridSearchCV(model, param_grid= param_grid, cv= 3, n_jobs= 1, verbose= 2, scoring= scoring, refit='recall' ) #probar con lista ['f1','recall','precision']\n",
    "grid.fit(X_train, y_train)"
   ]
  },
  {
   "cell_type": "markdown",
   "metadata": {},
   "source": [
    "<a id='analisis-smote-mejor_estimador'></a>\n",
    "## Analisis del Mejor Estimador\n",
    "1. [Inicio ▲](#Indice)\n",
    "1. [Aplicando Smote ▲](#aplicando-smote)"
   ]
  },
  {
   "cell_type": "code",
   "execution_count": 43,
   "metadata": {},
   "outputs": [
    {
     "name": "stdout",
     "output_type": "stream",
     "text": [
      "<bound method BaseEstimator.get_params of GridSearchCV(cv=3,\n",
      "             estimator=Pipeline(steps=[('scale', StandardScaler()),\n",
      "                                       ('clf',\n",
      "                                        OversamplingClassifier(classifier=GaussianNB(),\n",
      "                                                               oversampler=<smote_variants._smote_variants.SMOTE_TomekLinks object at 0x000001A322F7CAF0>))]),\n",
      "             n_jobs=1,\n",
      "             param_grid={'clf__oversampler': [<smote_variants._smote_variants.distance_SMOTE object at 0x000001A322085690>,\n",
      "                                              <smote_variants._s...\n",
      "                                              <smote_variants._smote_variants.distance_SMOTE object at 0x000001A322F7D1B0>,\n",
      "                                              <smote_variants._smote_variants.distance_SMOTE object at 0x000001A322F7C250>,\n",
      "                                              <smote_variants._smote_variants.distance_SMOTE object at 0x000001A322F7DBD0>,\n",
      "                                              <smote_variants._smote_variants.distance_SMOTE object at 0x000001A322F7D150>]},\n",
      "             refit='recall',\n",
      "             scoring={'f1': 'f1', 'precision': 'precision', 'recall': 'recall'},\n",
      "             verbose=2)>\n",
      "  proportions    Recall  Precision        F1\n",
      "0         0.2  0.859821   0.878028  0.867947\n",
      "1         0.3  0.870917   0.875995  0.872541\n",
      "2         0.4  0.884280   0.871523  0.877315\n",
      "3         0.5  0.895391   0.871444  0.882510\n",
      "4         0.6  0.910977   0.871604  0.890158\n",
      "5         0.7  0.913229   0.867773  0.889344\n",
      "6         0.8  0.919866   0.853064  0.884565\n",
      "7         0.9  0.931022   0.847050  0.886580\n",
      "8         1.0  0.933214   0.845676  0.886896\n",
      "[1 0 0 0 1 0 0 0 1 1 0 0 1 0 0 0 1 1 0 1 0 0 0 0 0 1 1 0 0 0 0 0 1 0 0 0 1\n",
      " 1 1 1 1 0 0 0 1 0 0 0 1 1 0 0 0 0 0 0 0 0 0 0 0 0 1 0 1 1 0 0 0 1 0 1 0 1\n",
      " 1 0 1 0 1 1 0 1 1 0 0 0 0 1 0 1 1 0 0 1 1 1 0 1 0 0 0 0 0 1 0 0 0 0 0 1 0\n",
      " 0 0 1 0 0 0 1 1 1 0 1 0 1 0 0 0 0 0 0 1 1 0 0 0 1 0 0 0 1 1 0 0 0 0 0 0 0\n",
      " 0 0 1 0 1 1 0 0 0 1 1 0 0 0 0 0 1 1 0 0 0 0 1 1 0 1 0 0 1 1 0 0 0 0 1 0 0\n",
      " 0 0 0 0 0 0 0 0 1 0 1 0 1 1 1 1 1 0 0 1 1 0 0 0 1 0 0 0 1 0 0 0 0 0 1 0 0\n",
      " 0 1 1 0 1 0 1 0 0 0 1 0 0 1 1 0 0 0 0 1 0 1 0 0 1 1 0 0 0 1 0 0 0 1 0 1 0\n",
      " 0 0 1 0 1 0 1 0 0 1 0 1 0 0 0 1 1 1 1 1 0 0 0 0 0 1 1 0 0 1 0 0 0 1 0 0 0\n",
      " 0 1 0 1 0 0 0 0 1 1 0 0 0 1 1 1 1 0 0 1 1 1 0 0 0 0 0 0 1 0 1 0 0 0 0 1 0\n",
      " 0 1 1 0 0 0 1 0 0 0 0 1 0 1 0 0 1 1 1 0 0 1 1 1 0 1 1 1 0 0 0 1 1 1 0 0 0\n",
      " 1 1 0 0 0 0 1 0 1 1 0 0 0 1 1 0 0 0 0 0 1 1 0 0 0 1 1 0 0 0 1 0 1 0 1 0 1\n",
      " 0 0 0 1 0 0 1 1 1 0 1 1 1 0 0 1 0 0 1 0 0 0 0 1 1 1 0 0 0 1 0 0 1 0 0 1 1\n",
      " 0 1 1 0 1 0 0 1 0 1 0 1 0 0 1 1 0 1 0 0 0 0 0 0 0 0 0 0 0 0 0 1 0 0 1 0 1\n",
      " 0 0 0 0 0 0 0 0 1 1 0 0 0 0 1 1 0 0 1 0 0 1 0 0 1 0 0 1 0 0 0 0 0 0 1 0 0\n",
      " 1 1 1 0 1 0 0 0 0 0 0 1 0 1 0 0 0 1 0 0 1 0 1 1 0 0 1 0 1 1 1 0 0 0 1 0 0\n",
      " 0 1 1 1 1 1 0 0 0 0 1 1 0 0 1 1 1 0 0 0 1 0 0 1 0 0 0 0 0 0 1 0 0 0 0 0 1\n",
      " 0 1 0 0 0 1 1 1 0 0 0 1 0 0 1 0 0 1 0 0 1 1 0 1]\n",
      "Confusion matrix\n",
      "\n",
      " [[375  34]\n",
      " [ 15 192]]\n",
      "Calculo del F1 Score es:  0.8868360277136259\n",
      "PUNTAJE MEJOR ESTIMADOR:  0.9204545454545454\n"
     ]
    }
   ],
   "source": [
    "datos = {'proportions' : ['0.2', '0.3', '0.4', '0.5', '0.6', '0.7', '0.8', '0.9','1.0'],\n",
    "         'Recall' : grid.cv_results_['mean_test_recall'],\n",
    "         'Precision' : grid.cv_results_['mean_test_precision'],\n",
    "         'F1' : grid.cv_results_['mean_test_f1']}\n",
    "\n",
    "df = pd.DataFrame(datos)\n",
    "\n",
    "print(grid.get_params)\n",
    "print(df)\n",
    "\n",
    "y_pred = grid.best_estimator_.predict(X_test)\n",
    "\n",
    "print(y_pred)\n",
    "\n",
    "\n",
    "cm = confusion_matrix(y_test, y_pred)\n",
    "\n",
    "print('Confusion matrix\\n\\n', cm)\n",
    "\n",
    "def calculoF1_score(cm):\n",
    "    TP = cm[1,1]\n",
    "    TN = cm[0,0]\n",
    "    FP = cm[0,1]\n",
    "    FN = cm[1,0]\n",
    "    return (2*TP)/((2*TP)+FP+FN)\n",
    "\n",
    "print('Calculo del F1 Score es: ', calculoF1_score(cm))\n",
    "print('PUNTAJE MEJOR ESTIMADOR: ' , grid.best_estimator_.score(X_test, y_test))"
   ]
  },
  {
   "cell_type": "markdown",
   "metadata": {},
   "source": [
    "<a id='aplicando-smote-proportion'></a>\n",
    "## Aplicando SMOTE con las proportions modificadas\n",
    "[Inicio ▲](#Indice)"
   ]
  },
  {
   "cell_type": "code",
   "execution_count": 14,
   "metadata": {},
   "outputs": [],
   "source": [
    "import numpy as np"
   ]
  },
  {
   "cell_type": "code",
   "execution_count": 15,
   "metadata": {},
   "outputs": [
    {
     "name": "stdout",
     "output_type": "stream",
     "text": [
      "majority class: 1210\n",
      "minority class: 518\n"
     ]
    }
   ],
   "source": [
    "y_sinSmote = y.to_numpy()\n",
    "print('majority class: %d' % np.sum(y_sinSmote == 0))\n",
    "print('minority class: %d' % np.sum(y_sinSmote == 1))"
   ]
  },
  {
   "cell_type": "code",
   "execution_count": 16,
   "metadata": {},
   "outputs": [
    {
     "name": "stderr",
     "output_type": "stream",
     "text": [
      "2022-06-25 21:16:20,418:INFO:SMOTE: Running sampling via ('SMOTE', \"{'proportion': 0.7, 'n_neighbors': 5, 'n_jobs': 1, 'random_state': None}\")\n"
     ]
    },
    {
     "name": "stdout",
     "output_type": "stream",
     "text": [
      "majority class: 1210\n",
      "minority class: 1002\n"
     ]
    }
   ],
   "source": [
    "oversampler= sv.SMOTE(proportion=0.7)\n",
    "X_samp, y_samp= oversampler.sample(X.to_numpy(), y.to_numpy())\n",
    "print('majority class: %d' % np.sum(y_samp == 0))\n",
    "print('minority class: %d' % np.sum(y_samp == 1))"
   ]
  },
  {
   "cell_type": "code",
   "execution_count": 17,
   "metadata": {},
   "outputs": [
    {
     "data": {
      "text/html": [
       "<div>\n",
       "<style scoped>\n",
       "    .dataframe tbody tr th:only-of-type {\n",
       "        vertical-align: middle;\n",
       "    }\n",
       "\n",
       "    .dataframe tbody tr th {\n",
       "        vertical-align: top;\n",
       "    }\n",
       "\n",
       "    .dataframe thead th {\n",
       "        text-align: right;\n",
       "    }\n",
       "</style>\n",
       "<table border=\"1\" class=\"dataframe\">\n",
       "  <thead>\n",
       "    <tr style=\"text-align: right;\">\n",
       "      <th></th>\n",
       "      <th>0</th>\n",
       "      <th>1</th>\n",
       "      <th>2</th>\n",
       "      <th>3</th>\n",
       "      <th>4</th>\n",
       "      <th>5</th>\n",
       "      <th>col_class</th>\n",
       "    </tr>\n",
       "  </thead>\n",
       "  <tbody>\n",
       "    <tr>\n",
       "      <th>0</th>\n",
       "      <td>1.000000</td>\n",
       "      <td>1.0</td>\n",
       "      <td>1.000000</td>\n",
       "      <td>1.0</td>\n",
       "      <td>1.0</td>\n",
       "      <td>1.000000</td>\n",
       "      <td>0</td>\n",
       "    </tr>\n",
       "    <tr>\n",
       "      <th>1</th>\n",
       "      <td>1.000000</td>\n",
       "      <td>1.0</td>\n",
       "      <td>1.000000</td>\n",
       "      <td>1.0</td>\n",
       "      <td>1.0</td>\n",
       "      <td>2.000000</td>\n",
       "      <td>0</td>\n",
       "    </tr>\n",
       "    <tr>\n",
       "      <th>2</th>\n",
       "      <td>1.000000</td>\n",
       "      <td>1.0</td>\n",
       "      <td>1.000000</td>\n",
       "      <td>1.0</td>\n",
       "      <td>1.0</td>\n",
       "      <td>3.000000</td>\n",
       "      <td>0</td>\n",
       "    </tr>\n",
       "    <tr>\n",
       "      <th>3</th>\n",
       "      <td>1.000000</td>\n",
       "      <td>1.0</td>\n",
       "      <td>1.000000</td>\n",
       "      <td>1.0</td>\n",
       "      <td>2.0</td>\n",
       "      <td>1.000000</td>\n",
       "      <td>0</td>\n",
       "    </tr>\n",
       "    <tr>\n",
       "      <th>4</th>\n",
       "      <td>1.000000</td>\n",
       "      <td>1.0</td>\n",
       "      <td>1.000000</td>\n",
       "      <td>1.0</td>\n",
       "      <td>2.0</td>\n",
       "      <td>2.000000</td>\n",
       "      <td>0</td>\n",
       "    </tr>\n",
       "    <tr>\n",
       "      <th>...</th>\n",
       "      <td>...</td>\n",
       "      <td>...</td>\n",
       "      <td>...</td>\n",
       "      <td>...</td>\n",
       "      <td>...</td>\n",
       "      <td>...</td>\n",
       "      <td>...</td>\n",
       "    </tr>\n",
       "    <tr>\n",
       "      <th>2207</th>\n",
       "      <td>3.000000</td>\n",
       "      <td>3.0</td>\n",
       "      <td>1.218778</td>\n",
       "      <td>3.0</td>\n",
       "      <td>3.0</td>\n",
       "      <td>3.000000</td>\n",
       "      <td>1</td>\n",
       "    </tr>\n",
       "    <tr>\n",
       "      <th>2208</th>\n",
       "      <td>2.064279</td>\n",
       "      <td>3.0</td>\n",
       "      <td>2.000000</td>\n",
       "      <td>2.0</td>\n",
       "      <td>1.0</td>\n",
       "      <td>3.000000</td>\n",
       "      <td>1</td>\n",
       "    </tr>\n",
       "    <tr>\n",
       "      <th>2209</th>\n",
       "      <td>3.000000</td>\n",
       "      <td>4.0</td>\n",
       "      <td>4.000000</td>\n",
       "      <td>2.0</td>\n",
       "      <td>3.0</td>\n",
       "      <td>2.752826</td>\n",
       "      <td>1</td>\n",
       "    </tr>\n",
       "    <tr>\n",
       "      <th>2210</th>\n",
       "      <td>3.061667</td>\n",
       "      <td>3.0</td>\n",
       "      <td>3.000000</td>\n",
       "      <td>3.0</td>\n",
       "      <td>3.0</td>\n",
       "      <td>3.000000</td>\n",
       "      <td>1</td>\n",
       "    </tr>\n",
       "    <tr>\n",
       "      <th>2211</th>\n",
       "      <td>4.000000</td>\n",
       "      <td>2.0</td>\n",
       "      <td>4.000000</td>\n",
       "      <td>3.0</td>\n",
       "      <td>3.0</td>\n",
       "      <td>2.029831</td>\n",
       "      <td>1</td>\n",
       "    </tr>\n",
       "  </tbody>\n",
       "</table>\n",
       "<p>2212 rows × 7 columns</p>\n",
       "</div>"
      ],
      "text/plain": [
       "             0    1         2    3    4         5  col_class\n",
       "0     1.000000  1.0  1.000000  1.0  1.0  1.000000          0\n",
       "1     1.000000  1.0  1.000000  1.0  1.0  2.000000          0\n",
       "2     1.000000  1.0  1.000000  1.0  1.0  3.000000          0\n",
       "3     1.000000  1.0  1.000000  1.0  2.0  1.000000          0\n",
       "4     1.000000  1.0  1.000000  1.0  2.0  2.000000          0\n",
       "...        ...  ...       ...  ...  ...       ...        ...\n",
       "2207  3.000000  3.0  1.218778  3.0  3.0  3.000000          1\n",
       "2208  2.064279  3.0  2.000000  2.0  1.0  3.000000          1\n",
       "2209  3.000000  4.0  4.000000  2.0  3.0  2.752826          1\n",
       "2210  3.061667  3.0  3.000000  3.0  3.0  3.000000          1\n",
       "2211  4.000000  2.0  4.000000  3.0  3.0  2.029831          1\n",
       "\n",
       "[2212 rows x 7 columns]"
      ]
     },
     "execution_count": 17,
     "metadata": {},
     "output_type": "execute_result"
    }
   ],
   "source": [
    "dfSmote = pd.DataFrame(X_samp)\n",
    "dfSmote = dfSmote.assign(col_class = y_samp)\n",
    "dfSmote"
   ]
  },
  {
   "cell_type": "code",
   "execution_count": 18,
   "metadata": {},
   "outputs": [
    {
     "data": {
      "text/html": [
       "<div>\n",
       "<style scoped>\n",
       "    .dataframe tbody tr th:only-of-type {\n",
       "        vertical-align: middle;\n",
       "    }\n",
       "\n",
       "    .dataframe tbody tr th {\n",
       "        vertical-align: top;\n",
       "    }\n",
       "\n",
       "    .dataframe thead th {\n",
       "        text-align: right;\n",
       "    }\n",
       "</style>\n",
       "<table border=\"1\" class=\"dataframe\">\n",
       "  <thead>\n",
       "    <tr style=\"text-align: right;\">\n",
       "      <th></th>\n",
       "      <th>0</th>\n",
       "      <th>1</th>\n",
       "      <th>2</th>\n",
       "      <th>3</th>\n",
       "      <th>4</th>\n",
       "      <th>5</th>\n",
       "      <th>col_class</th>\n",
       "    </tr>\n",
       "  </thead>\n",
       "  <tbody>\n",
       "    <tr>\n",
       "      <th>0</th>\n",
       "      <td>1.000000</td>\n",
       "      <td>1.0</td>\n",
       "      <td>1.000000</td>\n",
       "      <td>1.0</td>\n",
       "      <td>1.0</td>\n",
       "      <td>1.000000</td>\n",
       "      <td>0</td>\n",
       "    </tr>\n",
       "    <tr>\n",
       "      <th>1</th>\n",
       "      <td>1.000000</td>\n",
       "      <td>1.0</td>\n",
       "      <td>1.000000</td>\n",
       "      <td>1.0</td>\n",
       "      <td>1.0</td>\n",
       "      <td>2.000000</td>\n",
       "      <td>0</td>\n",
       "    </tr>\n",
       "    <tr>\n",
       "      <th>2</th>\n",
       "      <td>1.000000</td>\n",
       "      <td>1.0</td>\n",
       "      <td>1.000000</td>\n",
       "      <td>1.0</td>\n",
       "      <td>1.0</td>\n",
       "      <td>3.000000</td>\n",
       "      <td>0</td>\n",
       "    </tr>\n",
       "    <tr>\n",
       "      <th>3</th>\n",
       "      <td>1.000000</td>\n",
       "      <td>1.0</td>\n",
       "      <td>1.000000</td>\n",
       "      <td>1.0</td>\n",
       "      <td>2.0</td>\n",
       "      <td>1.000000</td>\n",
       "      <td>0</td>\n",
       "    </tr>\n",
       "    <tr>\n",
       "      <th>4</th>\n",
       "      <td>1.000000</td>\n",
       "      <td>1.0</td>\n",
       "      <td>1.000000</td>\n",
       "      <td>1.0</td>\n",
       "      <td>2.0</td>\n",
       "      <td>2.000000</td>\n",
       "      <td>0</td>\n",
       "    </tr>\n",
       "    <tr>\n",
       "      <th>...</th>\n",
       "      <td>...</td>\n",
       "      <td>...</td>\n",
       "      <td>...</td>\n",
       "      <td>...</td>\n",
       "      <td>...</td>\n",
       "      <td>...</td>\n",
       "      <td>...</td>\n",
       "    </tr>\n",
       "    <tr>\n",
       "      <th>2207</th>\n",
       "      <td>3.000000</td>\n",
       "      <td>3.0</td>\n",
       "      <td>1.218778</td>\n",
       "      <td>3.0</td>\n",
       "      <td>3.0</td>\n",
       "      <td>3.000000</td>\n",
       "      <td>1</td>\n",
       "    </tr>\n",
       "    <tr>\n",
       "      <th>2208</th>\n",
       "      <td>2.064279</td>\n",
       "      <td>3.0</td>\n",
       "      <td>2.000000</td>\n",
       "      <td>2.0</td>\n",
       "      <td>1.0</td>\n",
       "      <td>3.000000</td>\n",
       "      <td>1</td>\n",
       "    </tr>\n",
       "    <tr>\n",
       "      <th>2209</th>\n",
       "      <td>3.000000</td>\n",
       "      <td>4.0</td>\n",
       "      <td>4.000000</td>\n",
       "      <td>2.0</td>\n",
       "      <td>3.0</td>\n",
       "      <td>2.752826</td>\n",
       "      <td>1</td>\n",
       "    </tr>\n",
       "    <tr>\n",
       "      <th>2210</th>\n",
       "      <td>3.061667</td>\n",
       "      <td>3.0</td>\n",
       "      <td>3.000000</td>\n",
       "      <td>3.0</td>\n",
       "      <td>3.0</td>\n",
       "      <td>3.000000</td>\n",
       "      <td>1</td>\n",
       "    </tr>\n",
       "    <tr>\n",
       "      <th>2211</th>\n",
       "      <td>4.000000</td>\n",
       "      <td>2.0</td>\n",
       "      <td>4.000000</td>\n",
       "      <td>3.0</td>\n",
       "      <td>3.0</td>\n",
       "      <td>2.029831</td>\n",
       "      <td>1</td>\n",
       "    </tr>\n",
       "  </tbody>\n",
       "</table>\n",
       "<p>2212 rows × 7 columns</p>\n",
       "</div>"
      ],
      "text/plain": [
       "             0    1         2    3    4         5  col_class\n",
       "0     1.000000  1.0  1.000000  1.0  1.0  1.000000          0\n",
       "1     1.000000  1.0  1.000000  1.0  1.0  2.000000          0\n",
       "2     1.000000  1.0  1.000000  1.0  1.0  3.000000          0\n",
       "3     1.000000  1.0  1.000000  1.0  2.0  1.000000          0\n",
       "4     1.000000  1.0  1.000000  1.0  2.0  2.000000          0\n",
       "...        ...  ...       ...  ...  ...       ...        ...\n",
       "2207  3.000000  3.0  1.218778  3.0  3.0  3.000000          1\n",
       "2208  2.064279  3.0  2.000000  2.0  1.0  3.000000          1\n",
       "2209  3.000000  4.0  4.000000  2.0  3.0  2.752826          1\n",
       "2210  3.061667  3.0  3.000000  3.0  3.0  3.000000          1\n",
       "2211  4.000000  2.0  4.000000  3.0  3.0  2.029831          1\n",
       "\n",
       "[2212 rows x 7 columns]"
      ]
     },
     "execution_count": 18,
     "metadata": {},
     "output_type": "execute_result"
    }
   ],
   "source": [
    "dfSmote"
   ]
  },
  {
   "cell_type": "code",
   "execution_count": 19,
   "metadata": {},
   "outputs": [
    {
     "data": {
      "text/plain": [
       "Text(0.5, 1.0, 'Distribucion de clases aplicando SMOTE \\n con un proportion = 0.7')"
      ]
     },
     "execution_count": 19,
     "metadata": {},
     "output_type": "execute_result"
    },
    {
     "data": {
      "image/png": "[encoded data removed]",
      "text/plain": [
       "<Figure size 432x288 with 1 Axes>"
      ]
     },
     "metadata": {
      "needs_background": "light"
     },
     "output_type": "display_data"
    }
   ],
   "source": [
    "ax =  sns.countplot(x='col_class', data=dfSmote, palette='rocket')\n",
    "\n",
    "abs_values = dfSmote['col_class'].value_counts(ascending=False).values\n",
    "\n",
    "ax.set_ylabel('Ejemplos')\n",
    "ax.set_xlabel('Evaluacion del Automovil: 0 = inaceptable, 1 = aceptable')\n",
    "ax.bar_label(container=ax.containers[0], labels=abs_values)\n",
    "ax.set_title('Distribucion de clases aplicando SMOTE \\n con un proportion = 0.7')"
   ]
  },
  {
   "cell_type": "markdown",
   "metadata": {},
   "source": [
    "<a id='smote-matriz_confusion'></a>\n",
    "## SMOTE: Matriz de Confusion\n",
    "[Inicio ▲](#Indice)"
   ]
  },
  {
   "cell_type": "code",
   "execution_count": 20,
   "metadata": {},
   "outputs": [
    {
     "name": "stdout",
     "output_type": "stream",
     "text": [
      "Confusion matrix\n",
      "\n",
      " [[364  39]\n",
      " [  4 323]]\n",
      "              precision    recall  f1-score   support\n",
      "\n",
      "           0       0.99      0.90      0.94       403\n",
      "           1       0.89      0.99      0.94       327\n",
      "\n",
      "    accuracy                           0.94       730\n",
      "   macro avg       0.94      0.95      0.94       730\n",
      "weighted avg       0.95      0.94      0.94       730\n",
      "\n"
     ]
    }
   ],
   "source": [
    "X_train, X_test, y_train, y_test = train_test_split(X_samp, y_samp, test_size= 0.33, random_state=42)\n",
    "clasifier = RandomForestClassifier(max_depth=3, random_state=0)\n",
    "\n",
    "# fit the model\n",
    "\n",
    "clasifier.fit(X_train,y_train)\n",
    "y_pred=clasifier.predict(X_test)\n",
    "cm = confusion_matrix(y_test, y_pred)\n",
    "\n",
    "print('Confusion matrix\\n\\n', cm)\n",
    "print(classification_report(y_test, y_pred))"
   ]
  },
  {
   "cell_type": "markdown",
   "metadata": {},
   "source": [
    "<a id='smote-ipf-proportion0.7'></a>\n",
    "## SMOTE IPF con proportion modificado\n",
    "[Inicio ▲](#Indice)"
   ]
  },
  {
   "cell_type": "code",
   "execution_count": 21,
   "metadata": {},
   "outputs": [
    {
     "name": "stderr",
     "output_type": "stream",
     "text": [
      "2022-06-25 21:16:21,091:INFO:SMOTE_IPF: Running sampling via ('SMOTE_IPF', \"{'proportion': 0.7, 'n_neighbors': 5, 'n_folds': 9, 'k': 3, 'p': 0.01, 'voting': 'majority', 'n_jobs': 1, 'classifier': DecisionTreeClassifier(random_state=2), 'random_state': None}\")\n",
      "2022-06-25 21:16:21,093:INFO:SMOTE: Running sampling via ('SMOTE', \"{'proportion': 0.7, 'n_neighbors': 5, 'n_jobs': 1, 'random_state': <module 'numpy.random' from 'C:\\\\\\\\Users\\\\\\\\FamiliaNatelloMedina\\\\\\\\AppData\\\\\\\\Roaming\\\\\\\\Python\\\\\\\\Python310\\\\\\\\site-packages\\\\\\\\numpy\\\\\\\\random\\\\\\\\__init__.py'>}\")\n",
      "2022-06-25 21:16:21,129:INFO:SMOTE_IPF: Removing 0 elements\n",
      "2022-06-25 21:16:21,157:INFO:SMOTE_IPF: Removing 0 elements\n",
      "2022-06-25 21:16:21,181:INFO:SMOTE_IPF: Removing 0 elements\n"
     ]
    }
   ],
   "source": [
    "oversampler_ipf= sv.SMOTE_IPF(proportion=0.7)\n",
    "X_ipf, y_ipf= oversampler_ipf.sample(X.to_numpy(), y.to_numpy())"
   ]
  },
  {
   "cell_type": "code",
   "execution_count": 22,
   "metadata": {},
   "outputs": [
    {
     "name": "stdout",
     "output_type": "stream",
     "text": [
      "majority class: 1210\n",
      "minority class: 1002\n"
     ]
    }
   ],
   "source": [
    "print('majority class: %d' % np.sum(y_ipf == 0))\n",
    "print('minority class: %d' % np.sum(y_ipf == 1))"
   ]
  },
  {
   "cell_type": "code",
   "execution_count": 23,
   "metadata": {},
   "outputs": [
    {
     "data": {
      "text/plain": [
       "Text(0.5, 1.0, 'Distribucion de clases aplicando SMOTE IPF \\n con un proportion = 0.7')"
      ]
     },
     "execution_count": 23,
     "metadata": {},
     "output_type": "execute_result"
    },
    {
     "data": {
      "image/png": "[encoded data removed]",
      "text/plain": [
       "<Figure size 432x288 with 1 Axes>"
      ]
     },
     "metadata": {
      "needs_background": "light"
     },
     "output_type": "display_data"
    }
   ],
   "source": [
    "dfSmoteIPF = pd.DataFrame(X_ipf)\n",
    "dfSmoteIPF = dfSmoteIPF.assign(col_class = y_ipf)\n",
    "dfSmoteIPF\n",
    "ax =  sns.countplot(x='col_class', data=dfSmoteIPF, palette='rocket')\n",
    "\n",
    "abs_values = dfSmoteIPF['col_class'].value_counts(ascending=False).values\n",
    "\n",
    "ax.set_ylabel('Ejemplos')\n",
    "ax.set_xlabel('Evaluacion del Automovil:\\n 0 = inaceptable, 1 = aceptable')\n",
    "ax.bar_label(container=ax.containers[0], labels=abs_values)\n",
    "ax.set_title('Distribucion de clases aplicando SMOTE IPF \\n con un proportion = 0.7')"
   ]
  },
  {
   "cell_type": "markdown",
   "metadata": {},
   "source": [
    "<a id='smote_ipf-matriz_confusion'></a>\n",
    "## SMOTE-IPF: Matriz de Confusion\n",
    "[Inicio ▲](#Indice)"
   ]
  },
  {
   "cell_type": "code",
   "execution_count": 24,
   "metadata": {},
   "outputs": [
    {
     "name": "stdout",
     "output_type": "stream",
     "text": [
      "Confusion matrix\n",
      "\n",
      " [[366  37]\n",
      " [  3 324]]\n",
      "              precision    recall  f1-score   support\n",
      "\n",
      "           0       0.99      0.91      0.95       403\n",
      "           1       0.90      0.99      0.94       327\n",
      "\n",
      "    accuracy                           0.95       730\n",
      "   macro avg       0.94      0.95      0.95       730\n",
      "weighted avg       0.95      0.95      0.95       730\n",
      "\n"
     ]
    }
   ],
   "source": [
    "X_train, X_test, y_train, y_test = train_test_split(X_ipf, y_ipf, test_size= 0.33, random_state=42)\n",
    "clasifier = RandomForestClassifier(max_depth=3, random_state=0)\n",
    "\n",
    "# fit the model\n",
    "\n",
    "clasifier.fit(X_train,y_train)\n",
    "y_pred=clasifier.predict(X_test)\n",
    "cm = confusion_matrix(y_test, y_pred)\n",
    "\n",
    "print('Confusion matrix\\n\\n', cm)\n",
    "print(classification_report(y_test, y_pred))"
   ]
  },
  {
   "cell_type": "markdown",
   "metadata": {},
   "source": [
    "<a id='smote_enn-proportion0.7'></a>\n",
    "## SMOTE ENN con proportion modificado\n",
    "[Inicio ▲](#Indice)"
   ]
  },
  {
   "cell_type": "code",
   "execution_count": 25,
   "metadata": {},
   "outputs": [
    {
     "name": "stderr",
     "output_type": "stream",
     "text": [
      "2022-06-25 21:16:21,767:INFO:SMOTE_ENN: Running sampling via ('SMOTE_ENN', \"{'proportion': 0.5, 'n_neighbors': 5, 'n_jobs': 1, 'random_state': None}\")\n",
      "2022-06-25 21:16:21,768:INFO:SMOTE: Running sampling via ('SMOTE', \"{'proportion': 0.5, 'n_neighbors': 5, 'n_jobs': 1, 'random_state': <module 'numpy.random' from 'C:\\\\\\\\Users\\\\\\\\FamiliaNatelloMedina\\\\\\\\AppData\\\\\\\\Roaming\\\\\\\\Python\\\\\\\\Python310\\\\\\\\site-packages\\\\\\\\numpy\\\\\\\\random\\\\\\\\__init__.py'>}\")\n",
      "2022-06-25 21:16:21,778:INFO:EditedNearestNeighbors: Running noise removal via EditedNearestNeighbors\n"
     ]
    },
    {
     "name": "stdout",
     "output_type": "stream",
     "text": [
      "majority class: 1208\n",
      "minority class: 815\n"
     ]
    }
   ],
   "source": [
    "oversampler_enn= sv.SMOTE_ENN(proportion=0.5)\n",
    "X_enn, y_enn= oversampler_enn.sample(X.to_numpy(), y.to_numpy())\n",
    "print('majority class: %d' % np.sum(y_enn == 0))\n",
    "print('minority class: %d' % np.sum(y_enn == 1))"
   ]
  },
  {
   "cell_type": "code",
   "execution_count": 26,
   "metadata": {},
   "outputs": [
    {
     "data": {
      "text/plain": [
       "Text(0.5, 1.0, 'Distribucion de clases aplicando SMOTE ENN \\n con un proportion = 0.5')"
      ]
     },
     "execution_count": 26,
     "metadata": {},
     "output_type": "execute_result"
    },
    {
     "data": {
      "image/png": "[encoded data removed]",
      "text/plain": [
       "<Figure size 432x288 with 1 Axes>"
      ]
     },
     "metadata": {
      "needs_background": "light"
     },
     "output_type": "display_data"
    }
   ],
   "source": [
    "dfSmoteENN = pd.DataFrame(X_enn)\n",
    "dfSmoteENN = dfSmoteENN.assign(col_class = y_enn)\n",
    "dfSmoteENN\n",
    "ax =  sns.countplot(x='col_class', data=dfSmoteENN, palette='rocket')\n",
    "\n",
    "abs_values = dfSmoteENN['col_class'].value_counts(ascending=False).values\n",
    "\n",
    "ax.set_ylabel('Ejemplos')\n",
    "ax.set_xlabel('Evaluacion del Automovil:\\n 0 = inaceptable, 1 = aceptable')\n",
    "ax.bar_label(container=ax.containers[0], labels=abs_values)\n",
    "ax.set_title('Distribucion de clases aplicando SMOTE ENN \\n con un proportion = 0.5')"
   ]
  },
  {
   "cell_type": "markdown",
   "metadata": {},
   "source": [
    "<a id='smote_enn-matriz_confusion'></a>\n",
    "## SMOTE-ENN: Matriz de Confusion\n",
    "[Inicio ▲](#Indice)"
   ]
  },
  {
   "cell_type": "code",
   "execution_count": 27,
   "metadata": {},
   "outputs": [
    {
     "name": "stdout",
     "output_type": "stream",
     "text": [
      "Confusion matrix\n",
      "\n",
      " [[371  34]\n",
      " [  9 254]]\n",
      "              precision    recall  f1-score   support\n",
      "\n",
      "           0       0.98      0.92      0.95       405\n",
      "           1       0.88      0.97      0.92       263\n",
      "\n",
      "    accuracy                           0.94       668\n",
      "   macro avg       0.93      0.94      0.93       668\n",
      "weighted avg       0.94      0.94      0.94       668\n",
      "\n"
     ]
    }
   ],
   "source": [
    "X_train, X_test, y_train, y_test = train_test_split(X_enn, y_enn, test_size= 0.33, random_state=42)\n",
    "clasifier = RandomForestClassifier(max_depth=3, random_state=0)\n",
    "\n",
    "# fit the model\n",
    "\n",
    "clasifier.fit(X_train,y_train)\n",
    "y_pred=clasifier.predict(X_test)\n",
    "cm = confusion_matrix(y_test, y_pred)\n",
    "\n",
    "print('Confusion matrix\\n\\n', cm)\n",
    "print(classification_report(y_test, y_pred))"
   ]
  },
  {
   "cell_type": "markdown",
   "metadata": {},
   "source": [
    "<a id='smote-tomekLinks-proportion0.7'></a>\n",
    "## SMOTE TOMEKLinks con proportion modificado\n",
    "[Inicio ▲](#Indice)"
   ]
  },
  {
   "cell_type": "code",
   "execution_count": 28,
   "metadata": {},
   "outputs": [
    {
     "name": "stderr",
     "output_type": "stream",
     "text": [
      "2022-06-25 21:16:22,403:INFO:SMOTE_TomekLinks: Running sampling via ('SMOTE_TomekLinks', \"{'proportion': 0.2, 'n_neighbors': 5, 'n_jobs': 1, 'random_state': None}\")\n",
      "2022-06-25 21:16:22,404:INFO:SMOTE: Running sampling via ('SMOTE', \"{'proportion': 0.2, 'n_neighbors': 5, 'n_jobs': 1, 'random_state': <module 'numpy.random' from 'C:\\\\\\\\Users\\\\\\\\FamiliaNatelloMedina\\\\\\\\AppData\\\\\\\\Roaming\\\\\\\\Python\\\\\\\\Python310\\\\\\\\site-packages\\\\\\\\numpy\\\\\\\\random\\\\\\\\__init__.py'>}\")\n",
      "2022-06-25 21:16:22,413:INFO:TomekLinkRemoval: Running noise removal via TomekLinkRemoval\n"
     ]
    },
    {
     "name": "stdout",
     "output_type": "stream",
     "text": [
      "majority class: 1210\n",
      "minority class: 656\n"
     ]
    }
   ],
   "source": [
    "oversampler_klinks= sv.SMOTE_TomekLinks(proportion=0.2)\n",
    "X_tklinks, y_tklinks= oversampler_klinks.sample(X.to_numpy(), y.to_numpy())\n",
    "print('majority class: %d' % np.sum(y_tklinks == 0))\n",
    "print('minority class: %d' % np.sum(y_tklinks == 1))"
   ]
  },
  {
   "cell_type": "code",
   "execution_count": 29,
   "metadata": {},
   "outputs": [
    {
     "data": {
      "text/plain": [
       "Text(0.5, 1.0, 'Distribucion de clases aplicando SMOTE Tomek-links \\n con un proportion = 0.2')"
      ]
     },
     "execution_count": 29,
     "metadata": {},
     "output_type": "execute_result"
    },
    {
     "data": {
      "image/png": "[encoded data removed]",
      "text/plain": [
       "<Figure size 432x288 with 1 Axes>"
      ]
     },
     "metadata": {
      "needs_background": "light"
     },
     "output_type": "display_data"
    }
   ],
   "source": [
    "dfSmoteTKLinks = pd.DataFrame(X_tklinks)\n",
    "dfSmoteTKLinks = dfSmoteTKLinks.assign(col_class = y_tklinks)\n",
    "dfSmoteTKLinks\n",
    "ax =  sns.countplot(x='col_class', data=dfSmoteTKLinks, palette='rocket')\n",
    "\n",
    "abs_values = dfSmoteTKLinks['col_class'].value_counts(ascending=False).values\n",
    "\n",
    "ax.set_ylabel('Ejemplos')\n",
    "ax.set_xlabel('Evaluacion del Automovil:\\n 0 = inaceptable, 1 = aceptable')\n",
    "ax.bar_label(container=ax.containers[0], labels=abs_values)\n",
    "ax.set_title('Distribucion de clases aplicando SMOTE Tomek-links \\n con un proportion = 0.2')"
   ]
  },
  {
   "cell_type": "markdown",
   "metadata": {},
   "source": [
    "<a id='smote-tklinks-matriz_confusion'></a>\n",
    "## SMOTE-TomeKLinks: Matriz de Confusion\n",
    "[Inicio ▲](#Indice)"
   ]
  },
  {
   "cell_type": "code",
   "execution_count": 30,
   "metadata": {},
   "outputs": [
    {
     "name": "stdout",
     "output_type": "stream",
     "text": [
      "Confusion matrix\n",
      "\n",
      " [[386  23]\n",
      " [ 19 188]]\n",
      "              precision    recall  f1-score   support\n",
      "\n",
      "           0       0.95      0.94      0.95       409\n",
      "           1       0.89      0.91      0.90       207\n",
      "\n",
      "    accuracy                           0.93       616\n",
      "   macro avg       0.92      0.93      0.92       616\n",
      "weighted avg       0.93      0.93      0.93       616\n",
      "\n"
     ]
    }
   ],
   "source": [
    "X_train, X_test, y_train, y_test = train_test_split(X_tklinks, y_tklinks, test_size= 0.33, random_state=42)\n",
    "clasifier = RandomForestClassifier(max_depth=3, random_state=0)\n",
    "\n",
    "# fit the model\n",
    "\n",
    "clasifier.fit(X_train,y_train)\n",
    "y_pred=clasifier.predict(X_test)\n",
    "cm = confusion_matrix(y_test, y_pred)\n",
    "\n",
    "print('Confusion matrix\\n\\n', cm)\n",
    "print(classification_report(y_test, y_pred))"
   ]
  },
  {
   "cell_type": "code",
   "execution_count": 31,
   "metadata": {},
   "outputs": [
    {
     "data": {
      "text/plain": [
       "Text(30.5, 0.5, 'true')"
      ]
     },
     "execution_count": 31,
     "metadata": {},
     "output_type": "execute_result"
    },
    {
     "data": {
      "image/png": "[encoded data removed]",
      "text/plain": [
       "<Figure size 432x288 with 2 Axes>"
      ]
     },
     "metadata": {},
     "output_type": "display_data"
    }
   ],
   "source": [
    "import matplotlib.pyplot as plt\n",
    "\n",
    "sns.set()\n",
    "f,ax=plt.subplots()\n",
    "sns.heatmap(cm,annot=True,ax=ax) #Dibuja un mapa de calor\n",
    "\n",
    "ax.set_title('Matriz de Confusion') #título\n",
    "ax.set_xlabel('Predicciones') #eje x\n",
    "ax.set_ylabel('true') #eje y"
   ]
  }
 ],
 "metadata": {
  "interpreter": {
   "hash": "eabca979b0553fa6d87e9a00c352604d3b703d4afc9641643dd42376492b80f6"
  },
  "kernelspec": {
   "display_name": "Python 3.10.2 64-bit",
   "language": "python",
   "name": "python3"
  },
  "language_info": {
   "codemirror_mode": {
    "name": "ipython",
    "version": 3
   },
   "file_extension": ".py",
   "mimetype": "text/x-python",
   "name": "python",
   "nbconvert_exporter": "python",
   "pygments_lexer": "ipython3",
   "version": "3.10.2"
  },
  "orig_nbformat": 4
 },
 "nbformat": 4,
 "nbformat_minor": 2
}
