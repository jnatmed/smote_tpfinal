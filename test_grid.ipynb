{
 "cells": [
  {
   "cell_type": "code",
   "execution_count": 1,
   "metadata": {},
   "outputs": [
    {
     "name": "stderr",
     "output_type": "stream",
     "text": [
      "2022-07-24 18:04:17,340:INFO:MulticlassOversampling: Running multiclass oversampling with strategy eq_1_vs_many_successive\n",
      "2022-07-24 18:04:17,341:INFO:MulticlassOversampling: Sampling minority class with label: 1\n",
      "2022-07-24 18:04:17,343:INFO:distance_SMOTE: Running sampling via ('distance_SMOTE', \"{'proportion': 1.0, 'n_neighbors': 5, 'n_jobs': 1, 'random_state': None}\")\n",
      "2022-07-24 18:04:17,366:INFO:distance_SMOTE: Running sampling via ('distance_SMOTE', \"{'proportion': 0.5, 'n_neighbors': 5, 'n_jobs': 1, 'random_state': None}\")\n",
      "2022-07-24 18:04:17,382:INFO:distance_SMOTE: Running sampling via ('distance_SMOTE', \"{'proportion': 0.5, 'n_neighbors': 5, 'n_jobs': 1, 'random_state': None}\")\n",
      "2022-07-24 18:04:17,398:INFO:distance_SMOTE: Running sampling via ('distance_SMOTE', \"{'proportion': 0.5, 'n_neighbors': 5, 'n_jobs': 1, 'random_state': None}\")\n",
      "2022-07-24 18:04:17,412:INFO:distance_SMOTE: Running sampling via ('distance_SMOTE', \"{'proportion': 1.0, 'n_neighbors': 5, 'n_jobs': 1, 'random_state': None}\")\n",
      "2022-07-24 18:04:17,436:INFO:distance_SMOTE: Running sampling via ('distance_SMOTE', \"{'proportion': 1.0, 'n_neighbors': 5, 'n_jobs': 1, 'random_state': None}\")\n",
      "2022-07-24 18:04:17,455:INFO:distance_SMOTE: Running sampling via ('distance_SMOTE', \"{'proportion': 1.0, 'n_neighbors': 5, 'n_jobs': 1, 'random_state': None}\")\n",
      "2022-07-24 18:04:17,476:INFO:distance_SMOTE: Running sampling via ('distance_SMOTE', \"{'proportion': 1.5, 'n_neighbors': 5, 'n_jobs': 1, 'random_state': None}\")\n",
      "2022-07-24 18:04:17,502:INFO:distance_SMOTE: Running sampling via ('distance_SMOTE', \"{'proportion': 1.5, 'n_neighbors': 5, 'n_jobs': 1, 'random_state': None}\")\n",
      "2022-07-24 18:04:17,529:INFO:distance_SMOTE: Running sampling via ('distance_SMOTE', \"{'proportion': 1.5, 'n_neighbors': 5, 'n_jobs': 1, 'random_state': None}\")\n"
     ]
    },
    {
     "name": "stdout",
     "output_type": "stream",
     "text": [
      "Fitting 3 folds for each of 3 candidates, totalling 9 fits\n",
      "[CV] END clf__oversampler=('distance_SMOTE', \"{'proportion': 0.5, 'n_neighbors': 5, 'n_jobs': 1, 'random_state': None}\"); total time=   0.0s\n",
      "[CV] END clf__oversampler=('distance_SMOTE', \"{'proportion': 0.5, 'n_neighbors': 5, 'n_jobs': 1, 'random_state': None}\"); total time=   0.0s\n",
      "[CV] END clf__oversampler=('distance_SMOTE', \"{'proportion': 0.5, 'n_neighbors': 5, 'n_jobs': 1, 'random_state': None}\"); total time=   0.0s\n",
      "[CV] END clf__oversampler=('distance_SMOTE', \"{'proportion': 1.0, 'n_neighbors': 5, 'n_jobs': 1, 'random_state': None}\"); total time=   0.0s\n",
      "[CV] END clf__oversampler=('distance_SMOTE', \"{'proportion': 1.0, 'n_neighbors': 5, 'n_jobs': 1, 'random_state': None}\"); total time=   0.0s\n",
      "[CV] END clf__oversampler=('distance_SMOTE', \"{'proportion': 1.0, 'n_neighbors': 5, 'n_jobs': 1, 'random_state': None}\"); total time=   0.0s\n",
      "[CV] END clf__oversampler=('distance_SMOTE', \"{'proportion': 1.5, 'n_neighbors': 5, 'n_jobs': 1, 'random_state': None}\"); total time=   0.0s\n",
      "[CV] END clf__oversampler=('distance_SMOTE', \"{'proportion': 1.5, 'n_neighbors': 5, 'n_jobs': 1, 'random_state': None}\"); total time=   0.0s\n"
     ]
    },
    {
     "name": "stderr",
     "output_type": "stream",
     "text": [
      "2022-07-24 18:04:17,554:INFO:distance_SMOTE: Running sampling via ('distance_SMOTE', \"{'proportion': 0.5, 'n_neighbors': 5, 'n_jobs': 1, 'random_state': None}\")\n"
     ]
    },
    {
     "name": "stdout",
     "output_type": "stream",
     "text": [
      "[CV] END clf__oversampler=('distance_SMOTE', \"{'proportion': 1.5, 'n_neighbors': 5, 'n_jobs': 1, 'random_state': None}\"); total time=   0.0s\n",
      "0.9222222222222222\n",
      "{'mean_fit_time': array([0.00834839, 0.01451961, 0.01799043]), 'std_fit_time': array([0.00125925, 0.00151107, 0.00244795]), 'mean_score_time': array([0.00647672, 0.00599543, 0.00699441]), 'std_score_time': array([5.44100706e-05, 1.12391596e-07, 2.15788301e-03]), 'param_clf__oversampler': masked_array(data=[<smote_variants._smote_variants.distance_SMOTE object at 0x00000148C5F8A2C0>,\n",
      "                   <smote_variants._smote_variants.distance_SMOTE object at 0x00000148C5F8AA40>,\n",
      "                   <smote_variants._smote_variants.distance_SMOTE object at 0x00000148C5F8B280>],\n",
      "             mask=[False, False, False],\n",
      "       fill_value='?',\n",
      "            dtype=object), 'params': [{'clf__oversampler': <smote_variants._smote_variants.distance_SMOTE object at 0x00000148C5F8A2C0>}, {'clf__oversampler': <smote_variants._smote_variants.distance_SMOTE object at 0x00000148C5F8AA40>}, {'clf__oversampler': <smote_variants._smote_variants.distance_SMOTE object at 0x00000148C5F8B280>}], 'split0_test_score': array([0.83333333, 0.80833333, 0.81666667]), 'split1_test_score': array([0.96666667, 0.94166667, 0.925     ]), 'split2_test_score': array([0.96666667, 0.96666667, 0.96666667]), 'mean_test_score': array([0.92222222, 0.90555556, 0.90277778]), 'std_test_score': array([0.06285394, 0.06949998, 0.06322115]), 'rank_test_score': array([1, 2, 3])}\n"
     ]
    }
   ],
   "source": [
    "# coding: utf-8\n",
    "\n",
    "# # Integration with sklearn pipelines\n",
    "# \n",
    "# In this notebook, provide some illustration for integration with sklearn pipelines.\n",
    "\n",
    "# In[1]:\n",
    "\n",
    "\n",
    "import keras\n",
    "import imblearn\n",
    "\n",
    "import numpy as np\n",
    "\n",
    "import smote_variants as sv\n",
    "import imblearn.datasets as imb_datasets\n",
    "\n",
    "from sklearn.model_selection import train_test_split, GridSearchCV\n",
    "from sklearn.pipeline import Pipeline\n",
    "from sklearn.preprocessing import StandardScaler\n",
    "from sklearn.neighbors import KNeighborsClassifier\n",
    "\n",
    "random_seed= 3\n",
    "\n",
    "\n",
    "# ## Preparing the data\n",
    "\n",
    "# In[2]:\n",
    "\n",
    "\n",
    "np.random.seed(random_seed)\n",
    "\n",
    "\n",
    "# In[3]:\n",
    "\n",
    "\n",
    "libras= imb_datasets.fetch_datasets()['libras_move']\n",
    "X, y= libras['data'], libras['target']\n",
    "\n",
    "\n",
    "# In[4]:\n",
    "\n",
    "\n",
    "X_train, X_test, y_train, y_test= train_test_split(X, y, test_size= 0.33)\n",
    "\n",
    "\n",
    "# ## Fitting a pipeline\n",
    "\n",
    "# In[5]:\n",
    "\n",
    "\n",
    "oversampler= sv.MulticlassOversampling(sv.distance_SMOTE())\n",
    "classifier= KNeighborsClassifier(n_neighbors= 5)\n",
    "\n",
    "\n",
    "# In[6]:\n",
    "\n",
    "\n",
    "model= Pipeline([('scale', StandardScaler()), ('clf', sv.OversamplingClassifier(oversampler, classifier))])\n",
    "\n",
    "\n",
    "# In[7]:\n",
    "\n",
    "\n",
    "model.fit(X, y)\n",
    "\n",
    "\n",
    "# ## Grid search\n",
    "\n",
    "# In[8]:\n",
    "\n",
    "\n",
    "param_grid= {'clf__oversampler':[sv.distance_SMOTE(proportion=0.5),\n",
    "                                 sv.distance_SMOTE(proportion=1.0),\n",
    "                                 sv.distance_SMOTE(proportion=1.5)]}\n",
    "\n",
    "\n",
    "# In[9]:\n",
    "\n",
    "\n",
    "grid= GridSearchCV(model, param_grid= param_grid, cv= 3, n_jobs= 1, verbose= 2, scoring= 'accuracy')\n",
    "\n",
    "\n",
    "# In[10]:\n",
    "\n",
    "\n",
    "grid.fit(X, y)\n",
    "\n",
    "\n",
    "# In[11]:\n",
    "\n",
    "\n",
    "print(grid.best_score_)\n",
    "print(grid.cv_results_)"
   ]
  },
  {
   "cell_type": "code",
   "execution_count": 1,
   "metadata": {},
   "outputs": [
    {
     "data": {
      "image/png": "[encoded data removed]",
      "text/plain": [
       "<Figure size 432x288 with 1 Axes>"
      ]
     },
     "metadata": {
      "needs_background": "light"
     },
     "output_type": "display_data"
    }
   ],
   "source": [
    "import numpy as np\n",
    "import matplotlib.pyplot as plt\n",
    "\n",
    "edades = np.array([4, 17, 29, 33, 50, 51, 61, 71, 85, 92, 99])\n",
    "\n",
    "plt.yticks(np.arange(0, 110, 5))\n",
    "plt.grid(True)\n",
    "plt.boxplot(edades)\n",
    "plt.show()\n"
   ]
  },
  {
   "cell_type": "code",
   "execution_count": 2,
   "metadata": {},
   "outputs": [
    {
     "data": {
      "text/plain": [
       "(4, 31.0, 51.0, 78.0, 99)"
      ]
     },
     "execution_count": 2,
     "metadata": {},
     "output_type": "execute_result"
    }
   ],
   "source": [
    "(np.min(edades), np.quantile(edades, 0.25), np.median(edades),\n",
    "np.quantile(edades, 0.75), np.max(edades))\n",
    "(4, 31.0, 51.0, 78.0, 99)\n"
   ]
  },
  {
   "cell_type": "code",
   "execution_count": 3,
   "metadata": {},
   "outputs": [
    {
     "data": {
      "image/png": "[encoded data removed]",
      "text/plain": [
       "<Figure size 432x288 with 1 Axes>"
      ]
     },
     "metadata": {
      "needs_background": "light"
     },
     "output_type": "display_data"
    }
   ],
   "source": [
    "edades = np.array([6, \n",
    "                   41, 51, 51, 52, 54, 57, 60, 61, 65, \n",
    "                   95, 100])\n",
    "\n",
    "plt.grid(True)\n",
    "plt.yticks(np.arange(0, 110, 5))\n",
    "plt.boxplot(edades)\n",
    "plt.show()"
   ]
  },
  {
   "cell_type": "code",
   "execution_count": null,
   "metadata": {},
   "outputs": [],
   "source": []
  }
 ],
 "metadata": {
  "kernelspec": {
   "display_name": "Python 3.10.2 64-bit",
   "language": "python",
   "name": "python3"
  },
  "language_info": {
   "codemirror_mode": {
    "name": "ipython",
    "version": 3
   },
   "file_extension": ".py",
   "mimetype": "text/x-python",
   "name": "python",
   "nbconvert_exporter": "python",
   "pygments_lexer": "ipython3",
   "version": "3.10.2"
  },
  "orig_nbformat": 4,
  "vscode": {
   "interpreter": {
    "hash": "eabca979b0553fa6d87e9a00c352604d3b703d4afc9641643dd42376492b80f6"
   }
  }
 },
 "nbformat": 4,
 "nbformat_minor": 2
}
